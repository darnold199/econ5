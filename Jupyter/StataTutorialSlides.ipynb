{
 "cells": [
  {
   "cell_type": "markdown",
   "metadata": {
    "slideshow": {
     "slide_type": "slide"
    }
   },
   "source": [
    "\n",
    "<h1 style=\"color:Blue;\"><center>Introduction to STATA</center> </h1>\n"
   ]
  },
  {
   "cell_type": "markdown",
   "metadata": {
    "cell_style": "split",
    "slideshow": {
     "slide_type": "slide"
    }
   },
   "source": [
    "The STATA interface:\n",
    "\n",
    "<img src=\"img/statainterface2.png\">"
   ]
  },
  {
   "cell_type": "markdown",
   "metadata": {
    "cell_style": "split",
    "slideshow": {
     "slide_type": "fragment"
    }
   },
   "source": [
    "\n",
    "<ul>\n",
    "    <li><strong>Command Window</strong> -- Where you type commands \n",
    "    <li><strong>Results Viewer</strong> -- Where the results of those commands appear\n",
    "    <li><strong>Variables Window</strong> -- Where your variables will be listed\n",
    "    <li><strong>Properties Window</strong> -- Shows the properties of those variables\n"
   ]
  },
  {
   "cell_type": "markdown",
   "metadata": {
    "slideshow": {
     "slide_type": "slide"
    }
   },
   "source": [
    "Can use to STATA as a calculator using the <code><u>di</u>splay</code> (``di`` for short) command"
   ]
  },
  {
   "cell_type": "code",
   "execution_count": 1,
   "metadata": {
    "slideshow": {
     "slide_type": "fragment"
    }
   },
   "outputs": [
    {
     "name": "stdout",
     "output_type": "stream",
     "text": [
      "4\n"
     ]
    }
   ],
   "source": [
    "di 2+2 "
   ]
  },
  {
   "cell_type": "code",
   "execution_count": 2,
   "metadata": {
    "slideshow": {
     "slide_type": "fragment"
    }
   },
   "outputs": [
    {
     "name": "stdout",
     "output_type": "stream",
     "text": [
      "6\n"
     ]
    }
   ],
   "source": [
    "di 2*3"
   ]
  },
  {
   "cell_type": "markdown",
   "metadata": {
    "slideshow": {
     "slide_type": "fragment"
    }
   },
   "source": [
    "Or use ``display`` to print text"
   ]
  },
  {
   "cell_type": "code",
   "execution_count": 3,
   "metadata": {
    "slideshow": {
     "slide_type": "fragment"
    }
   },
   "outputs": [
    {
     "name": "stdout",
     "output_type": "stream",
     "text": [
      "Hello World\n"
     ]
    }
   ],
   "source": [
    "di \"Hello World\""
   ]
  },
  {
   "cell_type": "markdown",
   "metadata": {
    "slideshow": {
     "slide_type": "slide"
    }
   },
   "source": [
    "\n",
    "**Workflow** is how you organize your data, code, etc. While very important in research and business, often not discussed and people often learn through making a lot of mistakes.\n",
    "\n",
    "Good workflow can take time to set up, but will save you a lot of time down the road. "
   ]
  },
  {
   "cell_type": "markdown",
   "metadata": {
    "cell_style": "split",
    "slideshow": {
     "slide_type": "slide"
    }
   },
   "source": [
    "<img src = \"img/baddirectory1.png\" width=\"600\">"
   ]
  },
  {
   "cell_type": "markdown",
   "metadata": {
    "cell_style": "split",
    "slideshow": {
     "slide_type": "fragment"
    }
   },
   "source": [
    "This is a **bad** project directory\n",
    "<ul>\n",
    "    <li> What is the \"correct\" dataset?\n",
    "    <li> What is temp vs. misc?\n",
    "    <li> How can I replicate my writeup later?\n",
    "<ul>\n",
    "    \n",
    "    \n",
    "    \n",
    "    \n",
    "    \n",
    "    \n",
    "    \n",
    "    "
   ]
  },
  {
   "cell_type": "markdown",
   "metadata": {
    "cell_style": "split",
    "slideshow": {
     "slide_type": "slide"
    }
   },
   "source": [
    "<center><img src = \"img/gooddirectory2.png\" width=\"600\"></center>"
   ]
  },
  {
   "cell_type": "markdown",
   "metadata": {
    "cell_style": "split",
    "slideshow": {
     "slide_type": "fragment"
    }
   },
   "source": [
    "This is a **good** project directory:\n",
    "<ul>\n",
    "    <li> Clear where everything goes\n",
    "    <li> Make sure the subfolders do not get messy like the previous example!\n",
    "<ul>\n",
    "    \n",
    "    \n",
    "     "
   ]
  },
  {
   "cell_type": "markdown",
   "metadata": {
    "slideshow": {
     "slide_type": "slide"
    }
   },
   "source": [
    "We will almost never write commands directly into the command window. Instead we will use a \"do-file\""
   ]
  },
  {
   "cell_type": "markdown",
   "metadata": {
    "slideshow": {
     "slide_type": "slide"
    }
   },
   "source": [
    "<center><img src = \"img/dofile1.png\" width=\"800\"></center>"
   ]
  },
  {
   "cell_type": "markdown",
   "metadata": {
    "cell_style": "center",
    "slideshow": {
     "slide_type": "slide"
    }
   },
   "source": [
    "<img src = \"img/dofile3.png\">"
   ]
  },
  {
   "cell_type": "markdown",
   "metadata": {
    "slideshow": {
     "slide_type": "slide"
    }
   },
   "source": [
    "At the top of every do-file, you should open up a **log file**. A log file record your session in STATA (everything you type and every result that comes out of the command window)\n",
    "\n",
    "Helpful with (1) looking at long list of output (2) reproducing your own work (3) sending code and results to others\n",
    "\n",
    "To open a logfile:"
   ]
  },
  {
   "cell_type": "code",
   "execution_count": 4,
   "metadata": {
    "slideshow": {
     "slide_type": "fragment"
    }
   },
   "outputs": [
    {
     "name": "stdout",
     "output_type": "stream",
     "text": [
      "--------------------------------------------------------------------------------\n",
      "      name:  <unnamed>\n",
      "       log:  /Users/davidarnold/Dropbox/Teaching/ECON5/Jupyter/code/tutorial_log\n",
      "> file.log\n",
      "  log type:  text\n",
      " opened on:  22 Aug 2020, 15:14:43\n"
     ]
    }
   ],
   "source": [
    "log using tutorial_logfile, text replace"
   ]
  },
  {
   "cell_type": "markdown",
   "metadata": {
    "slideshow": {
     "slide_type": "fragment"
    }
   },
   "source": [
    "When I finish my session I can go look at \"tutorial_logfile.log\" to see what I did."
   ]
  },
  {
   "cell_type": "markdown",
   "metadata": {
    "slideshow": {
     "slide_type": "slide"
    }
   },
   "source": [
    "Before we get to analyzing the data, we first need to load it into STATA. To do so we need to learn about the **working directory**\n",
    "\n",
    "The working directory is just a file path on your computer that the program will have as the default path to load in data or save files\n",
    "\n",
    "To check what you have set as your working directory use the ``pwd`` command (short for print working directory)"
   ]
  },
  {
   "cell_type": "code",
   "execution_count": 5,
   "metadata": {
    "slideshow": {
     "slide_type": "fragment"
    }
   },
   "outputs": [
    {
     "name": "stdout",
     "output_type": "stream",
     "text": [
      "/Users/davidarnold/Dropbox/Teaching/ECON5/Jupyter/code\n"
     ]
    }
   ],
   "source": [
    "pwd"
   ]
  },
  {
   "cell_type": "markdown",
   "metadata": {
    "slideshow": {
     "slide_type": "fragment"
    }
   },
   "source": [
    "You should set your working directory at the beginning of all your do-files. To change your working directory, use the ``cd`` command (short for change directory)"
   ]
  },
  {
   "cell_type": "code",
   "execution_count": 6,
   "metadata": {
    "slideshow": {
     "slide_type": "fragment"
    }
   },
   "outputs": [
    {
     "name": "stdout",
     "output_type": "stream",
     "text": [
      "/Users/davidarnold/Dropbox/Teaching/ECON5/Jupyter/code\n"
     ]
    }
   ],
   "source": [
    "cd /Users/davidarnold/Dropbox/Teaching/ECON5/Jupyter/code"
   ]
  },
  {
   "cell_type": "markdown",
   "metadata": {
    "slideshow": {
     "slide_type": "slide"
    }
   },
   "source": [
    "Now that we are setup, let's load some data.\n",
    "\n",
    "Today's application: how do colleges promote intergenerational mobility and how does this vary across colleges?\n",
    "    <ul>\n",
    "        <li> Higher education widely viewed as path for upward mobility\n",
    "        <li> But if elite institutions mainly benefit student from high-income backgrounds, higher education may amplify intergenerational income inequality\n",
    "    </ul>\n",
    "        \n",
    "This question has been nearly impossible to answer due to data constraints. Need (1) to link children to their parents (2) have income information for both children and parents and (3) link children to their college. This is a herculean data task!"
   ]
  },
  {
   "cell_type": "markdown",
   "metadata": {
    "slideshow": {
     "slide_type": "slide"
    }
   },
   "source": [
    "Researchers at [Opportunity Insights](https://opportunityinsights.org/) have collected such a dataset by linking children to parents using federal income tax returns and then linking children to institutions using education data\n",
    "\n",
    "Therefore, we can look in the data and see which colleges admit students from low-income backgrounds and then produce high-income graduates (i.e. what colleges promote intergenerational income mobility)\n",
    "\n",
    "They do this for **every college** in the U.S.\n",
    "\n",
    "Also, they make this data available to other researchers (today us!)"
   ]
  },
  {
   "cell_type": "markdown",
   "metadata": {
    "slideshow": {
     "slide_type": "slide"
    }
   },
   "source": [
    "The ``use`` command allows us to load data in STATA. We also specify ``, replace`` which tells STATA to replace any data that is currently loaded into STATA with the new dataset we want to use:"
   ]
  },
  {
   "cell_type": "code",
   "execution_count": 7,
   "metadata": {
    "slideshow": {
     "slide_type": "fragment"
    }
   },
   "outputs": [
    {
     "name": "stdout",
     "output_type": "stream",
     "text": [
      "(Preferred Estimates of Access and Mobility Rates by College)\n"
     ]
    }
   ],
   "source": [
    "use ../data/mrc.dta, replace"
   ]
  },
  {
   "cell_type": "markdown",
   "metadata": {
    "slideshow": {
     "slide_type": "fragment"
    }
   },
   "source": [
    "Short aside: I took advantage of **relative paths** here to load the data. There is a dataset on my computer in the **absolute path** \"/Users/davidarnold/Dropbox/Teaching/ECON5/Jupyter/data\"\n",
    "\n",
    "My working directory is in \"/Users/davidarnold/Dropbox/Teaching/ECON5/Jupyter/code\"\n",
    "\n",
    "Therefore, I can specify the relative path \"../data/\" to enter the \"data\" folder. The \"../\" tells the computer to look back one folder and then look for a folder named \"data\". If no folder had existed, I would have gotten an error."
   ]
  },
  {
   "cell_type": "markdown",
   "metadata": {
    "slideshow": {
     "slide_type": "slide"
    }
   },
   "source": [
    "Let's explore the variables in this dataset with the ``describe`` command"
   ]
  },
  {
   "cell_type": "code",
   "execution_count": 8,
   "metadata": {
    "slideshow": {
     "slide_type": "fragment"
    }
   },
   "outputs": [
    {
     "name": "stdout",
     "output_type": "stream",
     "text": [
      "\n",
      "Contains data from ../data/mrc.dta\n",
      "  obs:         2,202                          Preferred Estimates of Access\n",
      "                                                and Mobility Rates by College\n",
      " vars:             7                          21 Aug 2020 15:11\n",
      "--------------------------------------------------------------------------------\n",
      "              storage   display    value\n",
      "variable name   type    format     label      variable label\n",
      "--------------------------------------------------------------------------------\n",
      "name            str141  %141s                 Name of Institution / Super-OPEID\n",
      "                                                Cluster\n",
      "state           str2    %9s                   State of constituent instition\n",
      "                                                with highest enrollment\n",
      "par_median      double  %9.0g                 Median parental income\n",
      "k_median        float   %9.0g                 Median kid income\n",
      "par_q1          float   %9.0g                 Fraction of parents in quintile 1\n",
      "                                                (bottom quintile)\n",
      "kq5_cond_parq1  float   %9.0g                 Probability of kid in quintile 5\n",
      "                                                conditional on parent in\n",
      "                                                quintile 1\n",
      "count           double  %12.0g                Mean number of kids per cohort\n",
      "--------------------------------------------------------------------------------\n",
      "Sorted by: \n"
     ]
    }
   ],
   "source": [
    "describe "
   ]
  },
  {
   "cell_type": "markdown",
   "metadata": {
    "slideshow": {
     "slide_type": "fragment"
    }
   },
   "source": [
    "<ul>\n",
    "    <li> Quintile 1 is bottom 20 percent of the income distribution\n",
    "    <li> Quintile 5 is top 20 percent of the income distribution\n",
    "</ul>"
   ]
  },
  {
   "cell_type": "markdown",
   "metadata": {
    "slideshow": {
     "slide_type": "slide"
    }
   },
   "source": [
    "Let's look at some summary statistics for median parental income (``par_median``) using the ``summarize`` command. \n",
    "    "
   ]
  },
  {
   "cell_type": "code",
   "execution_count": 9,
   "metadata": {
    "slideshow": {
     "slide_type": "fragment"
    }
   },
   "outputs": [
    {
     "name": "stdout",
     "output_type": "stream",
     "text": [
      "\n",
      "    Variable |        Obs        Mean    Std. Dev.       Min        Max\n",
      "-------------+---------------------------------------------------------\n",
      "  par_median |      2,202    77695.46    28463.28      21200     226700\n"
     ]
    }
   ],
   "source": [
    "summarize par_median"
   ]
  },
  {
   "cell_type": "markdown",
   "metadata": {
    "slideshow": {
     "slide_type": "fragment"
    }
   },
   "source": [
    "Imagine we want to know more about the ``summarize`` command. Commands in STATA come with a help file. These are extremely useful. Whenever using a new command, it is a good idea to look up the help file.\n",
    "\n",
    "STATA makes this easy to do with the ``help`` command."
   ]
  },
  {
   "cell_type": "code",
   "execution_count": 10,
   "metadata": {
    "scrolled": true,
    "slideshow": {
     "slide_type": "slide"
    }
   },
   "outputs": [
    {
     "name": "stdout",
     "output_type": "stream",
     "text": [
      "\n",
      "[R] summarize -- Summary statistics\n",
      "                 (View complete PDF manual entry)\n",
      "\n",
      "\n",
      "Syntax\n",
      "------\n",
      "\n",
      "        summarize [varlist] [if] [in] [weight] [, options]\n",
      "\n",
      "    options           Description\n",
      "    --------------------------------------------------------------------------\n",
      "    Main\n",
      "      detail          display additional statistics\n",
      "      meanonly        suppress the display; calculate only the mean;\n",
      "                        programmer's option\n",
      "      format          use variable's display format\n",
      "      separator(#)    draw separator line after every # variables; default is\n",
      "                        separator(5)\n",
      "      display_options control spacing, line width, and base and empty cells\n",
      "\n",
      "    --------------------------------------------------------------------------\n",
      "    varlist may contain factor variables; see fvvarlist.\n",
      "    varlist may contain time-series operators; see tsvarlist.\n",
      "    by, rolling, and statsby are allowed; see prefix.\n",
      "  \n",
      "    aweights, fweights, and iweights are allowed.  However, iweights may not\n",
      "      be used with the detail option; see weight.\n",
      "\n",
      "\n",
      "Menu\n",
      "----\n",
      "\n",
      "    Statistics > Summaries, tables, and tests > Summary and descriptive\n",
      "        statistics > Summary statistics\n",
      "\n",
      "\n",
      "Description\n",
      "-----------\n",
      "\n",
      "    summarize calculates and displays a variety of univariate summary\n",
      "    statistics.  If no varlist is specified, summary statistics are calculated\n",
      "    for all the variables in the dataset.\n",
      "\n",
      "\n",
      "Links to PDF documentation\n",
      "--------------------------\n",
      "\n",
      "        Quick start\n",
      "\n",
      "        Remarks and examples\n",
      "\n",
      "        Methods and formulas\n",
      "\n",
      "    The above sections are not included in this help file.\n",
      "\n",
      "\n",
      "Options\n",
      "-------\n",
      "\n",
      "        +------+\n",
      "    ----+ Main +--------------------------------------------------------------\n",
      "\n",
      "    detail produces additional statistics, including skewness, kurtosis, the\n",
      "        four smallest and four largest values, and various percentiles.\n",
      "\n",
      "    meanonly, which is allowed only when detail is not specified, suppresses\n",
      "        the display of results and calculation of the variance.  Ado-file\n",
      "        writers will find this useful for fast calls.\n",
      "\n",
      "    format requests that the summary statistics be displayed using the display\n",
      "        formats associated with the variables rather than the default g\n",
      "        display format; see [D] format.\n",
      "\n",
      "    separator(#) specifies how often to insert separation lines into the\n",
      "        output.  The default is separator(5), meaning that a line is drawn\n",
      "        after every five variables.  separator(10) would draw a line after\n",
      "        every 10 variables.  separator(0) suppresses the separation line.\n",
      "\n",
      "    display_options:  vsquish, noemptycells, baselevels, allbaselevels,\n",
      "        nofvlabel, fvwrap(#), and fvwrapon(style); see [R] Estimation options.\n",
      "\n",
      "\n",
      "Examples\n",
      "--------\n",
      "\n",
      "    . sysuse auto\n",
      "    . summarize\n",
      "    . summarize mpg weight\n",
      "    . summarize mpg weight if foreign\n",
      "    . summarize mpg weight if foreign, detail\n",
      "    . summarize i.rep78\n",
      "\n",
      "\n",
      "Video example\n",
      "-------------\n",
      "\n",
      "    Descriptive statistics in Stata\n",
      "--more--\n",
      "\n"
     ]
    }
   ],
   "source": [
    "help summarize"
   ]
  },
  {
   "cell_type": "markdown",
   "metadata": {
    "slideshow": {
     "slide_type": "slide"
    }
   },
   "source": [
    "Let's use the ``, detail`` option to learn more above median parental income across colleges"
   ]
  },
  {
   "cell_type": "code",
   "execution_count": 11,
   "metadata": {
    "slideshow": {
     "slide_type": "fragment"
    }
   },
   "outputs": [
    {
     "name": "stdout",
     "output_type": "stream",
     "text": [
      "\n",
      "                   Median parental income\n",
      "-------------------------------------------------------------\n",
      "      Percentiles      Smallest\n",
      " 1%        29300          21200\n",
      " 5%        37800          23900\n",
      "10%        45100          25100       Obs               2,202\n",
      "25%        59100          26400       Sum of Wgt.       2,202\n",
      "\n",
      "50%        74300                      Mean           77695.46\n",
      "                        Largest       Std. Dev.      28463.28\n",
      "75%        91700         208900\n",
      "90%       110300         218100       Variance       8.10e+08\n",
      "95%       128200         219600       Skewness       1.222058\n",
      "99%       176900         226700       Kurtosis       5.948575\n"
     ]
    }
   ],
   "source": [
    "summarize par_median, detail"
   ]
  },
  {
   "cell_type": "markdown",
   "metadata": {
    "slideshow": {
     "slide_type": "slide"
    }
   },
   "source": [
    "We will frequently need to **generate** new variables in STATA. In this example, we will generate the mobility rate for each college, defined as:\n",
    "\n",
    "$$\n",
    "\\begin{equation}\n",
    "\\text{mobility rate} = \\text{fraction from bottom quintile} \\times \\text{fraction from bottom quintile that reach top quintile}\n",
    "\\end{equation}\n",
    "$$\n",
    "\n",
    "Intuition: If a college admits a large fraction of low-income students (the first term) and these students become high-earners (the second term), then this school promotes interegenerational income mobility.\n",
    "\n",
    "\"fraction of students from bottom quintile\" is given by the variable ``par_q1``\n",
    "\n",
    "\"fraction bottom that reach top quintile\" is given by ``kq5_cond_parq1``"
   ]
  },
  {
   "cell_type": "code",
   "execution_count": 12,
   "metadata": {
    "slideshow": {
     "slide_type": "fragment"
    }
   },
   "outputs": [],
   "source": [
    "gen mobility_rate = par_q1*kq5_cond_parq1"
   ]
  },
  {
   "cell_type": "markdown",
   "metadata": {
    "slideshow": {
     "slide_type": "slide"
    }
   },
   "source": [
    "Let's compare mobility rates of colleges in California vs. all other states\n",
    "\n",
    "To do so we will create a binary variable"
   ]
  },
  {
   "cell_type": "code",
   "execution_count": 13,
   "metadata": {
    "slideshow": {
     "slide_type": "fragment"
    }
   },
   "outputs": [],
   "source": [
    "gen CA_ind = (state==\"CA\")"
   ]
  },
  {
   "cell_type": "markdown",
   "metadata": {
    "slideshow": {
     "slide_type": "fragment"
    }
   },
   "source": [
    "The variable ``CA_ind`` will be and indicator variable equal to 1 if the college is in California and 0 otherwise\n",
    "\n",
    "Note the double equals sign (``==``). The way to \"read\" this command is \"if state is equal to CA, then set CA_ind=1, if state is not equal to CA, then set CA_ind=0\"\n",
    "\n",
    "Double equals in STATA are used when you are testing equality of two things. Single equals are for setting the value of a variable to something"
   ]
  },
  {
   "cell_type": "markdown",
   "metadata": {
    "slideshow": {
     "slide_type": "slide"
    }
   },
   "source": [
    "A useful way to describe binary (or categorical) variables is to use the ``tab`` command, which counts the number of observations in each cell defined by the binary (or categorical) variable (or the combination of multiple binary/categorical variables). For example:"
   ]
  },
  {
   "cell_type": "code",
   "execution_count": 14,
   "metadata": {
    "slideshow": {
     "slide_type": "fragment"
    }
   },
   "outputs": [
    {
     "name": "stdout",
     "output_type": "stream",
     "text": [
      "\n",
      "     CA_ind |      Freq.     Percent        Cum.\n",
      "------------+-----------------------------------\n",
      "          0 |      2,034       92.37       92.37\n",
      "          1 |        168        7.63      100.00\n",
      "------------+-----------------------------------\n",
      "      Total |      2,202      100.00\n"
     ]
    }
   ],
   "source": [
    "tab CA"
   ]
  },
  {
   "cell_type": "markdown",
   "metadata": {
    "slideshow": {
     "slide_type": "fragment"
    }
   },
   "source": [
    "168 of the colleges in the dataset are in California. \n",
    "\n",
    "Let's see how mobility rates compare across CA and other states"
   ]
  },
  {
   "cell_type": "code",
   "execution_count": 15,
   "metadata": {
    "slideshow": {
     "slide_type": "slide"
    }
   },
   "outputs": [
    {
     "name": "stdout",
     "output_type": "stream",
     "text": [
      "\n",
      "\n",
      "    Variable |        Obs        Mean    Std. Dev.       Min        Max\n",
      "-------------+---------------------------------------------------------\n",
      "mobility_r~e |        168    .0275095    .0154819          0   .0991846\n",
      "      par_q1 |        168    .1443805    .0889914   .0321324   .4606968\n",
      "kq5_cond_p~1 |        168    .2481358    .1638556          0   .8497473\n",
      "\n",
      "\n",
      "    Variable |        Obs        Mean    Std. Dev.       Min        Max\n",
      "-------------+---------------------------------------------------------\n",
      "mobility_r~e |      2,034     .017511    .0126387          0   .1635797\n",
      "      par_q1 |      2,034    .1234973    .0880145   .0111896   .6097748\n",
      "kq5_cond_p~1 |      2,034    .1917753    .1360376          0   .9192932\n"
     ]
    }
   ],
   "source": [
    "sum mobility_rate par_q1 kq5_cond_parq1 if CA==1\n",
    "sum mobility_rate par_q1 kq5_cond_parq1 if CA==0"
   ]
  },
  {
   "cell_type": "markdown",
   "metadata": {
    "slideshow": {
     "slide_type": "fragment"
    }
   },
   "source": [
    "<strong> Interpretation </strong>\n",
    "<ul>\n",
    "    <li> Mobility rates are higher in CA (0.027 vs 0.17)\n",
    "    <li> This is driven by two factors \n",
    "        <ul>\n",
    "            <li> More students from low-income backgrounds (0.14 vs. 0.12)\n",
    "            <li> Low-income students more likely to become high-income (0.25 vs. 0.19)\n",
    "         </ul>\n",
    "</ul>\n",
    "\n",
    "Now let's look at the data for UCSD in particular!"
   ]
  },
  {
   "cell_type": "code",
   "execution_count": 16,
   "metadata": {
    "slideshow": {
     "slide_type": "slide"
    }
   },
   "outputs": [
    {
     "name": "stdout",
     "output_type": "stream",
     "text": [
      "\n",
      "    Variable |        Obs        Mean    Std. Dev.       Min        Max\n",
      "-------------+---------------------------------------------------------\n",
      "mobility_r~e |          1    .0483275           .   .0483275   .0483275\n",
      "      par_q1 |          1    .0877724           .   .0877724   .0877724\n",
      "kq5_cond_p~1 |          1    .5506001           .   .5506001   .5506001\n"
     ]
    }
   ],
   "source": [
    "sum mobility_rate par_q1 kq5_cond_parq1 if name == \"University Of California, San Diego\""
   ]
  },
  {
   "cell_type": "markdown",
   "metadata": {
    "slideshow": {
     "slide_type": "fragment"
    }
   },
   "source": [
    "<strong> Interpretation </strong>\n",
    "\n",
    "<ul>\n",
    "    <li> Mobility rates are quite a bit higher at UCSD relative to CA \n",
    "        <ul>\n",
    "            <li> Fewer students come from low-income backgrounds (0.09 vs. 0.14)\n",
    "            <li> But those that do are very likely to become high earners (0.55 vs. 0.25)\n",
    "        </ul>\n",
    "    <li> Overall, this latter effect dominates, leading to high mobility rates for UCSD   \n",
    "</ul>\n",
    "\n"
   ]
  },
  {
   "cell_type": "markdown",
   "metadata": {
    "slideshow": {
     "slide_type": "slide"
    }
   },
   "source": [
    "## Graphing in Stata\n",
    "\n",
    "What we have done so far has been helpful to learn more about the dataset and STATA commands\n",
    "\n",
    "But data visualization is **essential** for understanding and communicating data\n",
    "\n",
    "Let's see what STATA has to offer in terms of graphics"
   ]
  },
  {
   "cell_type": "code",
   "execution_count": 17,
   "metadata": {
    "scrolled": true,
    "slideshow": {
     "slide_type": "slide"
    }
   },
   "outputs": [
    {
     "name": "stdout",
     "output_type": "stream",
     "text": [
      "\n",
      "[G-2] graph -- The graph command\n",
      "               (View complete PDF manual entry)\n",
      "\n",
      "\n",
      "Syntax\n",
      "------\n",
      "\n",
      "        graph ...\n",
      "\n",
      "    The commands that draw graphs are\n",
      "\n",
      "        Command                 Description\n",
      "        ----------------------------------------------------------------------\n",
      "        graph twoway            scatterplots, line plots, etc.\n",
      "        graph matrix            scatterplot matrices\n",
      "        graph bar               bar charts\n",
      "        graph dot               dot charts\n",
      "        graph box               box-and-whisker plots\n",
      "        graph pie               pie charts\n",
      "        other                   more commands to draw statistical graphs\n",
      "        ----------------------------------------------------------------------\n",
      "\n",
      "    The commands that save a previously drawn graph, redisplay previously\n",
      "    saved graphs, and combine graphs are\n",
      "\n",
      "        Command                 Description\n",
      "        ----------------------------------------------------------------------\n",
      "        graph save              save graph to disk\n",
      "        graph use               redisplay graph stored on disk\n",
      "        graph display           redisplay graph stored in memory\n",
      "        graph combine           combine multiple graphs\n",
      "        graph replay            redisplay graphs stored in memory and on disk\n",
      "        ----------------------------------------------------------------------\n",
      "\n",
      "    The commands for printing a graph are\n",
      "\n",
      "        Command                 Description\n",
      "        ----------------------------------------------------------------------\n",
      "        graph print             print currently displayed graph\n",
      "        set printcolor          set how colors are printed\n",
      "        graph export            export .gph file to PostScript, etc.\n",
      "        ----------------------------------------------------------------------\n",
      "\n",
      "    The commands that deal with the graphs currently stored in memory are\n",
      "\n",
      "        Command                 Description\n",
      "        ----------------------------------------------------------------------\n",
      "        graph display           display graph\n",
      "        graph dir               list names\n",
      "        graph describe          describe contents\n",
      "        graph rename            rename memory graph\n",
      "        graph copy              copy memory graph to new name\n",
      "        graph drop              discard graphs in memory\n",
      "        graph close             close Graph windows\n",
      "        ----------------------------------------------------------------------\n",
      "        Also see [G-2] graph manipulation.\n",
      "\n",
      "    The commands that describe available schemes and allow you to identify and\n",
      "    set the default scheme are\n",
      "\n",
      "        Command                 Description\n",
      "        ----------------------------------------------------------------------\n",
      "        graph query, schemes    list available schemes\n",
      "        query graphics          identify default scheme\n",
      "        set scheme              set default scheme\n",
      "        ----------------------------------------------------------------------\n",
      "        Also see [G-4] Schemes intro.\n",
      "\n",
      "    The command that lists available styles is\n",
      "\n",
      "        Command                 Description\n",
      "        ----------------------------------------------------------------------\n",
      "        graph query             list available styles\n",
      "        ----------------------------------------------------------------------\n",
      "\n",
      "    The command for setting options for printing and exporting graphs is\n",
      "\n",
      "        Command                 Description\n",
      "        ----------------------------------------------------------------------\n",
      "        graph set               set graphics options\n",
      "        ----------------------------------------------------------------------\n",
      "\n",
      "    The command that allows you to draw graphs without displaying them is\n",
      "\n",
      "        Command                 Description\n",
      "        ----------------------------------------------------------------------\n",
      "        set graphics            set whether graphs are displayed\n",
      "        ----------------------------------------------------------------------\n",
      "\n",
      "\n",
      "Description\n",
      "-----------\n",
      "\n",
      "    graph draws graphs.\n",
      "\n",
      "\n",
      "Links to PDF documentation\n",
      "--------------------------\n",
      "--more--\n"
     ]
    }
   ],
   "source": [
    "help graph"
   ]
  },
  {
   "cell_type": "markdown",
   "metadata": {
    "slideshow": {
     "slide_type": "slide"
    }
   },
   "source": [
    "``graph twoway`` includes a large number of different plot types and will be our most used graph command.\n",
    "\n",
    "Today we will discuss **histograms**, which are useful to visualize the distribution of a variable. A histogram cuts the variable into a number of different bins, and then counts the number of observations in each bin.\n",
    "\n",
    "For example, in our example, we will cut the variable mobility rates into different bins, then count the number of colleges within each bin, and then plot those counts "
   ]
  },
  {
   "cell_type": "code",
   "execution_count": 18,
   "metadata": {
    "slideshow": {
     "slide_type": "slide"
    }
   },
   "outputs": [
    {
     "data": {
      "application/pdf": "[encoded data removed]",
      "image/svg+xml": [
       "<?xml version=\"1.0\" encoding=\"UTF-8\" standalone=\"no\"?>\n",
       "<!-- This is a Stata 16.1 generated SVG file (http://www.stata.com) -->\n",
       "\n",
       "<svg version=\"1.1\" width=\"600px\" height=\"436px\" viewBox=\"0 0 3960 2880\" xmlns=\"http://www.w3.org/2000/svg\" xmlns:xlink=\"http://www.w3.org/1999/xlink\">\n",
       "\t<desc>Stata Graph - Graph</desc>\n",
       "\t<rect x=\"0\" y=\"0\" width=\"3960\" height=\"2880\" style=\"fill:#EAF2F3;stroke:none\"/>\n",
       "\t<rect x=\"0.00\" y=\"0.00\" width=\"3959.88\" height=\"2880.00\" style=\"fill:#EAF2F3\"/>\n",
       "\t<rect x=\"2.88\" y=\"2.88\" width=\"3954.12\" height=\"2874.24\" style=\"fill:none;stroke:#EAF2F3;stroke-width:5.76\"/>\n",
       "\t<rect x=\"390.80\" y=\"100.86\" width=\"3468.22\" height=\"2388.33\" style=\"fill:#FFFFFF\"/>\n",
       "\t<rect x=\"393.68\" y=\"103.74\" width=\"3462.46\" height=\"2382.57\" style=\"fill:none;stroke:#FFFFFF;stroke-width:5.76\"/>\n",
       "\t<line x1=\"390.80\" y1=\"2425.82\" x2=\"3859.02\" y2=\"2425.82\" style=\"stroke:#EAF2F3;stroke-width:8.64\"/>\n",
       "\t<line x1=\"390.80\" y1=\"1986.62\" x2=\"3859.02\" y2=\"1986.62\" style=\"stroke:#EAF2F3;stroke-width:8.64\"/>\n",
       "\t<line x1=\"390.80\" y1=\"1547.54\" x2=\"3859.02\" y2=\"1547.54\" style=\"stroke:#EAF2F3;stroke-width:8.64\"/>\n",
       "\t<line x1=\"390.80\" y1=\"1108.34\" x2=\"3859.02\" y2=\"1108.34\" style=\"stroke:#EAF2F3;stroke-width:8.64\"/>\n",
       "\t<line x1=\"390.80\" y1=\"669.14\" x2=\"3859.02\" y2=\"669.14\" style=\"stroke:#EAF2F3;stroke-width:8.64\"/>\n",
       "\t<line x1=\"390.80\" y1=\"229.93\" x2=\"3859.02\" y2=\"229.93\" style=\"stroke:#EAF2F3;stroke-width:8.64\"/>\n",
       "\t<rect x=\"454.16\" y=\"2054.93\" width=\"101.23\" height=\"370.89\" style=\"fill:#CAC27E\"/>\n",
       "\t<rect x=\"458.48\" y=\"2059.25\" width=\"92.59\" height=\"362.25\" style=\"fill:none;stroke:#D7D29E;stroke-width:8.64\"/>\n",
       "\t<rect x=\"555.39\" y=\"794.38\" width=\"101.23\" height=\"1631.45\" style=\"fill:#CAC27E\"/>\n",
       "\t<rect x=\"559.71\" y=\"798.70\" width=\"92.59\" height=\"1622.81\" style=\"fill:none;stroke:#D7D29E;stroke-width:8.64\"/>\n",
       "\t<rect x=\"656.62\" y=\"164.22\" width=\"101.35\" height=\"2261.60\" style=\"fill:#CAC27E\"/>\n",
       "\t<rect x=\"660.94\" y=\"168.54\" width=\"92.71\" height=\"2252.96\" style=\"fill:none;stroke:#D7D29E;stroke-width:8.64\"/>\n",
       "\t<rect x=\"757.97\" y=\"622.85\" width=\"101.23\" height=\"1802.97\" style=\"fill:#CAC27E\"/>\n",
       "\t<rect x=\"762.29\" y=\"627.17\" width=\"92.59\" height=\"1794.33\" style=\"fill:none;stroke:#D7D29E;stroke-width:8.64\"/>\n",
       "\t<rect x=\"859.20\" y=\"1420.69\" width=\"101.23\" height=\"1005.13\" style=\"fill:#CAC27E\"/>\n",
       "\t<rect x=\"863.52\" y=\"1425.01\" width=\"92.59\" height=\"996.49\" style=\"fill:none;stroke:#D7D29E;stroke-width:8.64\"/>\n",
       "\t<rect x=\"960.42\" y=\"1831.56\" width=\"101.23\" height=\"594.27\" style=\"fill:#CAC27E\"/>\n",
       "\t<rect x=\"964.74\" y=\"1835.88\" width=\"92.59\" height=\"585.63\" style=\"fill:none;stroke:#D7D29E;stroke-width:8.64\"/>\n",
       "\t<rect x=\"1061.65\" y=\"2011.00\" width=\"101.35\" height=\"414.82\" style=\"fill:#CAC27E\"/>\n",
       "\t<rect x=\"1065.97\" y=\"2015.32\" width=\"92.71\" height=\"406.18\" style=\"fill:none;stroke:#D7D29E;stroke-width:8.64\"/>\n",
       "\t<rect x=\"1163.00\" y=\"2202.45\" width=\"101.23\" height=\"223.38\" style=\"fill:#CAC27E\"/>\n",
       "\t<rect x=\"1167.32\" y=\"2206.77\" width=\"92.59\" height=\"214.74\" style=\"fill:none;stroke:#D7D29E;stroke-width:8.64\"/>\n",
       "\t<rect x=\"1264.23\" y=\"2302.19\" width=\"101.23\" height=\"123.63\" style=\"fill:#CAC27E\"/>\n",
       "\t<rect x=\"1268.55\" y=\"2306.51\" width=\"92.59\" height=\"114.99\" style=\"fill:none;stroke:#D7D29E;stroke-width:8.64\"/>\n",
       "\t<rect x=\"1365.46\" y=\"2350.09\" width=\"101.23\" height=\"75.74\" style=\"fill:#CAC27E\"/>\n",
       "\t<rect x=\"1369.78\" y=\"2354.41\" width=\"92.59\" height=\"67.10\" style=\"fill:none;stroke:#D7D29E;stroke-width:8.64\"/>\n",
       "\t<rect x=\"1466.68\" y=\"2361.97\" width=\"101.35\" height=\"63.86\" style=\"fill:#CAC27E\"/>\n",
       "\t<rect x=\"1471.00\" y=\"2366.29\" width=\"92.71\" height=\"55.22\" style=\"fill:none;stroke:#D7D29E;stroke-width:8.64\"/>\n",
       "\t<rect x=\"1568.04\" y=\"2377.93\" width=\"101.23\" height=\"47.89\" style=\"fill:#CAC27E\"/>\n",
       "\t<rect x=\"1572.36\" y=\"2382.25\" width=\"92.59\" height=\"39.25\" style=\"fill:none;stroke:#D7D29E;stroke-width:8.64\"/>\n",
       "\t<rect x=\"1669.26\" y=\"2393.89\" width=\"101.23\" height=\"31.93\" style=\"fill:#CAC27E\"/>\n",
       "\t<rect x=\"1673.58\" y=\"2398.21\" width=\"92.59\" height=\"23.29\" style=\"fill:none;stroke:#D7D29E;stroke-width:8.64\"/>\n",
       "\t<rect x=\"1770.49\" y=\"2373.97\" width=\"101.23\" height=\"51.85\" style=\"fill:#CAC27E\"/>\n",
       "\t<rect x=\"1774.81\" y=\"2378.29\" width=\"92.59\" height=\"43.21\" style=\"fill:none;stroke:#D7D29E;stroke-width:8.64\"/>\n",
       "\t<rect x=\"1871.72\" y=\"2409.86\" width=\"101.35\" height=\"15.96\" style=\"fill:#CAC27E\"/>\n",
       "\t<rect x=\"1876.04\" y=\"2414.18\" width=\"92.71\" height=\"7.32\" style=\"fill:none;stroke:#D7D29E;stroke-width:8.64\"/>\n",
       "\t<rect x=\"1973.07\" y=\"2413.82\" width=\"101.23\" height=\"12.00\" style=\"fill:#CAC27E\"/>\n",
       "\t<rect x=\"1977.39\" y=\"2418.14\" width=\"92.59\" height=\"3.36\" style=\"fill:none;stroke:#D7D29E;stroke-width:8.64\"/>\n",
       "\t<rect x=\"2074.30\" y=\"2401.94\" width=\"101.23\" height=\"23.88\" style=\"fill:#CAC27E\"/>\n",
       "\t<rect x=\"2078.62\" y=\"2406.26\" width=\"92.59\" height=\"15.24\" style=\"fill:none;stroke:#D7D29E;stroke-width:8.64\"/>\n",
       "\t<rect x=\"2175.53\" y=\"2421.86\" width=\"101.35\" height=\"3.96\" style=\"fill:#CAC27E\"/>\n",
       "\t<rect x=\"2179.84\" y=\"2421.50\" width=\"92.71\" height=\"4.68\" style=\"fill:none;stroke:#D7D29E;stroke-width:8.64\"/>\n",
       "\t<rect x=\"2276.88\" y=\"2421.86\" width=\"101.23\" height=\"3.96\" style=\"fill:#CAC27E\"/>\n",
       "\t<rect x=\"2281.20\" y=\"2421.50\" width=\"92.59\" height=\"4.68\" style=\"fill:none;stroke:#D7D29E;stroke-width:8.64\"/>\n",
       "\t<rect x=\"2378.10\" y=\"2421.86\" width=\"101.23\" height=\"3.96\" style=\"fill:#CAC27E\"/>\n",
       "\t<rect x=\"2382.42\" y=\"2421.50\" width=\"92.59\" height=\"4.68\" style=\"fill:none;stroke:#D7D29E;stroke-width:8.64\"/>\n",
       "\t<rect x=\"2479.33\" y=\"2417.90\" width=\"101.23\" height=\"7.92\" style=\"fill:#CAC27E\"/>\n",
       "\t<rect x=\"2483.65\" y=\"2421.50\" width=\"92.59\" height=\"0.72\" style=\"fill:none;stroke:#D7D29E;stroke-width:8.64\"/>\n",
       "\t<rect x=\"2783.14\" y=\"2421.86\" width=\"101.23\" height=\"3.96\" style=\"fill:#CAC27E\"/>\n",
       "\t<rect x=\"2787.46\" y=\"2421.50\" width=\"92.59\" height=\"4.68\" style=\"fill:none;stroke:#D7D29E;stroke-width:8.64\"/>\n",
       "\t<rect x=\"3086.94\" y=\"2421.86\" width=\"101.23\" height=\"3.96\" style=\"fill:#CAC27E\"/>\n",
       "\t<rect x=\"3091.26\" y=\"2421.50\" width=\"92.59\" height=\"4.68\" style=\"fill:none;stroke:#D7D29E;stroke-width:8.64\"/>\n",
       "\t<rect x=\"3694.43\" y=\"2421.86\" width=\"101.23\" height=\"3.96\" style=\"fill:#CAC27E\"/>\n",
       "\t<rect x=\"3698.75\" y=\"2421.50\" width=\"92.59\" height=\"4.68\" style=\"fill:none;stroke:#D7D29E;stroke-width:8.64\"/>\n",
       "\t<line x1=\"390.80\" y1=\"2489.19\" x2=\"390.80\" y2=\"100.86\" style=\"stroke:#000000;stroke-width:5.76\"/>\n",
       "\t<line x1=\"390.80\" y1=\"2425.82\" x2=\"350.83\" y2=\"2425.82\" style=\"stroke:#000000;stroke-width:5.76\"/>\n",
       "\t<text x=\"300.72\" y=\"2425.82\" style=\"font-family:'Helvetica';font-size:99.99px;fill:#000000\" transform=\"rotate(-90 300.72,2425.82)\" text-anchor=\"middle\">0</text>\n",
       "\t<line x1=\"390.80\" y1=\"1986.62\" x2=\"350.83\" y2=\"1986.62\" style=\"stroke:#000000;stroke-width:5.76\"/>\n",
       "\t<text x=\"300.72\" y=\"1986.62\" style=\"font-family:'Helvetica';font-size:99.99px;fill:#000000\" transform=\"rotate(-90 300.72,1986.62)\" text-anchor=\"middle\">.05</text>\n",
       "\t<line x1=\"390.80\" y1=\"1547.54\" x2=\"350.83\" y2=\"1547.54\" style=\"stroke:#000000;stroke-width:5.76\"/>\n",
       "\t<text x=\"300.72\" y=\"1547.54\" style=\"font-family:'Helvetica';font-size:99.99px;fill:#000000\" transform=\"rotate(-90 300.72,1547.54)\" text-anchor=\"middle\">.1</text>\n",
       "\t<line x1=\"390.80\" y1=\"1108.34\" x2=\"350.83\" y2=\"1108.34\" style=\"stroke:#000000;stroke-width:5.76\"/>\n",
       "\t<text x=\"300.72\" y=\"1108.34\" style=\"font-family:'Helvetica';font-size:99.99px;fill:#000000\" transform=\"rotate(-90 300.72,1108.34)\" text-anchor=\"middle\">.15</text>\n",
       "\t<line x1=\"390.80\" y1=\"669.14\" x2=\"350.83\" y2=\"669.14\" style=\"stroke:#000000;stroke-width:5.76\"/>\n",
       "\t<text x=\"300.72\" y=\"669.14\" style=\"font-family:'Helvetica';font-size:99.99px;fill:#000000\" transform=\"rotate(-90 300.72,669.14)\" text-anchor=\"middle\">.2</text>\n",
       "\t<line x1=\"390.80\" y1=\"229.93\" x2=\"350.83\" y2=\"229.93\" style=\"stroke:#000000;stroke-width:5.76\"/>\n",
       "\t<text x=\"300.72\" y=\"229.93\" style=\"font-family:'Helvetica';font-size:99.99px;fill:#000000\" transform=\"rotate(-90 300.72,229.93)\" text-anchor=\"middle\">.25</text>\n",
       "\t<text x=\"190.71\" y=\"1294.96\" style=\"font-family:'Helvetica';font-size:99.99px;fill:#000000\" transform=\"rotate(-90 190.71,1294.96)\" text-anchor=\"middle\">Fraction</text>\n",
       "\t<line x1=\"390.80\" y1=\"2489.19\" x2=\"3859.02\" y2=\"2489.19\" style=\"stroke:#000000;stroke-width:5.76\"/>\n",
       "\t<line x1=\"454.16\" y1=\"2489.19\" x2=\"454.16\" y2=\"2529.16\" style=\"stroke:#000000;stroke-width:5.76\"/>\n",
       "\t<text x=\"454.16\" y=\"2619.14\" style=\"font-family:'Helvetica';font-size:99.99px;fill:#000000\" text-anchor=\"middle\">0</text>\n",
       "\t<line x1=\"1475.47\" y1=\"2489.19\" x2=\"1475.47\" y2=\"2529.16\" style=\"stroke:#000000;stroke-width:5.76\"/>\n",
       "\t<text x=\"1475.47\" y=\"2619.14\" style=\"font-family:'Helvetica';font-size:99.99px;fill:#000000\" text-anchor=\"middle\">.05</text>\n",
       "\t<line x1=\"2496.90\" y1=\"2489.19\" x2=\"2496.90\" y2=\"2529.16\" style=\"stroke:#000000;stroke-width:5.76\"/>\n",
       "\t<text x=\"2496.90\" y=\"2619.14\" style=\"font-family:'Helvetica';font-size:99.99px;fill:#000000\" text-anchor=\"middle\">.1</text>\n",
       "\t<line x1=\"3518.34\" y1=\"2489.19\" x2=\"3518.34\" y2=\"2529.16\" style=\"stroke:#000000;stroke-width:5.76\"/>\n",
       "\t<text x=\"3518.34\" y=\"2619.14\" style=\"font-family:'Helvetica';font-size:99.99px;fill:#000000\" text-anchor=\"middle\">.15</text>\n",
       "\t<text x=\"2124.91\" y=\"2729.16\" style=\"font-family:'Helvetica';font-size:99.99px;fill:#000000\" text-anchor=\"middle\">mobility_rate</text>\n",
       "</svg>\n"
      ],
      "text/html": [
       "                <iframe frameborder=\"0\" scrolling=\"no\" height=\"436\" width=\"600\"                srcdoc=\"<html><body>&lt;?xml version=&quot;1.0&quot; encoding=&quot;UTF-8&quot; standalone=&quot;no&quot;?&gt;\n",
       "&lt;!-- This is a Stata 16.1 generated SVG file (http://www.stata.com) --&gt;\n",
       "\n",
       "&lt;svg version=&quot;1.1&quot; width=&quot;600px&quot; height=&quot;436px&quot; viewBox=&quot;0 0 3960 2880&quot; xmlns=&quot;http://www.w3.org/2000/svg&quot; xmlns:xlink=&quot;http://www.w3.org/1999/xlink&quot;&gt;\n",
       "\t&lt;desc&gt;Stata Graph - Graph&lt;/desc&gt;\n",
       "\t&lt;rect x=&quot;0&quot; y=&quot;0&quot; width=&quot;3960&quot; height=&quot;2880&quot; style=&quot;fill:#EAF2F3;stroke:none&quot;/&gt;\n",
       "\t&lt;rect x=&quot;0.00&quot; y=&quot;0.00&quot; width=&quot;3959.88&quot; height=&quot;2880.00&quot; style=&quot;fill:#EAF2F3&quot;/&gt;\n",
       "\t&lt;rect x=&quot;2.88&quot; y=&quot;2.88&quot; width=&quot;3954.12&quot; height=&quot;2874.24&quot; style=&quot;fill:none;stroke:#EAF2F3;stroke-width:5.76&quot;/&gt;\n",
       "\t&lt;rect x=&quot;390.80&quot; y=&quot;100.86&quot; width=&quot;3468.22&quot; height=&quot;2388.33&quot; style=&quot;fill:#FFFFFF&quot;/&gt;\n",
       "\t&lt;rect x=&quot;393.68&quot; y=&quot;103.74&quot; width=&quot;3462.46&quot; height=&quot;2382.57&quot; style=&quot;fill:none;stroke:#FFFFFF;stroke-width:5.76&quot;/&gt;\n",
       "\t&lt;line x1=&quot;390.80&quot; y1=&quot;2425.82&quot; x2=&quot;3859.02&quot; y2=&quot;2425.82&quot; style=&quot;stroke:#EAF2F3;stroke-width:8.64&quot;/&gt;\n",
       "\t&lt;line x1=&quot;390.80&quot; y1=&quot;1986.62&quot; x2=&quot;3859.02&quot; y2=&quot;1986.62&quot; style=&quot;stroke:#EAF2F3;stroke-width:8.64&quot;/&gt;\n",
       "\t&lt;line x1=&quot;390.80&quot; y1=&quot;1547.54&quot; x2=&quot;3859.02&quot; y2=&quot;1547.54&quot; style=&quot;stroke:#EAF2F3;stroke-width:8.64&quot;/&gt;\n",
       "\t&lt;line x1=&quot;390.80&quot; y1=&quot;1108.34&quot; x2=&quot;3859.02&quot; y2=&quot;1108.34&quot; style=&quot;stroke:#EAF2F3;stroke-width:8.64&quot;/&gt;\n",
       "\t&lt;line x1=&quot;390.80&quot; y1=&quot;669.14&quot; x2=&quot;3859.02&quot; y2=&quot;669.14&quot; style=&quot;stroke:#EAF2F3;stroke-width:8.64&quot;/&gt;\n",
       "\t&lt;line x1=&quot;390.80&quot; y1=&quot;229.93&quot; x2=&quot;3859.02&quot; y2=&quot;229.93&quot; style=&quot;stroke:#EAF2F3;stroke-width:8.64&quot;/&gt;\n",
       "\t&lt;rect x=&quot;454.16&quot; y=&quot;2054.93&quot; width=&quot;101.23&quot; height=&quot;370.89&quot; style=&quot;fill:#CAC27E&quot;/&gt;\n",
       "\t&lt;rect x=&quot;458.48&quot; y=&quot;2059.25&quot; width=&quot;92.59&quot; height=&quot;362.25&quot; style=&quot;fill:none;stroke:#D7D29E;stroke-width:8.64&quot;/&gt;\n",
       "\t&lt;rect x=&quot;555.39&quot; y=&quot;794.38&quot; width=&quot;101.23&quot; height=&quot;1631.45&quot; style=&quot;fill:#CAC27E&quot;/&gt;\n",
       "\t&lt;rect x=&quot;559.71&quot; y=&quot;798.70&quot; width=&quot;92.59&quot; height=&quot;1622.81&quot; style=&quot;fill:none;stroke:#D7D29E;stroke-width:8.64&quot;/&gt;\n",
       "\t&lt;rect x=&quot;656.62&quot; y=&quot;164.22&quot; width=&quot;101.35&quot; height=&quot;2261.60&quot; style=&quot;fill:#CAC27E&quot;/&gt;\n",
       "\t&lt;rect x=&quot;660.94&quot; y=&quot;168.54&quot; width=&quot;92.71&quot; height=&quot;2252.96&quot; style=&quot;fill:none;stroke:#D7D29E;stroke-width:8.64&quot;/&gt;\n",
       "\t&lt;rect x=&quot;757.97&quot; y=&quot;622.85&quot; width=&quot;101.23&quot; height=&quot;1802.97&quot; style=&quot;fill:#CAC27E&quot;/&gt;\n",
       "\t&lt;rect x=&quot;762.29&quot; y=&quot;627.17&quot; width=&quot;92.59&quot; height=&quot;1794.33&quot; style=&quot;fill:none;stroke:#D7D29E;stroke-width:8.64&quot;/&gt;\n",
       "\t&lt;rect x=&quot;859.20&quot; y=&quot;1420.69&quot; width=&quot;101.23&quot; height=&quot;1005.13&quot; style=&quot;fill:#CAC27E&quot;/&gt;\n",
       "\t&lt;rect x=&quot;863.52&quot; y=&quot;1425.01&quot; width=&quot;92.59&quot; height=&quot;996.49&quot; style=&quot;fill:none;stroke:#D7D29E;stroke-width:8.64&quot;/&gt;\n",
       "\t&lt;rect x=&quot;960.42&quot; y=&quot;1831.56&quot; width=&quot;101.23&quot; height=&quot;594.27&quot; style=&quot;fill:#CAC27E&quot;/&gt;\n",
       "\t&lt;rect x=&quot;964.74&quot; y=&quot;1835.88&quot; width=&quot;92.59&quot; height=&quot;585.63&quot; style=&quot;fill:none;stroke:#D7D29E;stroke-width:8.64&quot;/&gt;\n",
       "\t&lt;rect x=&quot;1061.65&quot; y=&quot;2011.00&quot; width=&quot;101.35&quot; height=&quot;414.82&quot; style=&quot;fill:#CAC27E&quot;/&gt;\n",
       "\t&lt;rect x=&quot;1065.97&quot; y=&quot;2015.32&quot; width=&quot;92.71&quot; height=&quot;406.18&quot; style=&quot;fill:none;stroke:#D7D29E;stroke-width:8.64&quot;/&gt;\n",
       "\t&lt;rect x=&quot;1163.00&quot; y=&quot;2202.45&quot; width=&quot;101.23&quot; height=&quot;223.38&quot; style=&quot;fill:#CAC27E&quot;/&gt;\n",
       "\t&lt;rect x=&quot;1167.32&quot; y=&quot;2206.77&quot; width=&quot;92.59&quot; height=&quot;214.74&quot; style=&quot;fill:none;stroke:#D7D29E;stroke-width:8.64&quot;/&gt;\n",
       "\t&lt;rect x=&quot;1264.23&quot; y=&quot;2302.19&quot; width=&quot;101.23&quot; height=&quot;123.63&quot; style=&quot;fill:#CAC27E&quot;/&gt;\n",
       "\t&lt;rect x=&quot;1268.55&quot; y=&quot;2306.51&quot; width=&quot;92.59&quot; height=&quot;114.99&quot; style=&quot;fill:none;stroke:#D7D29E;stroke-width:8.64&quot;/&gt;\n",
       "\t&lt;rect x=&quot;1365.46&quot; y=&quot;2350.09&quot; width=&quot;101.23&quot; height=&quot;75.74&quot; style=&quot;fill:#CAC27E&quot;/&gt;\n",
       "\t&lt;rect x=&quot;1369.78&quot; y=&quot;2354.41&quot; width=&quot;92.59&quot; height=&quot;67.10&quot; style=&quot;fill:none;stroke:#D7D29E;stroke-width:8.64&quot;/&gt;\n",
       "\t&lt;rect x=&quot;1466.68&quot; y=&quot;2361.97&quot; width=&quot;101.35&quot; height=&quot;63.86&quot; style=&quot;fill:#CAC27E&quot;/&gt;\n",
       "\t&lt;rect x=&quot;1471.00&quot; y=&quot;2366.29&quot; width=&quot;92.71&quot; height=&quot;55.22&quot; style=&quot;fill:none;stroke:#D7D29E;stroke-width:8.64&quot;/&gt;\n",
       "\t&lt;rect x=&quot;1568.04&quot; y=&quot;2377.93&quot; width=&quot;101.23&quot; height=&quot;47.89&quot; style=&quot;fill:#CAC27E&quot;/&gt;\n",
       "\t&lt;rect x=&quot;1572.36&quot; y=&quot;2382.25&quot; width=&quot;92.59&quot; height=&quot;39.25&quot; style=&quot;fill:none;stroke:#D7D29E;stroke-width:8.64&quot;/&gt;\n",
       "\t&lt;rect x=&quot;1669.26&quot; y=&quot;2393.89&quot; width=&quot;101.23&quot; height=&quot;31.93&quot; style=&quot;fill:#CAC27E&quot;/&gt;\n",
       "\t&lt;rect x=&quot;1673.58&quot; y=&quot;2398.21&quot; width=&quot;92.59&quot; height=&quot;23.29&quot; style=&quot;fill:none;stroke:#D7D29E;stroke-width:8.64&quot;/&gt;\n",
       "\t&lt;rect x=&quot;1770.49&quot; y=&quot;2373.97&quot; width=&quot;101.23&quot; height=&quot;51.85&quot; style=&quot;fill:#CAC27E&quot;/&gt;\n",
       "\t&lt;rect x=&quot;1774.81&quot; y=&quot;2378.29&quot; width=&quot;92.59&quot; height=&quot;43.21&quot; style=&quot;fill:none;stroke:#D7D29E;stroke-width:8.64&quot;/&gt;\n",
       "\t&lt;rect x=&quot;1871.72&quot; y=&quot;2409.86&quot; width=&quot;101.35&quot; height=&quot;15.96&quot; style=&quot;fill:#CAC27E&quot;/&gt;\n",
       "\t&lt;rect x=&quot;1876.04&quot; y=&quot;2414.18&quot; width=&quot;92.71&quot; height=&quot;7.32&quot; style=&quot;fill:none;stroke:#D7D29E;stroke-width:8.64&quot;/&gt;\n",
       "\t&lt;rect x=&quot;1973.07&quot; y=&quot;2413.82&quot; width=&quot;101.23&quot; height=&quot;12.00&quot; style=&quot;fill:#CAC27E&quot;/&gt;\n",
       "\t&lt;rect x=&quot;1977.39&quot; y=&quot;2418.14&quot; width=&quot;92.59&quot; height=&quot;3.36&quot; style=&quot;fill:none;stroke:#D7D29E;stroke-width:8.64&quot;/&gt;\n",
       "\t&lt;rect x=&quot;2074.30&quot; y=&quot;2401.94&quot; width=&quot;101.23&quot; height=&quot;23.88&quot; style=&quot;fill:#CAC27E&quot;/&gt;\n",
       "\t&lt;rect x=&quot;2078.62&quot; y=&quot;2406.26&quot; width=&quot;92.59&quot; height=&quot;15.24&quot; style=&quot;fill:none;stroke:#D7D29E;stroke-width:8.64&quot;/&gt;\n",
       "\t&lt;rect x=&quot;2175.53&quot; y=&quot;2421.86&quot; width=&quot;101.35&quot; height=&quot;3.96&quot; style=&quot;fill:#CAC27E&quot;/&gt;\n",
       "\t&lt;rect x=&quot;2179.84&quot; y=&quot;2421.50&quot; width=&quot;92.71&quot; height=&quot;4.68&quot; style=&quot;fill:none;stroke:#D7D29E;stroke-width:8.64&quot;/&gt;\n",
       "\t&lt;rect x=&quot;2276.88&quot; y=&quot;2421.86&quot; width=&quot;101.23&quot; height=&quot;3.96&quot; style=&quot;fill:#CAC27E&quot;/&gt;\n",
       "\t&lt;rect x=&quot;2281.20&quot; y=&quot;2421.50&quot; width=&quot;92.59&quot; height=&quot;4.68&quot; style=&quot;fill:none;stroke:#D7D29E;stroke-width:8.64&quot;/&gt;\n",
       "\t&lt;rect x=&quot;2378.10&quot; y=&quot;2421.86&quot; width=&quot;101.23&quot; height=&quot;3.96&quot; style=&quot;fill:#CAC27E&quot;/&gt;\n",
       "\t&lt;rect x=&quot;2382.42&quot; y=&quot;2421.50&quot; width=&quot;92.59&quot; height=&quot;4.68&quot; style=&quot;fill:none;stroke:#D7D29E;stroke-width:8.64&quot;/&gt;\n",
       "\t&lt;rect x=&quot;2479.33&quot; y=&quot;2417.90&quot; width=&quot;101.23&quot; height=&quot;7.92&quot; style=&quot;fill:#CAC27E&quot;/&gt;\n",
       "\t&lt;rect x=&quot;2483.65&quot; y=&quot;2421.50&quot; width=&quot;92.59&quot; height=&quot;0.72&quot; style=&quot;fill:none;stroke:#D7D29E;stroke-width:8.64&quot;/&gt;\n",
       "\t&lt;rect x=&quot;2783.14&quot; y=&quot;2421.86&quot; width=&quot;101.23&quot; height=&quot;3.96&quot; style=&quot;fill:#CAC27E&quot;/&gt;\n",
       "\t&lt;rect x=&quot;2787.46&quot; y=&quot;2421.50&quot; width=&quot;92.59&quot; height=&quot;4.68&quot; style=&quot;fill:none;stroke:#D7D29E;stroke-width:8.64&quot;/&gt;\n",
       "\t&lt;rect x=&quot;3086.94&quot; y=&quot;2421.86&quot; width=&quot;101.23&quot; height=&quot;3.96&quot; style=&quot;fill:#CAC27E&quot;/&gt;\n",
       "\t&lt;rect x=&quot;3091.26&quot; y=&quot;2421.50&quot; width=&quot;92.59&quot; height=&quot;4.68&quot; style=&quot;fill:none;stroke:#D7D29E;stroke-width:8.64&quot;/&gt;\n",
       "\t&lt;rect x=&quot;3694.43&quot; y=&quot;2421.86&quot; width=&quot;101.23&quot; height=&quot;3.96&quot; style=&quot;fill:#CAC27E&quot;/&gt;\n",
       "\t&lt;rect x=&quot;3698.75&quot; y=&quot;2421.50&quot; width=&quot;92.59&quot; height=&quot;4.68&quot; style=&quot;fill:none;stroke:#D7D29E;stroke-width:8.64&quot;/&gt;\n",
       "\t&lt;line x1=&quot;390.80&quot; y1=&quot;2489.19&quot; x2=&quot;390.80&quot; y2=&quot;100.86&quot; style=&quot;stroke:#000000;stroke-width:5.76&quot;/&gt;\n",
       "\t&lt;line x1=&quot;390.80&quot; y1=&quot;2425.82&quot; x2=&quot;350.83&quot; y2=&quot;2425.82&quot; style=&quot;stroke:#000000;stroke-width:5.76&quot;/&gt;\n",
       "\t&lt;text x=&quot;300.72&quot; y=&quot;2425.82&quot; style=&quot;font-family:&#x27;Helvetica&#x27;;font-size:99.99px;fill:#000000&quot; transform=&quot;rotate(-90 300.72,2425.82)&quot; text-anchor=&quot;middle&quot;&gt;0&lt;/text&gt;\n",
       "\t&lt;line x1=&quot;390.80&quot; y1=&quot;1986.62&quot; x2=&quot;350.83&quot; y2=&quot;1986.62&quot; style=&quot;stroke:#000000;stroke-width:5.76&quot;/&gt;\n",
       "\t&lt;text x=&quot;300.72&quot; y=&quot;1986.62&quot; style=&quot;font-family:&#x27;Helvetica&#x27;;font-size:99.99px;fill:#000000&quot; transform=&quot;rotate(-90 300.72,1986.62)&quot; text-anchor=&quot;middle&quot;&gt;.05&lt;/text&gt;\n",
       "\t&lt;line x1=&quot;390.80&quot; y1=&quot;1547.54&quot; x2=&quot;350.83&quot; y2=&quot;1547.54&quot; style=&quot;stroke:#000000;stroke-width:5.76&quot;/&gt;\n",
       "\t&lt;text x=&quot;300.72&quot; y=&quot;1547.54&quot; style=&quot;font-family:&#x27;Helvetica&#x27;;font-size:99.99px;fill:#000000&quot; transform=&quot;rotate(-90 300.72,1547.54)&quot; text-anchor=&quot;middle&quot;&gt;.1&lt;/text&gt;\n",
       "\t&lt;line x1=&quot;390.80&quot; y1=&quot;1108.34&quot; x2=&quot;350.83&quot; y2=&quot;1108.34&quot; style=&quot;stroke:#000000;stroke-width:5.76&quot;/&gt;\n",
       "\t&lt;text x=&quot;300.72&quot; y=&quot;1108.34&quot; style=&quot;font-family:&#x27;Helvetica&#x27;;font-size:99.99px;fill:#000000&quot; transform=&quot;rotate(-90 300.72,1108.34)&quot; text-anchor=&quot;middle&quot;&gt;.15&lt;/text&gt;\n",
       "\t&lt;line x1=&quot;390.80&quot; y1=&quot;669.14&quot; x2=&quot;350.83&quot; y2=&quot;669.14&quot; style=&quot;stroke:#000000;stroke-width:5.76&quot;/&gt;\n",
       "\t&lt;text x=&quot;300.72&quot; y=&quot;669.14&quot; style=&quot;font-family:&#x27;Helvetica&#x27;;font-size:99.99px;fill:#000000&quot; transform=&quot;rotate(-90 300.72,669.14)&quot; text-anchor=&quot;middle&quot;&gt;.2&lt;/text&gt;\n",
       "\t&lt;line x1=&quot;390.80&quot; y1=&quot;229.93&quot; x2=&quot;350.83&quot; y2=&quot;229.93&quot; style=&quot;stroke:#000000;stroke-width:5.76&quot;/&gt;\n",
       "\t&lt;text x=&quot;300.72&quot; y=&quot;229.93&quot; style=&quot;font-family:&#x27;Helvetica&#x27;;font-size:99.99px;fill:#000000&quot; transform=&quot;rotate(-90 300.72,229.93)&quot; text-anchor=&quot;middle&quot;&gt;.25&lt;/text&gt;\n",
       "\t&lt;text x=&quot;190.71&quot; y=&quot;1294.96&quot; style=&quot;font-family:&#x27;Helvetica&#x27;;font-size:99.99px;fill:#000000&quot; transform=&quot;rotate(-90 190.71,1294.96)&quot; text-anchor=&quot;middle&quot;&gt;Fraction&lt;/text&gt;\n",
       "\t&lt;line x1=&quot;390.80&quot; y1=&quot;2489.19&quot; x2=&quot;3859.02&quot; y2=&quot;2489.19&quot; style=&quot;stroke:#000000;stroke-width:5.76&quot;/&gt;\n",
       "\t&lt;line x1=&quot;454.16&quot; y1=&quot;2489.19&quot; x2=&quot;454.16&quot; y2=&quot;2529.16&quot; style=&quot;stroke:#000000;stroke-width:5.76&quot;/&gt;\n",
       "\t&lt;text x=&quot;454.16&quot; y=&quot;2619.14&quot; style=&quot;font-family:&#x27;Helvetica&#x27;;font-size:99.99px;fill:#000000&quot; text-anchor=&quot;middle&quot;&gt;0&lt;/text&gt;\n",
       "\t&lt;line x1=&quot;1475.47&quot; y1=&quot;2489.19&quot; x2=&quot;1475.47&quot; y2=&quot;2529.16&quot; style=&quot;stroke:#000000;stroke-width:5.76&quot;/&gt;\n",
       "\t&lt;text x=&quot;1475.47&quot; y=&quot;2619.14&quot; style=&quot;font-family:&#x27;Helvetica&#x27;;font-size:99.99px;fill:#000000&quot; text-anchor=&quot;middle&quot;&gt;.05&lt;/text&gt;\n",
       "\t&lt;line x1=&quot;2496.90&quot; y1=&quot;2489.19&quot; x2=&quot;2496.90&quot; y2=&quot;2529.16&quot; style=&quot;stroke:#000000;stroke-width:5.76&quot;/&gt;\n",
       "\t&lt;text x=&quot;2496.90&quot; y=&quot;2619.14&quot; style=&quot;font-family:&#x27;Helvetica&#x27;;font-size:99.99px;fill:#000000&quot; text-anchor=&quot;middle&quot;&gt;.1&lt;/text&gt;\n",
       "\t&lt;line x1=&quot;3518.34&quot; y1=&quot;2489.19&quot; x2=&quot;3518.34&quot; y2=&quot;2529.16&quot; style=&quot;stroke:#000000;stroke-width:5.76&quot;/&gt;\n",
       "\t&lt;text x=&quot;3518.34&quot; y=&quot;2619.14&quot; style=&quot;font-family:&#x27;Helvetica&#x27;;font-size:99.99px;fill:#000000&quot; text-anchor=&quot;middle&quot;&gt;.15&lt;/text&gt;\n",
       "\t&lt;text x=&quot;2124.91&quot; y=&quot;2729.16&quot; style=&quot;font-family:&#x27;Helvetica&#x27;;font-size:99.99px;fill:#000000&quot; text-anchor=&quot;middle&quot;&gt;mobility_rate&lt;/text&gt;\n",
       "&lt;/svg&gt;\n",
       "</body></html>\"></iframe>\n"
      ],
      "text/plain": [
       "This front-end cannot display the desired image type."
      ]
     },
     "metadata": {
      "image/svg+xml": {
       "height": 436,
       "width": 600
      },
      "text/html": {
       "height": 436,
       "width": 600
      }
     },
     "output_type": "display_data"
    }
   ],
   "source": [
    "graph twoway histogram mobility_rate, frac"
   ]
  },
  {
   "cell_type": "markdown",
   "metadata": {
    "slideshow": {
     "slide_type": "fragment"
    }
   },
   "source": [
    "Interestingly, mobility has a \"long right tail\". While most mobility rates cluster in the 0.02-0.04 range, we have a few colleges with extremely high mobility rates relative to other colleges\n",
    "\n"
   ]
  },
  {
   "cell_type": "markdown",
   "metadata": {
    "slideshow": {
     "slide_type": "slide"
    }
   },
   "source": [
    "We can customize our graph with more options. Type ``help histogram`` to see these. One option is to specify the ``width()`` of each bin. "
   ]
  },
  {
   "cell_type": "code",
   "execution_count": 19,
   "metadata": {
    "slideshow": {
     "slide_type": "fragment"
    }
   },
   "outputs": [
    {
     "data": {
      "application/pdf": "[encoded data removed]",
      "image/svg+xml": [
       "<?xml version=\"1.0\" encoding=\"UTF-8\" standalone=\"no\"?>\n",
       "<!-- This is a Stata 16.1 generated SVG file (http://www.stata.com) -->\n",
       "\n",
       "<svg version=\"1.1\" width=\"600px\" height=\"436px\" viewBox=\"0 0 3960 2880\" xmlns=\"http://www.w3.org/2000/svg\" xmlns:xlink=\"http://www.w3.org/1999/xlink\">\n",
       "\t<desc>Stata Graph - Graph</desc>\n",
       "\t<rect x=\"0\" y=\"0\" width=\"3960\" height=\"2880\" style=\"fill:#EAF2F3;stroke:none\"/>\n",
       "\t<rect x=\"0.00\" y=\"0.00\" width=\"3959.88\" height=\"2880.00\" style=\"fill:#EAF2F3\"/>\n",
       "\t<rect x=\"2.88\" y=\"2.88\" width=\"3954.12\" height=\"2874.24\" style=\"fill:none;stroke:#EAF2F3;stroke-width:5.76\"/>\n",
       "\t<rect x=\"390.80\" y=\"100.86\" width=\"3468.22\" height=\"2388.33\" style=\"fill:#FFFFFF\"/>\n",
       "\t<rect x=\"393.68\" y=\"103.74\" width=\"3462.46\" height=\"2382.57\" style=\"fill:none;stroke:#FFFFFF;stroke-width:5.76\"/>\n",
       "\t<line x1=\"390.80\" y1=\"2425.82\" x2=\"3859.02\" y2=\"2425.82\" style=\"stroke:#EAF2F3;stroke-width:8.64\"/>\n",
       "\t<line x1=\"390.80\" y1=\"1671.91\" x2=\"3859.02\" y2=\"1671.91\" style=\"stroke:#EAF2F3;stroke-width:8.64\"/>\n",
       "\t<line x1=\"390.80\" y1=\"918.01\" x2=\"3859.02\" y2=\"918.01\" style=\"stroke:#EAF2F3;stroke-width:8.64\"/>\n",
       "\t<line x1=\"390.80\" y1=\"164.22\" x2=\"3859.02\" y2=\"164.22\" style=\"stroke:#EAF2F3;stroke-width:8.64\"/>\n",
       "\t<rect x=\"454.16\" y=\"1946.52\" width=\"16.71\" height=\"479.30\" style=\"fill:#CAC27E\"/>\n",
       "\t<rect x=\"458.48\" y=\"1950.84\" width=\"8.07\" height=\"470.66\" style=\"fill:none;stroke:#D7D29E;stroke-width:8.64\"/>\n",
       "\t<rect x=\"470.87\" y=\"2271.75\" width=\"16.71\" height=\"154.07\" style=\"fill:#CAC27E\"/>\n",
       "\t<rect x=\"475.19\" y=\"2276.07\" width=\"8.07\" height=\"145.43\" style=\"fill:none;stroke:#D7D29E;stroke-width:8.64\"/>\n",
       "\t<rect x=\"487.57\" y=\"2254.67\" width=\"16.71\" height=\"171.15\" style=\"fill:#CAC27E\"/>\n",
       "\t<rect x=\"491.89\" y=\"2258.99\" width=\"8.07\" height=\"162.51\" style=\"fill:none;stroke:#D7D29E;stroke-width:8.64\"/>\n",
       "\t<rect x=\"504.28\" y=\"2117.68\" width=\"16.71\" height=\"308.15\" style=\"fill:#CAC27E\"/>\n",
       "\t<rect x=\"508.60\" y=\"2122.00\" width=\"8.07\" height=\"299.51\" style=\"fill:none;stroke:#D7D29E;stroke-width:8.64\"/>\n",
       "\t<rect x=\"520.99\" y=\"1929.45\" width=\"16.71\" height=\"496.38\" style=\"fill:#CAC27E\"/>\n",
       "\t<rect x=\"525.31\" y=\"1933.77\" width=\"8.07\" height=\"487.74\" style=\"fill:none;stroke:#D7D29E;stroke-width:8.64\"/>\n",
       "\t<rect x=\"537.69\" y=\"1638.38\" width=\"16.71\" height=\"787.45\" style=\"fill:#CAC27E\"/>\n",
       "\t<rect x=\"542.01\" y=\"1642.70\" width=\"8.07\" height=\"778.81\" style=\"fill:none;stroke:#D7D29E;stroke-width:8.64\"/>\n",
       "\t<rect x=\"554.40\" y=\"1278.87\" width=\"16.71\" height=\"1146.95\" style=\"fill:#CAC27E\"/>\n",
       "\t<rect x=\"558.72\" y=\"1283.19\" width=\"8.07\" height=\"1138.31\" style=\"fill:none;stroke:#D7D29E;stroke-width:8.64\"/>\n",
       "\t<rect x=\"571.11\" y=\"1090.64\" width=\"16.71\" height=\"1335.18\" style=\"fill:#CAC27E\"/>\n",
       "\t<rect x=\"575.43\" y=\"1094.96\" width=\"8.07\" height=\"1326.54\" style=\"fill:none;stroke:#D7D29E;stroke-width:8.64\"/>\n",
       "\t<rect x=\"587.81\" y=\"645.50\" width=\"16.71\" height=\"1780.32\" style=\"fill:#CAC27E\"/>\n",
       "\t<rect x=\"592.13\" y=\"649.82\" width=\"8.07\" height=\"1771.68\" style=\"fill:none;stroke:#D7D29E;stroke-width:8.64\"/>\n",
       "\t<rect x=\"604.52\" y=\"268.92\" width=\"16.71\" height=\"2156.91\" style=\"fill:#CAC27E\"/>\n",
       "\t<rect x=\"608.84\" y=\"273.24\" width=\"8.07\" height=\"2148.27\" style=\"fill:none;stroke:#D7D29E;stroke-width:8.64\"/>\n",
       "\t<rect x=\"621.23\" y=\"525.71\" width=\"16.71\" height=\"1900.12\" style=\"fill:#CAC27E\"/>\n",
       "\t<rect x=\"625.54\" y=\"530.03\" width=\"8.07\" height=\"1891.48\" style=\"fill:none;stroke:#D7D29E;stroke-width:8.64\"/>\n",
       "\t<rect x=\"637.93\" y=\"679.78\" width=\"16.71\" height=\"1746.04\" style=\"fill:#CAC27E\"/>\n",
       "\t<rect x=\"642.25\" y=\"684.10\" width=\"8.07\" height=\"1737.40\" style=\"fill:none;stroke:#D7D29E;stroke-width:8.64\"/>\n",
       "\t<rect x=\"654.64\" y=\"320.28\" width=\"16.71\" height=\"2105.55\" style=\"fill:#CAC27E\"/>\n",
       "\t<rect x=\"658.96\" y=\"324.59\" width=\"8.07\" height=\"2096.91\" style=\"fill:none;stroke:#D7D29E;stroke-width:8.64\"/>\n",
       "\t<rect x=\"671.34\" y=\"337.35\" width=\"16.71\" height=\"2088.47\" style=\"fill:#CAC27E\"/>\n",
       "\t<rect x=\"675.66\" y=\"341.67\" width=\"8.07\" height=\"2079.83\" style=\"fill:none;stroke:#D7D29E;stroke-width:8.64\"/>\n",
       "\t<rect x=\"688.05\" y=\"525.71\" width=\"16.71\" height=\"1900.12\" style=\"fill:#CAC27E\"/>\n",
       "\t<rect x=\"692.37\" y=\"530.03\" width=\"8.07\" height=\"1891.48\" style=\"fill:none;stroke:#D7D29E;stroke-width:8.64\"/>\n",
       "\t<rect x=\"704.76\" y=\"628.42\" width=\"16.71\" height=\"1797.40\" style=\"fill:#CAC27E\"/>\n",
       "\t<rect x=\"709.08\" y=\"632.74\" width=\"8.07\" height=\"1788.76\" style=\"fill:none;stroke:#D7D29E;stroke-width:8.64\"/>\n",
       "\t<rect x=\"721.46\" y=\"816.78\" width=\"16.71\" height=\"1609.05\" style=\"fill:#CAC27E\"/>\n",
       "\t<rect x=\"725.78\" y=\"821.10\" width=\"8.07\" height=\"1600.41\" style=\"fill:none;stroke:#D7D29E;stroke-width:8.64\"/>\n",
       "\t<rect x=\"738.17\" y=\"782.50\" width=\"16.71\" height=\"1643.33\" style=\"fill:#CAC27E\"/>\n",
       "\t<rect x=\"742.49\" y=\"786.82\" width=\"8.07\" height=\"1634.69\" style=\"fill:none;stroke:#D7D29E;stroke-width:8.64\"/>\n",
       "\t<rect x=\"754.88\" y=\"1159.08\" width=\"16.71\" height=\"1266.74\" style=\"fill:#CAC27E\"/>\n",
       "\t<rect x=\"759.19\" y=\"1163.40\" width=\"8.07\" height=\"1258.10\" style=\"fill:none;stroke:#D7D29E;stroke-width:8.64\"/>\n",
       "\t<rect x=\"771.58\" y=\"987.93\" width=\"16.71\" height=\"1437.90\" style=\"fill:#CAC27E\"/>\n",
       "\t<rect x=\"775.90\" y=\"992.25\" width=\"8.07\" height=\"1429.26\" style=\"fill:none;stroke:#D7D29E;stroke-width:8.64\"/>\n",
       "\t<rect x=\"788.29\" y=\"1364.51\" width=\"16.71\" height=\"1061.31\" style=\"fill:#CAC27E\"/>\n",
       "\t<rect x=\"792.61\" y=\"1368.83\" width=\"8.07\" height=\"1052.67\" style=\"fill:none;stroke:#D7D29E;stroke-width:8.64\"/>\n",
       "\t<rect x=\"804.99\" y=\"1415.87\" width=\"16.71\" height=\"1009.96\" style=\"fill:#CAC27E\"/>\n",
       "\t<rect x=\"809.31\" y=\"1420.19\" width=\"8.07\" height=\"1001.32\" style=\"fill:none;stroke:#D7D29E;stroke-width:8.64\"/>\n",
       "\t<rect x=\"821.70\" y=\"1706.81\" width=\"16.71\" height=\"719.01\" style=\"fill:#CAC27E\"/>\n",
       "\t<rect x=\"826.02\" y=\"1711.13\" width=\"8.07\" height=\"710.37\" style=\"fill:none;stroke:#D7D29E;stroke-width:8.64\"/>\n",
       "\t<rect x=\"838.41\" y=\"1741.09\" width=\"16.71\" height=\"684.73\" style=\"fill:#CAC27E\"/>\n",
       "\t<rect x=\"842.73\" y=\"1745.41\" width=\"8.07\" height=\"676.09\" style=\"fill:none;stroke:#D7D29E;stroke-width:8.64\"/>\n",
       "\t<rect x=\"855.11\" y=\"1775.37\" width=\"16.71\" height=\"650.45\" style=\"fill:#CAC27E\"/>\n",
       "\t<rect x=\"859.43\" y=\"1779.69\" width=\"8.07\" height=\"641.81\" style=\"fill:none;stroke:#D7D29E;stroke-width:8.64\"/>\n",
       "\t<rect x=\"871.82\" y=\"1809.53\" width=\"16.71\" height=\"616.29\" style=\"fill:#CAC27E\"/>\n",
       "\t<rect x=\"876.14\" y=\"1813.85\" width=\"8.07\" height=\"607.65\" style=\"fill:none;stroke:#D7D29E;stroke-width:8.64\"/>\n",
       "\t<rect x=\"888.52\" y=\"1878.09\" width=\"16.71\" height=\"547.73\" style=\"fill:#CAC27E\"/>\n",
       "\t<rect x=\"892.84\" y=\"1882.41\" width=\"8.07\" height=\"539.09\" style=\"fill:none;stroke:#D7D29E;stroke-width:8.64\"/>\n",
       "\t<rect x=\"905.23\" y=\"1929.45\" width=\"16.71\" height=\"496.38\" style=\"fill:#CAC27E\"/>\n",
       "\t<rect x=\"909.55\" y=\"1933.77\" width=\"8.07\" height=\"487.74\" style=\"fill:none;stroke:#D7D29E;stroke-width:8.64\"/>\n",
       "\t<rect x=\"921.94\" y=\"2083.52\" width=\"16.71\" height=\"342.30\" style=\"fill:#CAC27E\"/>\n",
       "\t<rect x=\"926.26\" y=\"2087.84\" width=\"8.07\" height=\"333.66\" style=\"fill:none;stroke:#D7D29E;stroke-width:8.64\"/>\n",
       "\t<rect x=\"938.64\" y=\"1860.89\" width=\"16.71\" height=\"564.94\" style=\"fill:#CAC27E\"/>\n",
       "\t<rect x=\"942.96\" y=\"1865.21\" width=\"8.07\" height=\"556.30\" style=\"fill:none;stroke:#D7D29E;stroke-width:8.64\"/>\n",
       "\t<rect x=\"955.35\" y=\"2032.16\" width=\"16.71\" height=\"393.66\" style=\"fill:#CAC27E\"/>\n",
       "\t<rect x=\"959.67\" y=\"2036.48\" width=\"8.07\" height=\"385.02\" style=\"fill:none;stroke:#D7D29E;stroke-width:8.64\"/>\n",
       "\t<rect x=\"972.06\" y=\"2066.32\" width=\"16.71\" height=\"359.50\" style=\"fill:#CAC27E\"/>\n",
       "\t<rect x=\"976.38\" y=\"2070.64\" width=\"8.07\" height=\"350.87\" style=\"fill:none;stroke:#D7D29E;stroke-width:8.64\"/>\n",
       "\t<rect x=\"988.76\" y=\"2083.52\" width=\"16.71\" height=\"342.30\" style=\"fill:#CAC27E\"/>\n",
       "\t<rect x=\"993.08\" y=\"2087.84\" width=\"8.07\" height=\"333.66\" style=\"fill:none;stroke:#D7D29E;stroke-width:8.64\"/>\n",
       "\t<rect x=\"1005.47\" y=\"2100.60\" width=\"16.71\" height=\"325.23\" style=\"fill:#CAC27E\"/>\n",
       "\t<rect x=\"1009.79\" y=\"2104.92\" width=\"8.07\" height=\"316.59\" style=\"fill:none;stroke:#D7D29E;stroke-width:8.64\"/>\n",
       "\t<rect x=\"1022.17\" y=\"2066.32\" width=\"16.71\" height=\"359.50\" style=\"fill:#CAC27E\"/>\n",
       "\t<rect x=\"1026.49\" y=\"2070.64\" width=\"8.07\" height=\"350.87\" style=\"fill:none;stroke:#D7D29E;stroke-width:8.64\"/>\n",
       "\t<rect x=\"1038.88\" y=\"2288.95\" width=\"16.71\" height=\"136.87\" style=\"fill:#CAC27E\"/>\n",
       "\t<rect x=\"1043.20\" y=\"2293.27\" width=\"8.07\" height=\"128.23\" style=\"fill:none;stroke:#D7D29E;stroke-width:8.64\"/>\n",
       "\t<rect x=\"1055.59\" y=\"2100.60\" width=\"16.71\" height=\"325.23\" style=\"fill:#CAC27E\"/>\n",
       "\t<rect x=\"1059.91\" y=\"2104.92\" width=\"8.07\" height=\"316.59\" style=\"fill:none;stroke:#D7D29E;stroke-width:8.64\"/>\n",
       "\t<rect x=\"1072.29\" y=\"2288.95\" width=\"16.71\" height=\"136.87\" style=\"fill:#CAC27E\"/>\n",
       "\t<rect x=\"1076.61\" y=\"2293.27\" width=\"8.07\" height=\"128.23\" style=\"fill:none;stroke:#D7D29E;stroke-width:8.64\"/>\n",
       "\t<rect x=\"1089.00\" y=\"2237.59\" width=\"16.71\" height=\"188.23\" style=\"fill:#CAC27E\"/>\n",
       "\t<rect x=\"1093.32\" y=\"2241.91\" width=\"8.07\" height=\"179.59\" style=\"fill:none;stroke:#D7D29E;stroke-width:8.64\"/>\n",
       "\t<rect x=\"1105.71\" y=\"2288.95\" width=\"16.71\" height=\"136.87\" style=\"fill:#CAC27E\"/>\n",
       "\t<rect x=\"1110.03\" y=\"2293.27\" width=\"8.07\" height=\"128.23\" style=\"fill:none;stroke:#D7D29E;stroke-width:8.64\"/>\n",
       "\t<rect x=\"1122.41\" y=\"2323.11\" width=\"16.71\" height=\"102.72\" style=\"fill:#CAC27E\"/>\n",
       "\t<rect x=\"1126.73\" y=\"2327.43\" width=\"8.07\" height=\"94.08\" style=\"fill:none;stroke:#D7D29E;stroke-width:8.64\"/>\n",
       "\t<rect x=\"1139.12\" y=\"2323.11\" width=\"16.71\" height=\"102.72\" style=\"fill:#CAC27E\"/>\n",
       "\t<rect x=\"1143.44\" y=\"2327.43\" width=\"8.07\" height=\"94.08\" style=\"fill:none;stroke:#D7D29E;stroke-width:8.64\"/>\n",
       "\t<rect x=\"1155.83\" y=\"2306.03\" width=\"16.71\" height=\"119.79\" style=\"fill:#CAC27E\"/>\n",
       "\t<rect x=\"1160.14\" y=\"2310.35\" width=\"8.07\" height=\"111.15\" style=\"fill:none;stroke:#D7D29E;stroke-width:8.64\"/>\n",
       "\t<rect x=\"1172.53\" y=\"2340.31\" width=\"16.71\" height=\"85.51\" style=\"fill:#CAC27E\"/>\n",
       "\t<rect x=\"1176.85\" y=\"2344.63\" width=\"8.07\" height=\"76.87\" style=\"fill:none;stroke:#D7D29E;stroke-width:8.64\"/>\n",
       "\t<rect x=\"1189.24\" y=\"2357.39\" width=\"16.71\" height=\"68.44\" style=\"fill:#CAC27E\"/>\n",
       "\t<rect x=\"1193.56\" y=\"2361.71\" width=\"8.07\" height=\"59.80\" style=\"fill:none;stroke:#D7D29E;stroke-width:8.64\"/>\n",
       "\t<rect x=\"1205.94\" y=\"2391.67\" width=\"16.71\" height=\"34.16\" style=\"fill:#CAC27E\"/>\n",
       "\t<rect x=\"1210.26\" y=\"2395.99\" width=\"8.07\" height=\"25.52\" style=\"fill:none;stroke:#D7D29E;stroke-width:8.64\"/>\n",
       "\t<rect x=\"1222.65\" y=\"2357.39\" width=\"16.71\" height=\"68.44\" style=\"fill:#CAC27E\"/>\n",
       "\t<rect x=\"1226.97\" y=\"2361.71\" width=\"8.07\" height=\"59.80\" style=\"fill:none;stroke:#D7D29E;stroke-width:8.64\"/>\n",
       "\t<rect x=\"1239.36\" y=\"2340.31\" width=\"16.71\" height=\"85.51\" style=\"fill:#CAC27E\"/>\n",
       "\t<rect x=\"1243.68\" y=\"2344.63\" width=\"8.07\" height=\"76.87\" style=\"fill:none;stroke:#D7D29E;stroke-width:8.64\"/>\n",
       "\t<rect x=\"1256.06\" y=\"2340.31\" width=\"16.71\" height=\"85.51\" style=\"fill:#CAC27E\"/>\n",
       "\t<rect x=\"1260.38\" y=\"2344.63\" width=\"8.07\" height=\"76.87\" style=\"fill:none;stroke:#D7D29E;stroke-width:8.64\"/>\n",
       "\t<rect x=\"1272.77\" y=\"2374.47\" width=\"16.71\" height=\"51.36\" style=\"fill:#CAC27E\"/>\n",
       "\t<rect x=\"1277.09\" y=\"2378.79\" width=\"8.07\" height=\"42.72\" style=\"fill:none;stroke:#D7D29E;stroke-width:8.64\"/>\n",
       "\t<rect x=\"1289.47\" y=\"2323.11\" width=\"16.71\" height=\"102.72\" style=\"fill:#CAC27E\"/>\n",
       "\t<rect x=\"1293.79\" y=\"2327.43\" width=\"8.07\" height=\"94.08\" style=\"fill:none;stroke:#D7D29E;stroke-width:8.64\"/>\n",
       "\t<rect x=\"1306.18\" y=\"2408.75\" width=\"16.83\" height=\"17.08\" style=\"fill:#CAC27E\"/>\n",
       "\t<rect x=\"1310.50\" y=\"2413.07\" width=\"8.19\" height=\"8.44\" style=\"fill:none;stroke:#D7D29E;stroke-width:8.64\"/>\n",
       "\t<rect x=\"1323.01\" y=\"2340.31\" width=\"16.71\" height=\"85.51\" style=\"fill:#CAC27E\"/>\n",
       "\t<rect x=\"1327.33\" y=\"2344.63\" width=\"8.07\" height=\"76.87\" style=\"fill:none;stroke:#D7D29E;stroke-width:8.64\"/>\n",
       "\t<rect x=\"1339.72\" y=\"2408.75\" width=\"16.71\" height=\"17.08\" style=\"fill:#CAC27E\"/>\n",
       "\t<rect x=\"1344.04\" y=\"2413.07\" width=\"8.07\" height=\"8.44\" style=\"fill:none;stroke:#D7D29E;stroke-width:8.64\"/>\n",
       "\t<rect x=\"1356.42\" y=\"2374.47\" width=\"16.71\" height=\"51.36\" style=\"fill:#CAC27E\"/>\n",
       "\t<rect x=\"1360.74\" y=\"2378.79\" width=\"8.07\" height=\"42.72\" style=\"fill:none;stroke:#D7D29E;stroke-width:8.64\"/>\n",
       "\t<rect x=\"1373.13\" y=\"2340.31\" width=\"16.71\" height=\"85.51\" style=\"fill:#CAC27E\"/>\n",
       "\t<rect x=\"1377.45\" y=\"2344.63\" width=\"8.07\" height=\"76.87\" style=\"fill:none;stroke:#D7D29E;stroke-width:8.64\"/>\n",
       "\t<rect x=\"1389.84\" y=\"2408.75\" width=\"16.71\" height=\"17.08\" style=\"fill:#CAC27E\"/>\n",
       "\t<rect x=\"1394.16\" y=\"2413.07\" width=\"8.07\" height=\"8.44\" style=\"fill:none;stroke:#D7D29E;stroke-width:8.64\"/>\n",
       "\t<rect x=\"1406.54\" y=\"2357.39\" width=\"16.71\" height=\"68.44\" style=\"fill:#CAC27E\"/>\n",
       "\t<rect x=\"1410.86\" y=\"2361.71\" width=\"8.07\" height=\"59.80\" style=\"fill:none;stroke:#D7D29E;stroke-width:8.64\"/>\n",
       "\t<rect x=\"1423.25\" y=\"2408.75\" width=\"16.71\" height=\"17.08\" style=\"fill:#CAC27E\"/>\n",
       "\t<rect x=\"1427.57\" y=\"2413.07\" width=\"8.07\" height=\"8.44\" style=\"fill:none;stroke:#D7D29E;stroke-width:8.64\"/>\n",
       "\t<rect x=\"1456.66\" y=\"2374.47\" width=\"16.71\" height=\"51.36\" style=\"fill:#CAC27E\"/>\n",
       "\t<rect x=\"1460.98\" y=\"2378.79\" width=\"8.07\" height=\"42.72\" style=\"fill:none;stroke:#D7D29E;stroke-width:8.64\"/>\n",
       "\t<rect x=\"1473.37\" y=\"2391.67\" width=\"16.71\" height=\"34.16\" style=\"fill:#CAC27E\"/>\n",
       "\t<rect x=\"1477.69\" y=\"2395.99\" width=\"8.07\" height=\"25.52\" style=\"fill:none;stroke:#D7D29E;stroke-width:8.64\"/>\n",
       "\t<rect x=\"1506.78\" y=\"2374.47\" width=\"16.71\" height=\"51.36\" style=\"fill:#CAC27E\"/>\n",
       "\t<rect x=\"1511.10\" y=\"2378.79\" width=\"8.07\" height=\"42.72\" style=\"fill:none;stroke:#D7D29E;stroke-width:8.64\"/>\n",
       "\t<rect x=\"1523.49\" y=\"2408.75\" width=\"16.71\" height=\"17.08\" style=\"fill:#CAC27E\"/>\n",
       "\t<rect x=\"1527.81\" y=\"2413.07\" width=\"8.07\" height=\"8.44\" style=\"fill:none;stroke:#D7D29E;stroke-width:8.64\"/>\n",
       "\t<rect x=\"1540.19\" y=\"2408.75\" width=\"16.71\" height=\"17.08\" style=\"fill:#CAC27E\"/>\n",
       "\t<rect x=\"1544.51\" y=\"2413.07\" width=\"8.07\" height=\"8.44\" style=\"fill:none;stroke:#D7D29E;stroke-width:8.64\"/>\n",
       "\t<rect x=\"1556.90\" y=\"2391.67\" width=\"16.71\" height=\"34.16\" style=\"fill:#CAC27E\"/>\n",
       "\t<rect x=\"1561.22\" y=\"2395.99\" width=\"8.07\" height=\"25.52\" style=\"fill:none;stroke:#D7D29E;stroke-width:8.64\"/>\n",
       "\t<rect x=\"1573.61\" y=\"2340.31\" width=\"16.71\" height=\"85.51\" style=\"fill:#CAC27E\"/>\n",
       "\t<rect x=\"1577.92\" y=\"2344.63\" width=\"8.07\" height=\"76.87\" style=\"fill:none;stroke:#D7D29E;stroke-width:8.64\"/>\n",
       "\t<rect x=\"1590.31\" y=\"2374.47\" width=\"16.71\" height=\"51.36\" style=\"fill:#CAC27E\"/>\n",
       "\t<rect x=\"1594.63\" y=\"2378.79\" width=\"8.07\" height=\"42.72\" style=\"fill:none;stroke:#D7D29E;stroke-width:8.64\"/>\n",
       "\t<rect x=\"1607.02\" y=\"2408.75\" width=\"16.71\" height=\"17.08\" style=\"fill:#CAC27E\"/>\n",
       "\t<rect x=\"1611.34\" y=\"2413.07\" width=\"8.07\" height=\"8.44\" style=\"fill:none;stroke:#D7D29E;stroke-width:8.64\"/>\n",
       "\t<rect x=\"1623.72\" y=\"2408.75\" width=\"16.71\" height=\"17.08\" style=\"fill:#CAC27E\"/>\n",
       "\t<rect x=\"1628.04\" y=\"2413.07\" width=\"8.07\" height=\"8.44\" style=\"fill:none;stroke:#D7D29E;stroke-width:8.64\"/>\n",
       "\t<rect x=\"1640.43\" y=\"2391.67\" width=\"16.71\" height=\"34.16\" style=\"fill:#CAC27E\"/>\n",
       "\t<rect x=\"1644.75\" y=\"2395.99\" width=\"8.07\" height=\"25.52\" style=\"fill:none;stroke:#D7D29E;stroke-width:8.64\"/>\n",
       "\t<rect x=\"1673.84\" y=\"2408.75\" width=\"16.71\" height=\"17.08\" style=\"fill:#CAC27E\"/>\n",
       "\t<rect x=\"1678.16\" y=\"2413.07\" width=\"8.07\" height=\"8.44\" style=\"fill:none;stroke:#D7D29E;stroke-width:8.64\"/>\n",
       "\t<rect x=\"1707.26\" y=\"2391.67\" width=\"16.71\" height=\"34.16\" style=\"fill:#CAC27E\"/>\n",
       "\t<rect x=\"1711.57\" y=\"2395.99\" width=\"8.07\" height=\"25.52\" style=\"fill:none;stroke:#D7D29E;stroke-width:8.64\"/>\n",
       "\t<rect x=\"1723.96\" y=\"2408.75\" width=\"16.71\" height=\"17.08\" style=\"fill:#CAC27E\"/>\n",
       "\t<rect x=\"1728.28\" y=\"2413.07\" width=\"8.07\" height=\"8.44\" style=\"fill:none;stroke:#D7D29E;stroke-width:8.64\"/>\n",
       "\t<rect x=\"1774.08\" y=\"2408.75\" width=\"16.71\" height=\"17.08\" style=\"fill:#CAC27E\"/>\n",
       "\t<rect x=\"1778.40\" y=\"2413.07\" width=\"8.07\" height=\"8.44\" style=\"fill:none;stroke:#D7D29E;stroke-width:8.64\"/>\n",
       "\t<rect x=\"1790.79\" y=\"2391.67\" width=\"16.71\" height=\"34.16\" style=\"fill:#CAC27E\"/>\n",
       "\t<rect x=\"1795.11\" y=\"2395.99\" width=\"8.07\" height=\"25.52\" style=\"fill:none;stroke:#D7D29E;stroke-width:8.64\"/>\n",
       "\t<rect x=\"1807.49\" y=\"2408.75\" width=\"16.71\" height=\"17.08\" style=\"fill:#CAC27E\"/>\n",
       "\t<rect x=\"1811.81\" y=\"2413.07\" width=\"8.07\" height=\"8.44\" style=\"fill:none;stroke:#D7D29E;stroke-width:8.64\"/>\n",
       "\t<rect x=\"1840.90\" y=\"2408.75\" width=\"16.71\" height=\"17.08\" style=\"fill:#CAC27E\"/>\n",
       "\t<rect x=\"1845.22\" y=\"2413.07\" width=\"8.07\" height=\"8.44\" style=\"fill:none;stroke:#D7D29E;stroke-width:8.64\"/>\n",
       "\t<rect x=\"1857.61\" y=\"2391.67\" width=\"16.71\" height=\"34.16\" style=\"fill:#CAC27E\"/>\n",
       "\t<rect x=\"1861.93\" y=\"2395.99\" width=\"8.07\" height=\"25.52\" style=\"fill:none;stroke:#D7D29E;stroke-width:8.64\"/>\n",
       "\t<rect x=\"2007.97\" y=\"2408.75\" width=\"16.71\" height=\"17.08\" style=\"fill:#CAC27E\"/>\n",
       "\t<rect x=\"2012.29\" y=\"2413.07\" width=\"8.07\" height=\"8.44\" style=\"fill:none;stroke:#D7D29E;stroke-width:8.64\"/>\n",
       "\t<rect x=\"2058.09\" y=\"2408.75\" width=\"16.71\" height=\"17.08\" style=\"fill:#CAC27E\"/>\n",
       "\t<rect x=\"2062.41\" y=\"2413.07\" width=\"8.07\" height=\"8.44\" style=\"fill:none;stroke:#D7D29E;stroke-width:8.64\"/>\n",
       "\t<rect x=\"2108.20\" y=\"2408.75\" width=\"16.71\" height=\"17.08\" style=\"fill:#CAC27E\"/>\n",
       "\t<rect x=\"2112.52\" y=\"2413.07\" width=\"8.07\" height=\"8.44\" style=\"fill:none;stroke:#D7D29E;stroke-width:8.64\"/>\n",
       "\t<rect x=\"2158.32\" y=\"2408.75\" width=\"16.71\" height=\"17.08\" style=\"fill:#CAC27E\"/>\n",
       "\t<rect x=\"2162.64\" y=\"2413.07\" width=\"8.07\" height=\"8.44\" style=\"fill:none;stroke:#D7D29E;stroke-width:8.64\"/>\n",
       "\t<rect x=\"2408.92\" y=\"2408.75\" width=\"16.71\" height=\"17.08\" style=\"fill:#CAC27E\"/>\n",
       "\t<rect x=\"2413.24\" y=\"2413.07\" width=\"8.07\" height=\"8.44\" style=\"fill:none;stroke:#D7D29E;stroke-width:8.64\"/>\n",
       "\t<rect x=\"2609.52\" y=\"2408.75\" width=\"16.71\" height=\"17.08\" style=\"fill:#CAC27E\"/>\n",
       "\t<rect x=\"2613.84\" y=\"2413.07\" width=\"8.07\" height=\"8.44\" style=\"fill:none;stroke:#D7D29E;stroke-width:8.64\"/>\n",
       "\t<rect x=\"3177.53\" y=\"2408.75\" width=\"16.71\" height=\"17.08\" style=\"fill:#CAC27E\"/>\n",
       "\t<rect x=\"3181.85\" y=\"2413.07\" width=\"8.07\" height=\"8.44\" style=\"fill:none;stroke:#D7D29E;stroke-width:8.64\"/>\n",
       "\t<line x1=\"390.80\" y1=\"2489.19\" x2=\"390.80\" y2=\"100.86\" style=\"stroke:#000000;stroke-width:5.76\"/>\n",
       "\t<line x1=\"390.80\" y1=\"2425.82\" x2=\"350.83\" y2=\"2425.82\" style=\"stroke:#000000;stroke-width:5.76\"/>\n",
       "\t<text x=\"300.72\" y=\"2425.82\" style=\"font-family:'Helvetica';font-size:99.99px;fill:#000000\" transform=\"rotate(-90 300.72,2425.82)\" text-anchor=\"middle\">0</text>\n",
       "\t<line x1=\"390.80\" y1=\"1671.91\" x2=\"350.83\" y2=\"1671.91\" style=\"stroke:#000000;stroke-width:5.76\"/>\n",
       "\t<text x=\"300.72\" y=\"1671.91\" style=\"font-family:'Helvetica';font-size:99.99px;fill:#000000\" transform=\"rotate(-90 300.72,1671.91)\" text-anchor=\"middle\">.02</text>\n",
       "\t<line x1=\"390.80\" y1=\"918.01\" x2=\"350.83\" y2=\"918.01\" style=\"stroke:#000000;stroke-width:5.76\"/>\n",
       "\t<text x=\"300.72\" y=\"918.01\" style=\"font-family:'Helvetica';font-size:99.99px;fill:#000000\" transform=\"rotate(-90 300.72,918.01)\" text-anchor=\"middle\">.04</text>\n",
       "\t<line x1=\"390.80\" y1=\"164.22\" x2=\"350.83\" y2=\"164.22\" style=\"stroke:#000000;stroke-width:5.76\"/>\n",
       "\t<text x=\"300.72\" y=\"164.22\" style=\"font-family:'Helvetica';font-size:99.99px;fill:#000000\" transform=\"rotate(-90 300.72,164.22)\" text-anchor=\"middle\">.06</text>\n",
       "\t<text x=\"190.71\" y=\"1294.96\" style=\"font-family:'Helvetica';font-size:99.99px;fill:#000000\" transform=\"rotate(-90 190.71,1294.96)\" text-anchor=\"middle\">Fraction</text>\n",
       "\t<line x1=\"390.80\" y1=\"2489.19\" x2=\"3859.02\" y2=\"2489.19\" style=\"stroke:#000000;stroke-width:5.76\"/>\n",
       "\t<line x1=\"454.16\" y1=\"2489.19\" x2=\"454.16\" y2=\"2529.16\" style=\"stroke:#000000;stroke-width:5.76\"/>\n",
       "\t<text x=\"454.16\" y=\"2619.14\" style=\"font-family:'Helvetica';font-size:99.99px;fill:#000000\" text-anchor=\"middle\">0</text>\n",
       "\t<line x1=\"1289.47\" y1=\"2489.19\" x2=\"1289.47\" y2=\"2529.16\" style=\"stroke:#000000;stroke-width:5.76\"/>\n",
       "\t<text x=\"1289.47\" y=\"2619.14\" style=\"font-family:'Helvetica';font-size:99.99px;fill:#000000\" text-anchor=\"middle\">.05</text>\n",
       "\t<line x1=\"2124.91\" y1=\"2489.19\" x2=\"2124.91\" y2=\"2529.16\" style=\"stroke:#000000;stroke-width:5.76\"/>\n",
       "\t<text x=\"2124.91\" y=\"2619.14\" style=\"font-family:'Helvetica';font-size:99.99px;fill:#000000\" text-anchor=\"middle\">.1</text>\n",
       "\t<line x1=\"2960.35\" y1=\"2489.19\" x2=\"2960.35\" y2=\"2529.16\" style=\"stroke:#000000;stroke-width:5.76\"/>\n",
       "\t<text x=\"2960.35\" y=\"2619.14\" style=\"font-family:'Helvetica';font-size:99.99px;fill:#000000\" text-anchor=\"middle\">.15</text>\n",
       "\t<line x1=\"3795.66\" y1=\"2489.19\" x2=\"3795.66\" y2=\"2529.16\" style=\"stroke:#000000;stroke-width:5.76\"/>\n",
       "\t<text x=\"3795.66\" y=\"2619.14\" style=\"font-family:'Helvetica';font-size:99.99px;fill:#000000\" text-anchor=\"middle\">.2</text>\n",
       "\t<text x=\"2124.91\" y=\"2729.16\" style=\"font-family:'Helvetica';font-size:99.99px;fill:#000000\" text-anchor=\"middle\">mobility_rate</text>\n",
       "</svg>\n"
      ],
      "text/html": [
       "                <iframe frameborder=\"0\" scrolling=\"no\" height=\"436\" width=\"600\"                srcdoc=\"<html><body>&lt;?xml version=&quot;1.0&quot; encoding=&quot;UTF-8&quot; standalone=&quot;no&quot;?&gt;\n",
       "&lt;!-- This is a Stata 16.1 generated SVG file (http://www.stata.com) --&gt;\n",
       "\n",
       "&lt;svg version=&quot;1.1&quot; width=&quot;600px&quot; height=&quot;436px&quot; viewBox=&quot;0 0 3960 2880&quot; xmlns=&quot;http://www.w3.org/2000/svg&quot; xmlns:xlink=&quot;http://www.w3.org/1999/xlink&quot;&gt;\n",
       "\t&lt;desc&gt;Stata Graph - Graph&lt;/desc&gt;\n",
       "\t&lt;rect x=&quot;0&quot; y=&quot;0&quot; width=&quot;3960&quot; height=&quot;2880&quot; style=&quot;fill:#EAF2F3;stroke:none&quot;/&gt;\n",
       "\t&lt;rect x=&quot;0.00&quot; y=&quot;0.00&quot; width=&quot;3959.88&quot; height=&quot;2880.00&quot; style=&quot;fill:#EAF2F3&quot;/&gt;\n",
       "\t&lt;rect x=&quot;2.88&quot; y=&quot;2.88&quot; width=&quot;3954.12&quot; height=&quot;2874.24&quot; style=&quot;fill:none;stroke:#EAF2F3;stroke-width:5.76&quot;/&gt;\n",
       "\t&lt;rect x=&quot;390.80&quot; y=&quot;100.86&quot; width=&quot;3468.22&quot; height=&quot;2388.33&quot; style=&quot;fill:#FFFFFF&quot;/&gt;\n",
       "\t&lt;rect x=&quot;393.68&quot; y=&quot;103.74&quot; width=&quot;3462.46&quot; height=&quot;2382.57&quot; style=&quot;fill:none;stroke:#FFFFFF;stroke-width:5.76&quot;/&gt;\n",
       "\t&lt;line x1=&quot;390.80&quot; y1=&quot;2425.82&quot; x2=&quot;3859.02&quot; y2=&quot;2425.82&quot; style=&quot;stroke:#EAF2F3;stroke-width:8.64&quot;/&gt;\n",
       "\t&lt;line x1=&quot;390.80&quot; y1=&quot;1671.91&quot; x2=&quot;3859.02&quot; y2=&quot;1671.91&quot; style=&quot;stroke:#EAF2F3;stroke-width:8.64&quot;/&gt;\n",
       "\t&lt;line x1=&quot;390.80&quot; y1=&quot;918.01&quot; x2=&quot;3859.02&quot; y2=&quot;918.01&quot; style=&quot;stroke:#EAF2F3;stroke-width:8.64&quot;/&gt;\n",
       "\t&lt;line x1=&quot;390.80&quot; y1=&quot;164.22&quot; x2=&quot;3859.02&quot; y2=&quot;164.22&quot; style=&quot;stroke:#EAF2F3;stroke-width:8.64&quot;/&gt;\n",
       "\t&lt;rect x=&quot;454.16&quot; y=&quot;1946.52&quot; width=&quot;16.71&quot; height=&quot;479.30&quot; style=&quot;fill:#CAC27E&quot;/&gt;\n",
       "\t&lt;rect x=&quot;458.48&quot; y=&quot;1950.84&quot; width=&quot;8.07&quot; height=&quot;470.66&quot; style=&quot;fill:none;stroke:#D7D29E;stroke-width:8.64&quot;/&gt;\n",
       "\t&lt;rect x=&quot;470.87&quot; y=&quot;2271.75&quot; width=&quot;16.71&quot; height=&quot;154.07&quot; style=&quot;fill:#CAC27E&quot;/&gt;\n",
       "\t&lt;rect x=&quot;475.19&quot; y=&quot;2276.07&quot; width=&quot;8.07&quot; height=&quot;145.43&quot; style=&quot;fill:none;stroke:#D7D29E;stroke-width:8.64&quot;/&gt;\n",
       "\t&lt;rect x=&quot;487.57&quot; y=&quot;2254.67&quot; width=&quot;16.71&quot; height=&quot;171.15&quot; style=&quot;fill:#CAC27E&quot;/&gt;\n",
       "\t&lt;rect x=&quot;491.89&quot; y=&quot;2258.99&quot; width=&quot;8.07&quot; height=&quot;162.51&quot; style=&quot;fill:none;stroke:#D7D29E;stroke-width:8.64&quot;/&gt;\n",
       "\t&lt;rect x=&quot;504.28&quot; y=&quot;2117.68&quot; width=&quot;16.71&quot; height=&quot;308.15&quot; style=&quot;fill:#CAC27E&quot;/&gt;\n",
       "\t&lt;rect x=&quot;508.60&quot; y=&quot;2122.00&quot; width=&quot;8.07&quot; height=&quot;299.51&quot; style=&quot;fill:none;stroke:#D7D29E;stroke-width:8.64&quot;/&gt;\n",
       "\t&lt;rect x=&quot;520.99&quot; y=&quot;1929.45&quot; width=&quot;16.71&quot; height=&quot;496.38&quot; style=&quot;fill:#CAC27E&quot;/&gt;\n",
       "\t&lt;rect x=&quot;525.31&quot; y=&quot;1933.77&quot; width=&quot;8.07&quot; height=&quot;487.74&quot; style=&quot;fill:none;stroke:#D7D29E;stroke-width:8.64&quot;/&gt;\n",
       "\t&lt;rect x=&quot;537.69&quot; y=&quot;1638.38&quot; width=&quot;16.71&quot; height=&quot;787.45&quot; style=&quot;fill:#CAC27E&quot;/&gt;\n",
       "\t&lt;rect x=&quot;542.01&quot; y=&quot;1642.70&quot; width=&quot;8.07&quot; height=&quot;778.81&quot; style=&quot;fill:none;stroke:#D7D29E;stroke-width:8.64&quot;/&gt;\n",
       "\t&lt;rect x=&quot;554.40&quot; y=&quot;1278.87&quot; width=&quot;16.71&quot; height=&quot;1146.95&quot; style=&quot;fill:#CAC27E&quot;/&gt;\n",
       "\t&lt;rect x=&quot;558.72&quot; y=&quot;1283.19&quot; width=&quot;8.07&quot; height=&quot;1138.31&quot; style=&quot;fill:none;stroke:#D7D29E;stroke-width:8.64&quot;/&gt;\n",
       "\t&lt;rect x=&quot;571.11&quot; y=&quot;1090.64&quot; width=&quot;16.71&quot; height=&quot;1335.18&quot; style=&quot;fill:#CAC27E&quot;/&gt;\n",
       "\t&lt;rect x=&quot;575.43&quot; y=&quot;1094.96&quot; width=&quot;8.07&quot; height=&quot;1326.54&quot; style=&quot;fill:none;stroke:#D7D29E;stroke-width:8.64&quot;/&gt;\n",
       "\t&lt;rect x=&quot;587.81&quot; y=&quot;645.50&quot; width=&quot;16.71&quot; height=&quot;1780.32&quot; style=&quot;fill:#CAC27E&quot;/&gt;\n",
       "\t&lt;rect x=&quot;592.13&quot; y=&quot;649.82&quot; width=&quot;8.07&quot; height=&quot;1771.68&quot; style=&quot;fill:none;stroke:#D7D29E;stroke-width:8.64&quot;/&gt;\n",
       "\t&lt;rect x=&quot;604.52&quot; y=&quot;268.92&quot; width=&quot;16.71&quot; height=&quot;2156.91&quot; style=&quot;fill:#CAC27E&quot;/&gt;\n",
       "\t&lt;rect x=&quot;608.84&quot; y=&quot;273.24&quot; width=&quot;8.07&quot; height=&quot;2148.27&quot; style=&quot;fill:none;stroke:#D7D29E;stroke-width:8.64&quot;/&gt;\n",
       "\t&lt;rect x=&quot;621.23&quot; y=&quot;525.71&quot; width=&quot;16.71&quot; height=&quot;1900.12&quot; style=&quot;fill:#CAC27E&quot;/&gt;\n",
       "\t&lt;rect x=&quot;625.54&quot; y=&quot;530.03&quot; width=&quot;8.07&quot; height=&quot;1891.48&quot; style=&quot;fill:none;stroke:#D7D29E;stroke-width:8.64&quot;/&gt;\n",
       "\t&lt;rect x=&quot;637.93&quot; y=&quot;679.78&quot; width=&quot;16.71&quot; height=&quot;1746.04&quot; style=&quot;fill:#CAC27E&quot;/&gt;\n",
       "\t&lt;rect x=&quot;642.25&quot; y=&quot;684.10&quot; width=&quot;8.07&quot; height=&quot;1737.40&quot; style=&quot;fill:none;stroke:#D7D29E;stroke-width:8.64&quot;/&gt;\n",
       "\t&lt;rect x=&quot;654.64&quot; y=&quot;320.28&quot; width=&quot;16.71&quot; height=&quot;2105.55&quot; style=&quot;fill:#CAC27E&quot;/&gt;\n",
       "\t&lt;rect x=&quot;658.96&quot; y=&quot;324.59&quot; width=&quot;8.07&quot; height=&quot;2096.91&quot; style=&quot;fill:none;stroke:#D7D29E;stroke-width:8.64&quot;/&gt;\n",
       "\t&lt;rect x=&quot;671.34&quot; y=&quot;337.35&quot; width=&quot;16.71&quot; height=&quot;2088.47&quot; style=&quot;fill:#CAC27E&quot;/&gt;\n",
       "\t&lt;rect x=&quot;675.66&quot; y=&quot;341.67&quot; width=&quot;8.07&quot; height=&quot;2079.83&quot; style=&quot;fill:none;stroke:#D7D29E;stroke-width:8.64&quot;/&gt;\n",
       "\t&lt;rect x=&quot;688.05&quot; y=&quot;525.71&quot; width=&quot;16.71&quot; height=&quot;1900.12&quot; style=&quot;fill:#CAC27E&quot;/&gt;\n",
       "\t&lt;rect x=&quot;692.37&quot; y=&quot;530.03&quot; width=&quot;8.07&quot; height=&quot;1891.48&quot; style=&quot;fill:none;stroke:#D7D29E;stroke-width:8.64&quot;/&gt;\n",
       "\t&lt;rect x=&quot;704.76&quot; y=&quot;628.42&quot; width=&quot;16.71&quot; height=&quot;1797.40&quot; style=&quot;fill:#CAC27E&quot;/&gt;\n",
       "\t&lt;rect x=&quot;709.08&quot; y=&quot;632.74&quot; width=&quot;8.07&quot; height=&quot;1788.76&quot; style=&quot;fill:none;stroke:#D7D29E;stroke-width:8.64&quot;/&gt;\n",
       "\t&lt;rect x=&quot;721.46&quot; y=&quot;816.78&quot; width=&quot;16.71&quot; height=&quot;1609.05&quot; style=&quot;fill:#CAC27E&quot;/&gt;\n",
       "\t&lt;rect x=&quot;725.78&quot; y=&quot;821.10&quot; width=&quot;8.07&quot; height=&quot;1600.41&quot; style=&quot;fill:none;stroke:#D7D29E;stroke-width:8.64&quot;/&gt;\n",
       "\t&lt;rect x=&quot;738.17&quot; y=&quot;782.50&quot; width=&quot;16.71&quot; height=&quot;1643.33&quot; style=&quot;fill:#CAC27E&quot;/&gt;\n",
       "\t&lt;rect x=&quot;742.49&quot; y=&quot;786.82&quot; width=&quot;8.07&quot; height=&quot;1634.69&quot; style=&quot;fill:none;stroke:#D7D29E;stroke-width:8.64&quot;/&gt;\n",
       "\t&lt;rect x=&quot;754.88&quot; y=&quot;1159.08&quot; width=&quot;16.71&quot; height=&quot;1266.74&quot; style=&quot;fill:#CAC27E&quot;/&gt;\n",
       "\t&lt;rect x=&quot;759.19&quot; y=&quot;1163.40&quot; width=&quot;8.07&quot; height=&quot;1258.10&quot; style=&quot;fill:none;stroke:#D7D29E;stroke-width:8.64&quot;/&gt;\n",
       "\t&lt;rect x=&quot;771.58&quot; y=&quot;987.93&quot; width=&quot;16.71&quot; height=&quot;1437.90&quot; style=&quot;fill:#CAC27E&quot;/&gt;\n",
       "\t&lt;rect x=&quot;775.90&quot; y=&quot;992.25&quot; width=&quot;8.07&quot; height=&quot;1429.26&quot; style=&quot;fill:none;stroke:#D7D29E;stroke-width:8.64&quot;/&gt;\n",
       "\t&lt;rect x=&quot;788.29&quot; y=&quot;1364.51&quot; width=&quot;16.71&quot; height=&quot;1061.31&quot; style=&quot;fill:#CAC27E&quot;/&gt;\n",
       "\t&lt;rect x=&quot;792.61&quot; y=&quot;1368.83&quot; width=&quot;8.07&quot; height=&quot;1052.67&quot; style=&quot;fill:none;stroke:#D7D29E;stroke-width:8.64&quot;/&gt;\n",
       "\t&lt;rect x=&quot;804.99&quot; y=&quot;1415.87&quot; width=&quot;16.71&quot; height=&quot;1009.96&quot; style=&quot;fill:#CAC27E&quot;/&gt;\n",
       "\t&lt;rect x=&quot;809.31&quot; y=&quot;1420.19&quot; width=&quot;8.07&quot; height=&quot;1001.32&quot; style=&quot;fill:none;stroke:#D7D29E;stroke-width:8.64&quot;/&gt;\n",
       "\t&lt;rect x=&quot;821.70&quot; y=&quot;1706.81&quot; width=&quot;16.71&quot; height=&quot;719.01&quot; style=&quot;fill:#CAC27E&quot;/&gt;\n",
       "\t&lt;rect x=&quot;826.02&quot; y=&quot;1711.13&quot; width=&quot;8.07&quot; height=&quot;710.37&quot; style=&quot;fill:none;stroke:#D7D29E;stroke-width:8.64&quot;/&gt;\n",
       "\t&lt;rect x=&quot;838.41&quot; y=&quot;1741.09&quot; width=&quot;16.71&quot; height=&quot;684.73&quot; style=&quot;fill:#CAC27E&quot;/&gt;\n",
       "\t&lt;rect x=&quot;842.73&quot; y=&quot;1745.41&quot; width=&quot;8.07&quot; height=&quot;676.09&quot; style=&quot;fill:none;stroke:#D7D29E;stroke-width:8.64&quot;/&gt;\n",
       "\t&lt;rect x=&quot;855.11&quot; y=&quot;1775.37&quot; width=&quot;16.71&quot; height=&quot;650.45&quot; style=&quot;fill:#CAC27E&quot;/&gt;\n",
       "\t&lt;rect x=&quot;859.43&quot; y=&quot;1779.69&quot; width=&quot;8.07&quot; height=&quot;641.81&quot; style=&quot;fill:none;stroke:#D7D29E;stroke-width:8.64&quot;/&gt;\n",
       "\t&lt;rect x=&quot;871.82&quot; y=&quot;1809.53&quot; width=&quot;16.71&quot; height=&quot;616.29&quot; style=&quot;fill:#CAC27E&quot;/&gt;\n",
       "\t&lt;rect x=&quot;876.14&quot; y=&quot;1813.85&quot; width=&quot;8.07&quot; height=&quot;607.65&quot; style=&quot;fill:none;stroke:#D7D29E;stroke-width:8.64&quot;/&gt;\n",
       "\t&lt;rect x=&quot;888.52&quot; y=&quot;1878.09&quot; width=&quot;16.71&quot; height=&quot;547.73&quot; style=&quot;fill:#CAC27E&quot;/&gt;\n",
       "\t&lt;rect x=&quot;892.84&quot; y=&quot;1882.41&quot; width=&quot;8.07&quot; height=&quot;539.09&quot; style=&quot;fill:none;stroke:#D7D29E;stroke-width:8.64&quot;/&gt;\n",
       "\t&lt;rect x=&quot;905.23&quot; y=&quot;1929.45&quot; width=&quot;16.71&quot; height=&quot;496.38&quot; style=&quot;fill:#CAC27E&quot;/&gt;\n",
       "\t&lt;rect x=&quot;909.55&quot; y=&quot;1933.77&quot; width=&quot;8.07&quot; height=&quot;487.74&quot; style=&quot;fill:none;stroke:#D7D29E;stroke-width:8.64&quot;/&gt;\n",
       "\t&lt;rect x=&quot;921.94&quot; y=&quot;2083.52&quot; width=&quot;16.71&quot; height=&quot;342.30&quot; style=&quot;fill:#CAC27E&quot;/&gt;\n",
       "\t&lt;rect x=&quot;926.26&quot; y=&quot;2087.84&quot; width=&quot;8.07&quot; height=&quot;333.66&quot; style=&quot;fill:none;stroke:#D7D29E;stroke-width:8.64&quot;/&gt;\n",
       "\t&lt;rect x=&quot;938.64&quot; y=&quot;1860.89&quot; width=&quot;16.71&quot; height=&quot;564.94&quot; style=&quot;fill:#CAC27E&quot;/&gt;\n",
       "\t&lt;rect x=&quot;942.96&quot; y=&quot;1865.21&quot; width=&quot;8.07&quot; height=&quot;556.30&quot; style=&quot;fill:none;stroke:#D7D29E;stroke-width:8.64&quot;/&gt;\n",
       "\t&lt;rect x=&quot;955.35&quot; y=&quot;2032.16&quot; width=&quot;16.71&quot; height=&quot;393.66&quot; style=&quot;fill:#CAC27E&quot;/&gt;\n",
       "\t&lt;rect x=&quot;959.67&quot; y=&quot;2036.48&quot; width=&quot;8.07&quot; height=&quot;385.02&quot; style=&quot;fill:none;stroke:#D7D29E;stroke-width:8.64&quot;/&gt;\n",
       "\t&lt;rect x=&quot;972.06&quot; y=&quot;2066.32&quot; width=&quot;16.71&quot; height=&quot;359.50&quot; style=&quot;fill:#CAC27E&quot;/&gt;\n",
       "\t&lt;rect x=&quot;976.38&quot; y=&quot;2070.64&quot; width=&quot;8.07&quot; height=&quot;350.87&quot; style=&quot;fill:none;stroke:#D7D29E;stroke-width:8.64&quot;/&gt;\n",
       "\t&lt;rect x=&quot;988.76&quot; y=&quot;2083.52&quot; width=&quot;16.71&quot; height=&quot;342.30&quot; style=&quot;fill:#CAC27E&quot;/&gt;\n",
       "\t&lt;rect x=&quot;993.08&quot; y=&quot;2087.84&quot; width=&quot;8.07&quot; height=&quot;333.66&quot; style=&quot;fill:none;stroke:#D7D29E;stroke-width:8.64&quot;/&gt;\n",
       "\t&lt;rect x=&quot;1005.47&quot; y=&quot;2100.60&quot; width=&quot;16.71&quot; height=&quot;325.23&quot; style=&quot;fill:#CAC27E&quot;/&gt;\n",
       "\t&lt;rect x=&quot;1009.79&quot; y=&quot;2104.92&quot; width=&quot;8.07&quot; height=&quot;316.59&quot; style=&quot;fill:none;stroke:#D7D29E;stroke-width:8.64&quot;/&gt;\n",
       "\t&lt;rect x=&quot;1022.17&quot; y=&quot;2066.32&quot; width=&quot;16.71&quot; height=&quot;359.50&quot; style=&quot;fill:#CAC27E&quot;/&gt;\n",
       "\t&lt;rect x=&quot;1026.49&quot; y=&quot;2070.64&quot; width=&quot;8.07&quot; height=&quot;350.87&quot; style=&quot;fill:none;stroke:#D7D29E;stroke-width:8.64&quot;/&gt;\n",
       "\t&lt;rect x=&quot;1038.88&quot; y=&quot;2288.95&quot; width=&quot;16.71&quot; height=&quot;136.87&quot; style=&quot;fill:#CAC27E&quot;/&gt;\n",
       "\t&lt;rect x=&quot;1043.20&quot; y=&quot;2293.27&quot; width=&quot;8.07&quot; height=&quot;128.23&quot; style=&quot;fill:none;stroke:#D7D29E;stroke-width:8.64&quot;/&gt;\n",
       "\t&lt;rect x=&quot;1055.59&quot; y=&quot;2100.60&quot; width=&quot;16.71&quot; height=&quot;325.23&quot; style=&quot;fill:#CAC27E&quot;/&gt;\n",
       "\t&lt;rect x=&quot;1059.91&quot; y=&quot;2104.92&quot; width=&quot;8.07&quot; height=&quot;316.59&quot; style=&quot;fill:none;stroke:#D7D29E;stroke-width:8.64&quot;/&gt;\n",
       "\t&lt;rect x=&quot;1072.29&quot; y=&quot;2288.95&quot; width=&quot;16.71&quot; height=&quot;136.87&quot; style=&quot;fill:#CAC27E&quot;/&gt;\n",
       "\t&lt;rect x=&quot;1076.61&quot; y=&quot;2293.27&quot; width=&quot;8.07&quot; height=&quot;128.23&quot; style=&quot;fill:none;stroke:#D7D29E;stroke-width:8.64&quot;/&gt;\n",
       "\t&lt;rect x=&quot;1089.00&quot; y=&quot;2237.59&quot; width=&quot;16.71&quot; height=&quot;188.23&quot; style=&quot;fill:#CAC27E&quot;/&gt;\n",
       "\t&lt;rect x=&quot;1093.32&quot; y=&quot;2241.91&quot; width=&quot;8.07&quot; height=&quot;179.59&quot; style=&quot;fill:none;stroke:#D7D29E;stroke-width:8.64&quot;/&gt;\n",
       "\t&lt;rect x=&quot;1105.71&quot; y=&quot;2288.95&quot; width=&quot;16.71&quot; height=&quot;136.87&quot; style=&quot;fill:#CAC27E&quot;/&gt;\n",
       "\t&lt;rect x=&quot;1110.03&quot; y=&quot;2293.27&quot; width=&quot;8.07&quot; height=&quot;128.23&quot; style=&quot;fill:none;stroke:#D7D29E;stroke-width:8.64&quot;/&gt;\n",
       "\t&lt;rect x=&quot;1122.41&quot; y=&quot;2323.11&quot; width=&quot;16.71&quot; height=&quot;102.72&quot; style=&quot;fill:#CAC27E&quot;/&gt;\n",
       "\t&lt;rect x=&quot;1126.73&quot; y=&quot;2327.43&quot; width=&quot;8.07&quot; height=&quot;94.08&quot; style=&quot;fill:none;stroke:#D7D29E;stroke-width:8.64&quot;/&gt;\n",
       "\t&lt;rect x=&quot;1139.12&quot; y=&quot;2323.11&quot; width=&quot;16.71&quot; height=&quot;102.72&quot; style=&quot;fill:#CAC27E&quot;/&gt;\n",
       "\t&lt;rect x=&quot;1143.44&quot; y=&quot;2327.43&quot; width=&quot;8.07&quot; height=&quot;94.08&quot; style=&quot;fill:none;stroke:#D7D29E;stroke-width:8.64&quot;/&gt;\n",
       "\t&lt;rect x=&quot;1155.83&quot; y=&quot;2306.03&quot; width=&quot;16.71&quot; height=&quot;119.79&quot; style=&quot;fill:#CAC27E&quot;/&gt;\n",
       "\t&lt;rect x=&quot;1160.14&quot; y=&quot;2310.35&quot; width=&quot;8.07&quot; height=&quot;111.15&quot; style=&quot;fill:none;stroke:#D7D29E;stroke-width:8.64&quot;/&gt;\n",
       "\t&lt;rect x=&quot;1172.53&quot; y=&quot;2340.31&quot; width=&quot;16.71&quot; height=&quot;85.51&quot; style=&quot;fill:#CAC27E&quot;/&gt;\n",
       "\t&lt;rect x=&quot;1176.85&quot; y=&quot;2344.63&quot; width=&quot;8.07&quot; height=&quot;76.87&quot; style=&quot;fill:none;stroke:#D7D29E;stroke-width:8.64&quot;/&gt;\n",
       "\t&lt;rect x=&quot;1189.24&quot; y=&quot;2357.39&quot; width=&quot;16.71&quot; height=&quot;68.44&quot; style=&quot;fill:#CAC27E&quot;/&gt;\n",
       "\t&lt;rect x=&quot;1193.56&quot; y=&quot;2361.71&quot; width=&quot;8.07&quot; height=&quot;59.80&quot; style=&quot;fill:none;stroke:#D7D29E;stroke-width:8.64&quot;/&gt;\n",
       "\t&lt;rect x=&quot;1205.94&quot; y=&quot;2391.67&quot; width=&quot;16.71&quot; height=&quot;34.16&quot; style=&quot;fill:#CAC27E&quot;/&gt;\n",
       "\t&lt;rect x=&quot;1210.26&quot; y=&quot;2395.99&quot; width=&quot;8.07&quot; height=&quot;25.52&quot; style=&quot;fill:none;stroke:#D7D29E;stroke-width:8.64&quot;/&gt;\n",
       "\t&lt;rect x=&quot;1222.65&quot; y=&quot;2357.39&quot; width=&quot;16.71&quot; height=&quot;68.44&quot; style=&quot;fill:#CAC27E&quot;/&gt;\n",
       "\t&lt;rect x=&quot;1226.97&quot; y=&quot;2361.71&quot; width=&quot;8.07&quot; height=&quot;59.80&quot; style=&quot;fill:none;stroke:#D7D29E;stroke-width:8.64&quot;/&gt;\n",
       "\t&lt;rect x=&quot;1239.36&quot; y=&quot;2340.31&quot; width=&quot;16.71&quot; height=&quot;85.51&quot; style=&quot;fill:#CAC27E&quot;/&gt;\n",
       "\t&lt;rect x=&quot;1243.68&quot; y=&quot;2344.63&quot; width=&quot;8.07&quot; height=&quot;76.87&quot; style=&quot;fill:none;stroke:#D7D29E;stroke-width:8.64&quot;/&gt;\n",
       "\t&lt;rect x=&quot;1256.06&quot; y=&quot;2340.31&quot; width=&quot;16.71&quot; height=&quot;85.51&quot; style=&quot;fill:#CAC27E&quot;/&gt;\n",
       "\t&lt;rect x=&quot;1260.38&quot; y=&quot;2344.63&quot; width=&quot;8.07&quot; height=&quot;76.87&quot; style=&quot;fill:none;stroke:#D7D29E;stroke-width:8.64&quot;/&gt;\n",
       "\t&lt;rect x=&quot;1272.77&quot; y=&quot;2374.47&quot; width=&quot;16.71&quot; height=&quot;51.36&quot; style=&quot;fill:#CAC27E&quot;/&gt;\n",
       "\t&lt;rect x=&quot;1277.09&quot; y=&quot;2378.79&quot; width=&quot;8.07&quot; height=&quot;42.72&quot; style=&quot;fill:none;stroke:#D7D29E;stroke-width:8.64&quot;/&gt;\n",
       "\t&lt;rect x=&quot;1289.47&quot; y=&quot;2323.11&quot; width=&quot;16.71&quot; height=&quot;102.72&quot; style=&quot;fill:#CAC27E&quot;/&gt;\n",
       "\t&lt;rect x=&quot;1293.79&quot; y=&quot;2327.43&quot; width=&quot;8.07&quot; height=&quot;94.08&quot; style=&quot;fill:none;stroke:#D7D29E;stroke-width:8.64&quot;/&gt;\n",
       "\t&lt;rect x=&quot;1306.18&quot; y=&quot;2408.75&quot; width=&quot;16.83&quot; height=&quot;17.08&quot; style=&quot;fill:#CAC27E&quot;/&gt;\n",
       "\t&lt;rect x=&quot;1310.50&quot; y=&quot;2413.07&quot; width=&quot;8.19&quot; height=&quot;8.44&quot; style=&quot;fill:none;stroke:#D7D29E;stroke-width:8.64&quot;/&gt;\n",
       "\t&lt;rect x=&quot;1323.01&quot; y=&quot;2340.31&quot; width=&quot;16.71&quot; height=&quot;85.51&quot; style=&quot;fill:#CAC27E&quot;/&gt;\n",
       "\t&lt;rect x=&quot;1327.33&quot; y=&quot;2344.63&quot; width=&quot;8.07&quot; height=&quot;76.87&quot; style=&quot;fill:none;stroke:#D7D29E;stroke-width:8.64&quot;/&gt;\n",
       "\t&lt;rect x=&quot;1339.72&quot; y=&quot;2408.75&quot; width=&quot;16.71&quot; height=&quot;17.08&quot; style=&quot;fill:#CAC27E&quot;/&gt;\n",
       "\t&lt;rect x=&quot;1344.04&quot; y=&quot;2413.07&quot; width=&quot;8.07&quot; height=&quot;8.44&quot; style=&quot;fill:none;stroke:#D7D29E;stroke-width:8.64&quot;/&gt;\n",
       "\t&lt;rect x=&quot;1356.42&quot; y=&quot;2374.47&quot; width=&quot;16.71&quot; height=&quot;51.36&quot; style=&quot;fill:#CAC27E&quot;/&gt;\n",
       "\t&lt;rect x=&quot;1360.74&quot; y=&quot;2378.79&quot; width=&quot;8.07&quot; height=&quot;42.72&quot; style=&quot;fill:none;stroke:#D7D29E;stroke-width:8.64&quot;/&gt;\n",
       "\t&lt;rect x=&quot;1373.13&quot; y=&quot;2340.31&quot; width=&quot;16.71&quot; height=&quot;85.51&quot; style=&quot;fill:#CAC27E&quot;/&gt;\n",
       "\t&lt;rect x=&quot;1377.45&quot; y=&quot;2344.63&quot; width=&quot;8.07&quot; height=&quot;76.87&quot; style=&quot;fill:none;stroke:#D7D29E;stroke-width:8.64&quot;/&gt;\n",
       "\t&lt;rect x=&quot;1389.84&quot; y=&quot;2408.75&quot; width=&quot;16.71&quot; height=&quot;17.08&quot; style=&quot;fill:#CAC27E&quot;/&gt;\n",
       "\t&lt;rect x=&quot;1394.16&quot; y=&quot;2413.07&quot; width=&quot;8.07&quot; height=&quot;8.44&quot; style=&quot;fill:none;stroke:#D7D29E;stroke-width:8.64&quot;/&gt;\n",
       "\t&lt;rect x=&quot;1406.54&quot; y=&quot;2357.39&quot; width=&quot;16.71&quot; height=&quot;68.44&quot; style=&quot;fill:#CAC27E&quot;/&gt;\n",
       "\t&lt;rect x=&quot;1410.86&quot; y=&quot;2361.71&quot; width=&quot;8.07&quot; height=&quot;59.80&quot; style=&quot;fill:none;stroke:#D7D29E;stroke-width:8.64&quot;/&gt;\n",
       "\t&lt;rect x=&quot;1423.25&quot; y=&quot;2408.75&quot; width=&quot;16.71&quot; height=&quot;17.08&quot; style=&quot;fill:#CAC27E&quot;/&gt;\n",
       "\t&lt;rect x=&quot;1427.57&quot; y=&quot;2413.07&quot; width=&quot;8.07&quot; height=&quot;8.44&quot; style=&quot;fill:none;stroke:#D7D29E;stroke-width:8.64&quot;/&gt;\n",
       "\t&lt;rect x=&quot;1456.66&quot; y=&quot;2374.47&quot; width=&quot;16.71&quot; height=&quot;51.36&quot; style=&quot;fill:#CAC27E&quot;/&gt;\n",
       "\t&lt;rect x=&quot;1460.98&quot; y=&quot;2378.79&quot; width=&quot;8.07&quot; height=&quot;42.72&quot; style=&quot;fill:none;stroke:#D7D29E;stroke-width:8.64&quot;/&gt;\n",
       "\t&lt;rect x=&quot;1473.37&quot; y=&quot;2391.67&quot; width=&quot;16.71&quot; height=&quot;34.16&quot; style=&quot;fill:#CAC27E&quot;/&gt;\n",
       "\t&lt;rect x=&quot;1477.69&quot; y=&quot;2395.99&quot; width=&quot;8.07&quot; height=&quot;25.52&quot; style=&quot;fill:none;stroke:#D7D29E;stroke-width:8.64&quot;/&gt;\n",
       "\t&lt;rect x=&quot;1506.78&quot; y=&quot;2374.47&quot; width=&quot;16.71&quot; height=&quot;51.36&quot; style=&quot;fill:#CAC27E&quot;/&gt;\n",
       "\t&lt;rect x=&quot;1511.10&quot; y=&quot;2378.79&quot; width=&quot;8.07&quot; height=&quot;42.72&quot; style=&quot;fill:none;stroke:#D7D29E;stroke-width:8.64&quot;/&gt;\n",
       "\t&lt;rect x=&quot;1523.49&quot; y=&quot;2408.75&quot; width=&quot;16.71&quot; height=&quot;17.08&quot; style=&quot;fill:#CAC27E&quot;/&gt;\n",
       "\t&lt;rect x=&quot;1527.81&quot; y=&quot;2413.07&quot; width=&quot;8.07&quot; height=&quot;8.44&quot; style=&quot;fill:none;stroke:#D7D29E;stroke-width:8.64&quot;/&gt;\n",
       "\t&lt;rect x=&quot;1540.19&quot; y=&quot;2408.75&quot; width=&quot;16.71&quot; height=&quot;17.08&quot; style=&quot;fill:#CAC27E&quot;/&gt;\n",
       "\t&lt;rect x=&quot;1544.51&quot; y=&quot;2413.07&quot; width=&quot;8.07&quot; height=&quot;8.44&quot; style=&quot;fill:none;stroke:#D7D29E;stroke-width:8.64&quot;/&gt;\n",
       "\t&lt;rect x=&quot;1556.90&quot; y=&quot;2391.67&quot; width=&quot;16.71&quot; height=&quot;34.16&quot; style=&quot;fill:#CAC27E&quot;/&gt;\n",
       "\t&lt;rect x=&quot;1561.22&quot; y=&quot;2395.99&quot; width=&quot;8.07&quot; height=&quot;25.52&quot; style=&quot;fill:none;stroke:#D7D29E;stroke-width:8.64&quot;/&gt;\n",
       "\t&lt;rect x=&quot;1573.61&quot; y=&quot;2340.31&quot; width=&quot;16.71&quot; height=&quot;85.51&quot; style=&quot;fill:#CAC27E&quot;/&gt;\n",
       "\t&lt;rect x=&quot;1577.92&quot; y=&quot;2344.63&quot; width=&quot;8.07&quot; height=&quot;76.87&quot; style=&quot;fill:none;stroke:#D7D29E;stroke-width:8.64&quot;/&gt;\n",
       "\t&lt;rect x=&quot;1590.31&quot; y=&quot;2374.47&quot; width=&quot;16.71&quot; height=&quot;51.36&quot; style=&quot;fill:#CAC27E&quot;/&gt;\n",
       "\t&lt;rect x=&quot;1594.63&quot; y=&quot;2378.79&quot; width=&quot;8.07&quot; height=&quot;42.72&quot; style=&quot;fill:none;stroke:#D7D29E;stroke-width:8.64&quot;/&gt;\n",
       "\t&lt;rect x=&quot;1607.02&quot; y=&quot;2408.75&quot; width=&quot;16.71&quot; height=&quot;17.08&quot; style=&quot;fill:#CAC27E&quot;/&gt;\n",
       "\t&lt;rect x=&quot;1611.34&quot; y=&quot;2413.07&quot; width=&quot;8.07&quot; height=&quot;8.44&quot; style=&quot;fill:none;stroke:#D7D29E;stroke-width:8.64&quot;/&gt;\n",
       "\t&lt;rect x=&quot;1623.72&quot; y=&quot;2408.75&quot; width=&quot;16.71&quot; height=&quot;17.08&quot; style=&quot;fill:#CAC27E&quot;/&gt;\n",
       "\t&lt;rect x=&quot;1628.04&quot; y=&quot;2413.07&quot; width=&quot;8.07&quot; height=&quot;8.44&quot; style=&quot;fill:none;stroke:#D7D29E;stroke-width:8.64&quot;/&gt;\n",
       "\t&lt;rect x=&quot;1640.43&quot; y=&quot;2391.67&quot; width=&quot;16.71&quot; height=&quot;34.16&quot; style=&quot;fill:#CAC27E&quot;/&gt;\n",
       "\t&lt;rect x=&quot;1644.75&quot; y=&quot;2395.99&quot; width=&quot;8.07&quot; height=&quot;25.52&quot; style=&quot;fill:none;stroke:#D7D29E;stroke-width:8.64&quot;/&gt;\n",
       "\t&lt;rect x=&quot;1673.84&quot; y=&quot;2408.75&quot; width=&quot;16.71&quot; height=&quot;17.08&quot; style=&quot;fill:#CAC27E&quot;/&gt;\n",
       "\t&lt;rect x=&quot;1678.16&quot; y=&quot;2413.07&quot; width=&quot;8.07&quot; height=&quot;8.44&quot; style=&quot;fill:none;stroke:#D7D29E;stroke-width:8.64&quot;/&gt;\n",
       "\t&lt;rect x=&quot;1707.26&quot; y=&quot;2391.67&quot; width=&quot;16.71&quot; height=&quot;34.16&quot; style=&quot;fill:#CAC27E&quot;/&gt;\n",
       "\t&lt;rect x=&quot;1711.57&quot; y=&quot;2395.99&quot; width=&quot;8.07&quot; height=&quot;25.52&quot; style=&quot;fill:none;stroke:#D7D29E;stroke-width:8.64&quot;/&gt;\n",
       "\t&lt;rect x=&quot;1723.96&quot; y=&quot;2408.75&quot; width=&quot;16.71&quot; height=&quot;17.08&quot; style=&quot;fill:#CAC27E&quot;/&gt;\n",
       "\t&lt;rect x=&quot;1728.28&quot; y=&quot;2413.07&quot; width=&quot;8.07&quot; height=&quot;8.44&quot; style=&quot;fill:none;stroke:#D7D29E;stroke-width:8.64&quot;/&gt;\n",
       "\t&lt;rect x=&quot;1774.08&quot; y=&quot;2408.75&quot; width=&quot;16.71&quot; height=&quot;17.08&quot; style=&quot;fill:#CAC27E&quot;/&gt;\n",
       "\t&lt;rect x=&quot;1778.40&quot; y=&quot;2413.07&quot; width=&quot;8.07&quot; height=&quot;8.44&quot; style=&quot;fill:none;stroke:#D7D29E;stroke-width:8.64&quot;/&gt;\n",
       "\t&lt;rect x=&quot;1790.79&quot; y=&quot;2391.67&quot; width=&quot;16.71&quot; height=&quot;34.16&quot; style=&quot;fill:#CAC27E&quot;/&gt;\n",
       "\t&lt;rect x=&quot;1795.11&quot; y=&quot;2395.99&quot; width=&quot;8.07&quot; height=&quot;25.52&quot; style=&quot;fill:none;stroke:#D7D29E;stroke-width:8.64&quot;/&gt;\n",
       "\t&lt;rect x=&quot;1807.49&quot; y=&quot;2408.75&quot; width=&quot;16.71&quot; height=&quot;17.08&quot; style=&quot;fill:#CAC27E&quot;/&gt;\n",
       "\t&lt;rect x=&quot;1811.81&quot; y=&quot;2413.07&quot; width=&quot;8.07&quot; height=&quot;8.44&quot; style=&quot;fill:none;stroke:#D7D29E;stroke-width:8.64&quot;/&gt;\n",
       "\t&lt;rect x=&quot;1840.90&quot; y=&quot;2408.75&quot; width=&quot;16.71&quot; height=&quot;17.08&quot; style=&quot;fill:#CAC27E&quot;/&gt;\n",
       "\t&lt;rect x=&quot;1845.22&quot; y=&quot;2413.07&quot; width=&quot;8.07&quot; height=&quot;8.44&quot; style=&quot;fill:none;stroke:#D7D29E;stroke-width:8.64&quot;/&gt;\n",
       "\t&lt;rect x=&quot;1857.61&quot; y=&quot;2391.67&quot; width=&quot;16.71&quot; height=&quot;34.16&quot; style=&quot;fill:#CAC27E&quot;/&gt;\n",
       "\t&lt;rect x=&quot;1861.93&quot; y=&quot;2395.99&quot; width=&quot;8.07&quot; height=&quot;25.52&quot; style=&quot;fill:none;stroke:#D7D29E;stroke-width:8.64&quot;/&gt;\n",
       "\t&lt;rect x=&quot;2007.97&quot; y=&quot;2408.75&quot; width=&quot;16.71&quot; height=&quot;17.08&quot; style=&quot;fill:#CAC27E&quot;/&gt;\n",
       "\t&lt;rect x=&quot;2012.29&quot; y=&quot;2413.07&quot; width=&quot;8.07&quot; height=&quot;8.44&quot; style=&quot;fill:none;stroke:#D7D29E;stroke-width:8.64&quot;/&gt;\n",
       "\t&lt;rect x=&quot;2058.09&quot; y=&quot;2408.75&quot; width=&quot;16.71&quot; height=&quot;17.08&quot; style=&quot;fill:#CAC27E&quot;/&gt;\n",
       "\t&lt;rect x=&quot;2062.41&quot; y=&quot;2413.07&quot; width=&quot;8.07&quot; height=&quot;8.44&quot; style=&quot;fill:none;stroke:#D7D29E;stroke-width:8.64&quot;/&gt;\n",
       "\t&lt;rect x=&quot;2108.20&quot; y=&quot;2408.75&quot; width=&quot;16.71&quot; height=&quot;17.08&quot; style=&quot;fill:#CAC27E&quot;/&gt;\n",
       "\t&lt;rect x=&quot;2112.52&quot; y=&quot;2413.07&quot; width=&quot;8.07&quot; height=&quot;8.44&quot; style=&quot;fill:none;stroke:#D7D29E;stroke-width:8.64&quot;/&gt;\n",
       "\t&lt;rect x=&quot;2158.32&quot; y=&quot;2408.75&quot; width=&quot;16.71&quot; height=&quot;17.08&quot; style=&quot;fill:#CAC27E&quot;/&gt;\n",
       "\t&lt;rect x=&quot;2162.64&quot; y=&quot;2413.07&quot; width=&quot;8.07&quot; height=&quot;8.44&quot; style=&quot;fill:none;stroke:#D7D29E;stroke-width:8.64&quot;/&gt;\n",
       "\t&lt;rect x=&quot;2408.92&quot; y=&quot;2408.75&quot; width=&quot;16.71&quot; height=&quot;17.08&quot; style=&quot;fill:#CAC27E&quot;/&gt;\n",
       "\t&lt;rect x=&quot;2413.24&quot; y=&quot;2413.07&quot; width=&quot;8.07&quot; height=&quot;8.44&quot; style=&quot;fill:none;stroke:#D7D29E;stroke-width:8.64&quot;/&gt;\n",
       "\t&lt;rect x=&quot;2609.52&quot; y=&quot;2408.75&quot; width=&quot;16.71&quot; height=&quot;17.08&quot; style=&quot;fill:#CAC27E&quot;/&gt;\n",
       "\t&lt;rect x=&quot;2613.84&quot; y=&quot;2413.07&quot; width=&quot;8.07&quot; height=&quot;8.44&quot; style=&quot;fill:none;stroke:#D7D29E;stroke-width:8.64&quot;/&gt;\n",
       "\t&lt;rect x=&quot;3177.53&quot; y=&quot;2408.75&quot; width=&quot;16.71&quot; height=&quot;17.08&quot; style=&quot;fill:#CAC27E&quot;/&gt;\n",
       "\t&lt;rect x=&quot;3181.85&quot; y=&quot;2413.07&quot; width=&quot;8.07&quot; height=&quot;8.44&quot; style=&quot;fill:none;stroke:#D7D29E;stroke-width:8.64&quot;/&gt;\n",
       "\t&lt;line x1=&quot;390.80&quot; y1=&quot;2489.19&quot; x2=&quot;390.80&quot; y2=&quot;100.86&quot; style=&quot;stroke:#000000;stroke-width:5.76&quot;/&gt;\n",
       "\t&lt;line x1=&quot;390.80&quot; y1=&quot;2425.82&quot; x2=&quot;350.83&quot; y2=&quot;2425.82&quot; style=&quot;stroke:#000000;stroke-width:5.76&quot;/&gt;\n",
       "\t&lt;text x=&quot;300.72&quot; y=&quot;2425.82&quot; style=&quot;font-family:&#x27;Helvetica&#x27;;font-size:99.99px;fill:#000000&quot; transform=&quot;rotate(-90 300.72,2425.82)&quot; text-anchor=&quot;middle&quot;&gt;0&lt;/text&gt;\n",
       "\t&lt;line x1=&quot;390.80&quot; y1=&quot;1671.91&quot; x2=&quot;350.83&quot; y2=&quot;1671.91&quot; style=&quot;stroke:#000000;stroke-width:5.76&quot;/&gt;\n",
       "\t&lt;text x=&quot;300.72&quot; y=&quot;1671.91&quot; style=&quot;font-family:&#x27;Helvetica&#x27;;font-size:99.99px;fill:#000000&quot; transform=&quot;rotate(-90 300.72,1671.91)&quot; text-anchor=&quot;middle&quot;&gt;.02&lt;/text&gt;\n",
       "\t&lt;line x1=&quot;390.80&quot; y1=&quot;918.01&quot; x2=&quot;350.83&quot; y2=&quot;918.01&quot; style=&quot;stroke:#000000;stroke-width:5.76&quot;/&gt;\n",
       "\t&lt;text x=&quot;300.72&quot; y=&quot;918.01&quot; style=&quot;font-family:&#x27;Helvetica&#x27;;font-size:99.99px;fill:#000000&quot; transform=&quot;rotate(-90 300.72,918.01)&quot; text-anchor=&quot;middle&quot;&gt;.04&lt;/text&gt;\n",
       "\t&lt;line x1=&quot;390.80&quot; y1=&quot;164.22&quot; x2=&quot;350.83&quot; y2=&quot;164.22&quot; style=&quot;stroke:#000000;stroke-width:5.76&quot;/&gt;\n",
       "\t&lt;text x=&quot;300.72&quot; y=&quot;164.22&quot; style=&quot;font-family:&#x27;Helvetica&#x27;;font-size:99.99px;fill:#000000&quot; transform=&quot;rotate(-90 300.72,164.22)&quot; text-anchor=&quot;middle&quot;&gt;.06&lt;/text&gt;\n",
       "\t&lt;text x=&quot;190.71&quot; y=&quot;1294.96&quot; style=&quot;font-family:&#x27;Helvetica&#x27;;font-size:99.99px;fill:#000000&quot; transform=&quot;rotate(-90 190.71,1294.96)&quot; text-anchor=&quot;middle&quot;&gt;Fraction&lt;/text&gt;\n",
       "\t&lt;line x1=&quot;390.80&quot; y1=&quot;2489.19&quot; x2=&quot;3859.02&quot; y2=&quot;2489.19&quot; style=&quot;stroke:#000000;stroke-width:5.76&quot;/&gt;\n",
       "\t&lt;line x1=&quot;454.16&quot; y1=&quot;2489.19&quot; x2=&quot;454.16&quot; y2=&quot;2529.16&quot; style=&quot;stroke:#000000;stroke-width:5.76&quot;/&gt;\n",
       "\t&lt;text x=&quot;454.16&quot; y=&quot;2619.14&quot; style=&quot;font-family:&#x27;Helvetica&#x27;;font-size:99.99px;fill:#000000&quot; text-anchor=&quot;middle&quot;&gt;0&lt;/text&gt;\n",
       "\t&lt;line x1=&quot;1289.47&quot; y1=&quot;2489.19&quot; x2=&quot;1289.47&quot; y2=&quot;2529.16&quot; style=&quot;stroke:#000000;stroke-width:5.76&quot;/&gt;\n",
       "\t&lt;text x=&quot;1289.47&quot; y=&quot;2619.14&quot; style=&quot;font-family:&#x27;Helvetica&#x27;;font-size:99.99px;fill:#000000&quot; text-anchor=&quot;middle&quot;&gt;.05&lt;/text&gt;\n",
       "\t&lt;line x1=&quot;2124.91&quot; y1=&quot;2489.19&quot; x2=&quot;2124.91&quot; y2=&quot;2529.16&quot; style=&quot;stroke:#000000;stroke-width:5.76&quot;/&gt;\n",
       "\t&lt;text x=&quot;2124.91&quot; y=&quot;2619.14&quot; style=&quot;font-family:&#x27;Helvetica&#x27;;font-size:99.99px;fill:#000000&quot; text-anchor=&quot;middle&quot;&gt;.1&lt;/text&gt;\n",
       "\t&lt;line x1=&quot;2960.35&quot; y1=&quot;2489.19&quot; x2=&quot;2960.35&quot; y2=&quot;2529.16&quot; style=&quot;stroke:#000000;stroke-width:5.76&quot;/&gt;\n",
       "\t&lt;text x=&quot;2960.35&quot; y=&quot;2619.14&quot; style=&quot;font-family:&#x27;Helvetica&#x27;;font-size:99.99px;fill:#000000&quot; text-anchor=&quot;middle&quot;&gt;.15&lt;/text&gt;\n",
       "\t&lt;line x1=&quot;3795.66&quot; y1=&quot;2489.19&quot; x2=&quot;3795.66&quot; y2=&quot;2529.16&quot; style=&quot;stroke:#000000;stroke-width:5.76&quot;/&gt;\n",
       "\t&lt;text x=&quot;3795.66&quot; y=&quot;2619.14&quot; style=&quot;font-family:&#x27;Helvetica&#x27;;font-size:99.99px;fill:#000000&quot; text-anchor=&quot;middle&quot;&gt;.2&lt;/text&gt;\n",
       "\t&lt;text x=&quot;2124.91&quot; y=&quot;2729.16&quot; style=&quot;font-family:&#x27;Helvetica&#x27;;font-size:99.99px;fill:#000000&quot; text-anchor=&quot;middle&quot;&gt;mobility_rate&lt;/text&gt;\n",
       "&lt;/svg&gt;\n",
       "</body></html>\"></iframe>\n"
      ],
      "text/plain": [
       "This front-end cannot display the desired image type."
      ]
     },
     "metadata": {
      "image/svg+xml": {
       "height": 436,
       "width": 600
      },
      "text/html": {
       "height": 436,
       "width": 600
      }
     },
     "output_type": "display_data"
    }
   ],
   "source": [
    "graph twoway histogram mobility_rate, frac width(0.001)"
   ]
  },
  {
   "cell_type": "markdown",
   "metadata": {
    "slideshow": {
     "slide_type": "slide"
    }
   },
   "source": [
    "\n",
    "Next, because we are from UCSD, let's add a UCSD to the graph to see how we compare against the entire distribution. UCSD's mobility rate was equal to 0.0483275."
   ]
  },
  {
   "cell_type": "code",
   "execution_count": 20,
   "metadata": {
    "slideshow": {
     "slide_type": "fragment"
    }
   },
   "outputs": [
    {
     "data": {
      "application/pdf": "[encoded data removed]",
      "image/svg+xml": [
       "<?xml version=\"1.0\" encoding=\"UTF-8\" standalone=\"no\"?>\n",
       "<!-- This is a Stata 16.1 generated SVG file (http://www.stata.com) -->\n",
       "\n",
       "<svg version=\"1.1\" width=\"600px\" height=\"436px\" viewBox=\"0 0 3960 2880\" xmlns=\"http://www.w3.org/2000/svg\" xmlns:xlink=\"http://www.w3.org/1999/xlink\">\n",
       "\t<desc>Stata Graph - Graph</desc>\n",
       "\t<rect x=\"0\" y=\"0\" width=\"3960\" height=\"2880\" style=\"fill:#EAF2F3;stroke:none\"/>\n",
       "\t<rect x=\"0.00\" y=\"0.00\" width=\"3959.88\" height=\"2880.00\" style=\"fill:#EAF2F3\"/>\n",
       "\t<rect x=\"2.88\" y=\"2.88\" width=\"3954.12\" height=\"2874.24\" style=\"fill:none;stroke:#EAF2F3;stroke-width:5.76\"/>\n",
       "\t<rect x=\"390.80\" y=\"100.86\" width=\"3468.22\" height=\"2388.33\" style=\"fill:#FFFFFF\"/>\n",
       "\t<rect x=\"393.68\" y=\"103.74\" width=\"3462.46\" height=\"2382.57\" style=\"fill:none;stroke:#FFFFFF;stroke-width:5.76\"/>\n",
       "\t<line x1=\"390.80\" y1=\"2425.82\" x2=\"3859.02\" y2=\"2425.82\" style=\"stroke:#EAF2F3;stroke-width:8.64\"/>\n",
       "\t<line x1=\"390.80\" y1=\"1986.62\" x2=\"3859.02\" y2=\"1986.62\" style=\"stroke:#EAF2F3;stroke-width:8.64\"/>\n",
       "\t<line x1=\"390.80\" y1=\"1547.54\" x2=\"3859.02\" y2=\"1547.54\" style=\"stroke:#EAF2F3;stroke-width:8.64\"/>\n",
       "\t<line x1=\"390.80\" y1=\"1108.34\" x2=\"3859.02\" y2=\"1108.34\" style=\"stroke:#EAF2F3;stroke-width:8.64\"/>\n",
       "\t<line x1=\"390.80\" y1=\"669.14\" x2=\"3859.02\" y2=\"669.14\" style=\"stroke:#EAF2F3;stroke-width:8.64\"/>\n",
       "\t<line x1=\"390.80\" y1=\"229.93\" x2=\"3859.02\" y2=\"229.93\" style=\"stroke:#EAF2F3;stroke-width:8.64\"/>\n",
       "\t<line x1=\"1441.32\" y1=\"2489.19\" x2=\"1441.32\" y2=\"100.86\" style=\"stroke:#C10534;stroke-width:8.64\"/>\n",
       "\t<rect x=\"454.16\" y=\"2054.93\" width=\"101.23\" height=\"370.89\" style=\"fill:#CAC27E\"/>\n",
       "\t<rect x=\"458.48\" y=\"2059.25\" width=\"92.59\" height=\"362.25\" style=\"fill:none;stroke:#D7D29E;stroke-width:8.64\"/>\n",
       "\t<rect x=\"555.39\" y=\"794.38\" width=\"101.23\" height=\"1631.45\" style=\"fill:#CAC27E\"/>\n",
       "\t<rect x=\"559.71\" y=\"798.70\" width=\"92.59\" height=\"1622.81\" style=\"fill:none;stroke:#D7D29E;stroke-width:8.64\"/>\n",
       "\t<rect x=\"656.62\" y=\"164.22\" width=\"101.35\" height=\"2261.60\" style=\"fill:#CAC27E\"/>\n",
       "\t<rect x=\"660.94\" y=\"168.54\" width=\"92.71\" height=\"2252.96\" style=\"fill:none;stroke:#D7D29E;stroke-width:8.64\"/>\n",
       "\t<rect x=\"757.97\" y=\"622.85\" width=\"101.23\" height=\"1802.97\" style=\"fill:#CAC27E\"/>\n",
       "\t<rect x=\"762.29\" y=\"627.17\" width=\"92.59\" height=\"1794.33\" style=\"fill:none;stroke:#D7D29E;stroke-width:8.64\"/>\n",
       "\t<rect x=\"859.20\" y=\"1420.69\" width=\"101.23\" height=\"1005.13\" style=\"fill:#CAC27E\"/>\n",
       "\t<rect x=\"863.52\" y=\"1425.01\" width=\"92.59\" height=\"996.49\" style=\"fill:none;stroke:#D7D29E;stroke-width:8.64\"/>\n",
       "\t<rect x=\"960.42\" y=\"1831.56\" width=\"101.23\" height=\"594.27\" style=\"fill:#CAC27E\"/>\n",
       "\t<rect x=\"964.74\" y=\"1835.88\" width=\"92.59\" height=\"585.63\" style=\"fill:none;stroke:#D7D29E;stroke-width:8.64\"/>\n",
       "\t<rect x=\"1061.65\" y=\"2011.00\" width=\"101.35\" height=\"414.82\" style=\"fill:#CAC27E\"/>\n",
       "\t<rect x=\"1065.97\" y=\"2015.32\" width=\"92.71\" height=\"406.18\" style=\"fill:none;stroke:#D7D29E;stroke-width:8.64\"/>\n",
       "\t<rect x=\"1163.00\" y=\"2202.45\" width=\"101.23\" height=\"223.38\" style=\"fill:#CAC27E\"/>\n",
       "\t<rect x=\"1167.32\" y=\"2206.77\" width=\"92.59\" height=\"214.74\" style=\"fill:none;stroke:#D7D29E;stroke-width:8.64\"/>\n",
       "\t<rect x=\"1264.23\" y=\"2302.19\" width=\"101.23\" height=\"123.63\" style=\"fill:#CAC27E\"/>\n",
       "\t<rect x=\"1268.55\" y=\"2306.51\" width=\"92.59\" height=\"114.99\" style=\"fill:none;stroke:#D7D29E;stroke-width:8.64\"/>\n",
       "\t<rect x=\"1365.46\" y=\"2350.09\" width=\"101.23\" height=\"75.74\" style=\"fill:#CAC27E\"/>\n",
       "\t<rect x=\"1369.78\" y=\"2354.41\" width=\"92.59\" height=\"67.10\" style=\"fill:none;stroke:#D7D29E;stroke-width:8.64\"/>\n",
       "\t<rect x=\"1466.68\" y=\"2361.97\" width=\"101.35\" height=\"63.86\" style=\"fill:#CAC27E\"/>\n",
       "\t<rect x=\"1471.00\" y=\"2366.29\" width=\"92.71\" height=\"55.22\" style=\"fill:none;stroke:#D7D29E;stroke-width:8.64\"/>\n",
       "\t<rect x=\"1568.04\" y=\"2377.93\" width=\"101.23\" height=\"47.89\" style=\"fill:#CAC27E\"/>\n",
       "\t<rect x=\"1572.36\" y=\"2382.25\" width=\"92.59\" height=\"39.25\" style=\"fill:none;stroke:#D7D29E;stroke-width:8.64\"/>\n",
       "\t<rect x=\"1669.26\" y=\"2393.89\" width=\"101.23\" height=\"31.93\" style=\"fill:#CAC27E\"/>\n",
       "\t<rect x=\"1673.58\" y=\"2398.21\" width=\"92.59\" height=\"23.29\" style=\"fill:none;stroke:#D7D29E;stroke-width:8.64\"/>\n",
       "\t<rect x=\"1770.49\" y=\"2373.97\" width=\"101.23\" height=\"51.85\" style=\"fill:#CAC27E\"/>\n",
       "\t<rect x=\"1774.81\" y=\"2378.29\" width=\"92.59\" height=\"43.21\" style=\"fill:none;stroke:#D7D29E;stroke-width:8.64\"/>\n",
       "\t<rect x=\"1871.72\" y=\"2409.86\" width=\"101.35\" height=\"15.96\" style=\"fill:#CAC27E\"/>\n",
       "\t<rect x=\"1876.04\" y=\"2414.18\" width=\"92.71\" height=\"7.32\" style=\"fill:none;stroke:#D7D29E;stroke-width:8.64\"/>\n",
       "\t<rect x=\"1973.07\" y=\"2413.82\" width=\"101.23\" height=\"12.00\" style=\"fill:#CAC27E\"/>\n",
       "\t<rect x=\"1977.39\" y=\"2418.14\" width=\"92.59\" height=\"3.36\" style=\"fill:none;stroke:#D7D29E;stroke-width:8.64\"/>\n",
       "\t<rect x=\"2074.30\" y=\"2401.94\" width=\"101.23\" height=\"23.88\" style=\"fill:#CAC27E\"/>\n",
       "\t<rect x=\"2078.62\" y=\"2406.26\" width=\"92.59\" height=\"15.24\" style=\"fill:none;stroke:#D7D29E;stroke-width:8.64\"/>\n",
       "\t<rect x=\"2175.53\" y=\"2421.86\" width=\"101.35\" height=\"3.96\" style=\"fill:#CAC27E\"/>\n",
       "\t<rect x=\"2179.84\" y=\"2421.50\" width=\"92.71\" height=\"4.68\" style=\"fill:none;stroke:#D7D29E;stroke-width:8.64\"/>\n",
       "\t<rect x=\"2276.88\" y=\"2421.86\" width=\"101.23\" height=\"3.96\" style=\"fill:#CAC27E\"/>\n",
       "\t<rect x=\"2281.20\" y=\"2421.50\" width=\"92.59\" height=\"4.68\" style=\"fill:none;stroke:#D7D29E;stroke-width:8.64\"/>\n",
       "\t<rect x=\"2378.10\" y=\"2421.86\" width=\"101.23\" height=\"3.96\" style=\"fill:#CAC27E\"/>\n",
       "\t<rect x=\"2382.42\" y=\"2421.50\" width=\"92.59\" height=\"4.68\" style=\"fill:none;stroke:#D7D29E;stroke-width:8.64\"/>\n",
       "\t<rect x=\"2479.33\" y=\"2417.90\" width=\"101.23\" height=\"7.92\" style=\"fill:#CAC27E\"/>\n",
       "\t<rect x=\"2483.65\" y=\"2421.50\" width=\"92.59\" height=\"0.72\" style=\"fill:none;stroke:#D7D29E;stroke-width:8.64\"/>\n",
       "\t<rect x=\"2783.14\" y=\"2421.86\" width=\"101.23\" height=\"3.96\" style=\"fill:#CAC27E\"/>\n",
       "\t<rect x=\"2787.46\" y=\"2421.50\" width=\"92.59\" height=\"4.68\" style=\"fill:none;stroke:#D7D29E;stroke-width:8.64\"/>\n",
       "\t<rect x=\"3086.94\" y=\"2421.86\" width=\"101.23\" height=\"3.96\" style=\"fill:#CAC27E\"/>\n",
       "\t<rect x=\"3091.26\" y=\"2421.50\" width=\"92.59\" height=\"4.68\" style=\"fill:none;stroke:#D7D29E;stroke-width:8.64\"/>\n",
       "\t<rect x=\"3694.43\" y=\"2421.86\" width=\"101.23\" height=\"3.96\" style=\"fill:#CAC27E\"/>\n",
       "\t<rect x=\"3698.75\" y=\"2421.50\" width=\"92.59\" height=\"4.68\" style=\"fill:none;stroke:#D7D29E;stroke-width:8.64\"/>\n",
       "\t<line x1=\"390.80\" y1=\"2489.19\" x2=\"390.80\" y2=\"100.86\" style=\"stroke:#000000;stroke-width:5.76\"/>\n",
       "\t<line x1=\"390.80\" y1=\"2425.82\" x2=\"350.83\" y2=\"2425.82\" style=\"stroke:#000000;stroke-width:5.76\"/>\n",
       "\t<text x=\"300.72\" y=\"2425.82\" style=\"font-family:'Helvetica';font-size:99.99px;fill:#000000\" transform=\"rotate(-90 300.72,2425.82)\" text-anchor=\"middle\">0</text>\n",
       "\t<line x1=\"390.80\" y1=\"1986.62\" x2=\"350.83\" y2=\"1986.62\" style=\"stroke:#000000;stroke-width:5.76\"/>\n",
       "\t<text x=\"300.72\" y=\"1986.62\" style=\"font-family:'Helvetica';font-size:99.99px;fill:#000000\" transform=\"rotate(-90 300.72,1986.62)\" text-anchor=\"middle\">.05</text>\n",
       "\t<line x1=\"390.80\" y1=\"1547.54\" x2=\"350.83\" y2=\"1547.54\" style=\"stroke:#000000;stroke-width:5.76\"/>\n",
       "\t<text x=\"300.72\" y=\"1547.54\" style=\"font-family:'Helvetica';font-size:99.99px;fill:#000000\" transform=\"rotate(-90 300.72,1547.54)\" text-anchor=\"middle\">.1</text>\n",
       "\t<line x1=\"390.80\" y1=\"1108.34\" x2=\"350.83\" y2=\"1108.34\" style=\"stroke:#000000;stroke-width:5.76\"/>\n",
       "\t<text x=\"300.72\" y=\"1108.34\" style=\"font-family:'Helvetica';font-size:99.99px;fill:#000000\" transform=\"rotate(-90 300.72,1108.34)\" text-anchor=\"middle\">.15</text>\n",
       "\t<line x1=\"390.80\" y1=\"669.14\" x2=\"350.83\" y2=\"669.14\" style=\"stroke:#000000;stroke-width:5.76\"/>\n",
       "\t<text x=\"300.72\" y=\"669.14\" style=\"font-family:'Helvetica';font-size:99.99px;fill:#000000\" transform=\"rotate(-90 300.72,669.14)\" text-anchor=\"middle\">.2</text>\n",
       "\t<line x1=\"390.80\" y1=\"229.93\" x2=\"350.83\" y2=\"229.93\" style=\"stroke:#000000;stroke-width:5.76\"/>\n",
       "\t<text x=\"300.72\" y=\"229.93\" style=\"font-family:'Helvetica';font-size:99.99px;fill:#000000\" transform=\"rotate(-90 300.72,229.93)\" text-anchor=\"middle\">.25</text>\n",
       "\t<text x=\"190.71\" y=\"1294.96\" style=\"font-family:'Helvetica';font-size:99.99px;fill:#000000\" transform=\"rotate(-90 190.71,1294.96)\" text-anchor=\"middle\">Fraction</text>\n",
       "\t<line x1=\"390.80\" y1=\"2489.19\" x2=\"3859.02\" y2=\"2489.19\" style=\"stroke:#000000;stroke-width:5.76\"/>\n",
       "\t<line x1=\"454.16\" y1=\"2489.19\" x2=\"454.16\" y2=\"2529.16\" style=\"stroke:#000000;stroke-width:5.76\"/>\n",
       "\t<text x=\"454.16\" y=\"2619.14\" style=\"font-family:'Helvetica';font-size:99.99px;fill:#000000\" text-anchor=\"middle\">0</text>\n",
       "\t<line x1=\"1475.47\" y1=\"2489.19\" x2=\"1475.47\" y2=\"2529.16\" style=\"stroke:#000000;stroke-width:5.76\"/>\n",
       "\t<text x=\"1475.47\" y=\"2619.14\" style=\"font-family:'Helvetica';font-size:99.99px;fill:#000000\" text-anchor=\"middle\">.05</text>\n",
       "\t<line x1=\"2496.90\" y1=\"2489.19\" x2=\"2496.90\" y2=\"2529.16\" style=\"stroke:#000000;stroke-width:5.76\"/>\n",
       "\t<text x=\"2496.90\" y=\"2619.14\" style=\"font-family:'Helvetica';font-size:99.99px;fill:#000000\" text-anchor=\"middle\">.1</text>\n",
       "\t<line x1=\"3518.34\" y1=\"2489.19\" x2=\"3518.34\" y2=\"2529.16\" style=\"stroke:#000000;stroke-width:5.76\"/>\n",
       "\t<text x=\"3518.34\" y=\"2619.14\" style=\"font-family:'Helvetica';font-size:99.99px;fill:#000000\" text-anchor=\"middle\">.15</text>\n",
       "\t<text x=\"2124.91\" y=\"2729.16\" style=\"font-family:'Helvetica';font-size:99.99px;fill:#000000\" text-anchor=\"middle\">mobility_rate</text>\n",
       "</svg>\n"
      ],
      "text/html": [
       "                <iframe frameborder=\"0\" scrolling=\"no\" height=\"436\" width=\"600\"                srcdoc=\"<html><body>&lt;?xml version=&quot;1.0&quot; encoding=&quot;UTF-8&quot; standalone=&quot;no&quot;?&gt;\n",
       "&lt;!-- This is a Stata 16.1 generated SVG file (http://www.stata.com) --&gt;\n",
       "\n",
       "&lt;svg version=&quot;1.1&quot; width=&quot;600px&quot; height=&quot;436px&quot; viewBox=&quot;0 0 3960 2880&quot; xmlns=&quot;http://www.w3.org/2000/svg&quot; xmlns:xlink=&quot;http://www.w3.org/1999/xlink&quot;&gt;\n",
       "\t&lt;desc&gt;Stata Graph - Graph&lt;/desc&gt;\n",
       "\t&lt;rect x=&quot;0&quot; y=&quot;0&quot; width=&quot;3960&quot; height=&quot;2880&quot; style=&quot;fill:#EAF2F3;stroke:none&quot;/&gt;\n",
       "\t&lt;rect x=&quot;0.00&quot; y=&quot;0.00&quot; width=&quot;3959.88&quot; height=&quot;2880.00&quot; style=&quot;fill:#EAF2F3&quot;/&gt;\n",
       "\t&lt;rect x=&quot;2.88&quot; y=&quot;2.88&quot; width=&quot;3954.12&quot; height=&quot;2874.24&quot; style=&quot;fill:none;stroke:#EAF2F3;stroke-width:5.76&quot;/&gt;\n",
       "\t&lt;rect x=&quot;390.80&quot; y=&quot;100.86&quot; width=&quot;3468.22&quot; height=&quot;2388.33&quot; style=&quot;fill:#FFFFFF&quot;/&gt;\n",
       "\t&lt;rect x=&quot;393.68&quot; y=&quot;103.74&quot; width=&quot;3462.46&quot; height=&quot;2382.57&quot; style=&quot;fill:none;stroke:#FFFFFF;stroke-width:5.76&quot;/&gt;\n",
       "\t&lt;line x1=&quot;390.80&quot; y1=&quot;2425.82&quot; x2=&quot;3859.02&quot; y2=&quot;2425.82&quot; style=&quot;stroke:#EAF2F3;stroke-width:8.64&quot;/&gt;\n",
       "\t&lt;line x1=&quot;390.80&quot; y1=&quot;1986.62&quot; x2=&quot;3859.02&quot; y2=&quot;1986.62&quot; style=&quot;stroke:#EAF2F3;stroke-width:8.64&quot;/&gt;\n",
       "\t&lt;line x1=&quot;390.80&quot; y1=&quot;1547.54&quot; x2=&quot;3859.02&quot; y2=&quot;1547.54&quot; style=&quot;stroke:#EAF2F3;stroke-width:8.64&quot;/&gt;\n",
       "\t&lt;line x1=&quot;390.80&quot; y1=&quot;1108.34&quot; x2=&quot;3859.02&quot; y2=&quot;1108.34&quot; style=&quot;stroke:#EAF2F3;stroke-width:8.64&quot;/&gt;\n",
       "\t&lt;line x1=&quot;390.80&quot; y1=&quot;669.14&quot; x2=&quot;3859.02&quot; y2=&quot;669.14&quot; style=&quot;stroke:#EAF2F3;stroke-width:8.64&quot;/&gt;\n",
       "\t&lt;line x1=&quot;390.80&quot; y1=&quot;229.93&quot; x2=&quot;3859.02&quot; y2=&quot;229.93&quot; style=&quot;stroke:#EAF2F3;stroke-width:8.64&quot;/&gt;\n",
       "\t&lt;line x1=&quot;1441.32&quot; y1=&quot;2489.19&quot; x2=&quot;1441.32&quot; y2=&quot;100.86&quot; style=&quot;stroke:#C10534;stroke-width:8.64&quot;/&gt;\n",
       "\t&lt;rect x=&quot;454.16&quot; y=&quot;2054.93&quot; width=&quot;101.23&quot; height=&quot;370.89&quot; style=&quot;fill:#CAC27E&quot;/&gt;\n",
       "\t&lt;rect x=&quot;458.48&quot; y=&quot;2059.25&quot; width=&quot;92.59&quot; height=&quot;362.25&quot; style=&quot;fill:none;stroke:#D7D29E;stroke-width:8.64&quot;/&gt;\n",
       "\t&lt;rect x=&quot;555.39&quot; y=&quot;794.38&quot; width=&quot;101.23&quot; height=&quot;1631.45&quot; style=&quot;fill:#CAC27E&quot;/&gt;\n",
       "\t&lt;rect x=&quot;559.71&quot; y=&quot;798.70&quot; width=&quot;92.59&quot; height=&quot;1622.81&quot; style=&quot;fill:none;stroke:#D7D29E;stroke-width:8.64&quot;/&gt;\n",
       "\t&lt;rect x=&quot;656.62&quot; y=&quot;164.22&quot; width=&quot;101.35&quot; height=&quot;2261.60&quot; style=&quot;fill:#CAC27E&quot;/&gt;\n",
       "\t&lt;rect x=&quot;660.94&quot; y=&quot;168.54&quot; width=&quot;92.71&quot; height=&quot;2252.96&quot; style=&quot;fill:none;stroke:#D7D29E;stroke-width:8.64&quot;/&gt;\n",
       "\t&lt;rect x=&quot;757.97&quot; y=&quot;622.85&quot; width=&quot;101.23&quot; height=&quot;1802.97&quot; style=&quot;fill:#CAC27E&quot;/&gt;\n",
       "\t&lt;rect x=&quot;762.29&quot; y=&quot;627.17&quot; width=&quot;92.59&quot; height=&quot;1794.33&quot; style=&quot;fill:none;stroke:#D7D29E;stroke-width:8.64&quot;/&gt;\n",
       "\t&lt;rect x=&quot;859.20&quot; y=&quot;1420.69&quot; width=&quot;101.23&quot; height=&quot;1005.13&quot; style=&quot;fill:#CAC27E&quot;/&gt;\n",
       "\t&lt;rect x=&quot;863.52&quot; y=&quot;1425.01&quot; width=&quot;92.59&quot; height=&quot;996.49&quot; style=&quot;fill:none;stroke:#D7D29E;stroke-width:8.64&quot;/&gt;\n",
       "\t&lt;rect x=&quot;960.42&quot; y=&quot;1831.56&quot; width=&quot;101.23&quot; height=&quot;594.27&quot; style=&quot;fill:#CAC27E&quot;/&gt;\n",
       "\t&lt;rect x=&quot;964.74&quot; y=&quot;1835.88&quot; width=&quot;92.59&quot; height=&quot;585.63&quot; style=&quot;fill:none;stroke:#D7D29E;stroke-width:8.64&quot;/&gt;\n",
       "\t&lt;rect x=&quot;1061.65&quot; y=&quot;2011.00&quot; width=&quot;101.35&quot; height=&quot;414.82&quot; style=&quot;fill:#CAC27E&quot;/&gt;\n",
       "\t&lt;rect x=&quot;1065.97&quot; y=&quot;2015.32&quot; width=&quot;92.71&quot; height=&quot;406.18&quot; style=&quot;fill:none;stroke:#D7D29E;stroke-width:8.64&quot;/&gt;\n",
       "\t&lt;rect x=&quot;1163.00&quot; y=&quot;2202.45&quot; width=&quot;101.23&quot; height=&quot;223.38&quot; style=&quot;fill:#CAC27E&quot;/&gt;\n",
       "\t&lt;rect x=&quot;1167.32&quot; y=&quot;2206.77&quot; width=&quot;92.59&quot; height=&quot;214.74&quot; style=&quot;fill:none;stroke:#D7D29E;stroke-width:8.64&quot;/&gt;\n",
       "\t&lt;rect x=&quot;1264.23&quot; y=&quot;2302.19&quot; width=&quot;101.23&quot; height=&quot;123.63&quot; style=&quot;fill:#CAC27E&quot;/&gt;\n",
       "\t&lt;rect x=&quot;1268.55&quot; y=&quot;2306.51&quot; width=&quot;92.59&quot; height=&quot;114.99&quot; style=&quot;fill:none;stroke:#D7D29E;stroke-width:8.64&quot;/&gt;\n",
       "\t&lt;rect x=&quot;1365.46&quot; y=&quot;2350.09&quot; width=&quot;101.23&quot; height=&quot;75.74&quot; style=&quot;fill:#CAC27E&quot;/&gt;\n",
       "\t&lt;rect x=&quot;1369.78&quot; y=&quot;2354.41&quot; width=&quot;92.59&quot; height=&quot;67.10&quot; style=&quot;fill:none;stroke:#D7D29E;stroke-width:8.64&quot;/&gt;\n",
       "\t&lt;rect x=&quot;1466.68&quot; y=&quot;2361.97&quot; width=&quot;101.35&quot; height=&quot;63.86&quot; style=&quot;fill:#CAC27E&quot;/&gt;\n",
       "\t&lt;rect x=&quot;1471.00&quot; y=&quot;2366.29&quot; width=&quot;92.71&quot; height=&quot;55.22&quot; style=&quot;fill:none;stroke:#D7D29E;stroke-width:8.64&quot;/&gt;\n",
       "\t&lt;rect x=&quot;1568.04&quot; y=&quot;2377.93&quot; width=&quot;101.23&quot; height=&quot;47.89&quot; style=&quot;fill:#CAC27E&quot;/&gt;\n",
       "\t&lt;rect x=&quot;1572.36&quot; y=&quot;2382.25&quot; width=&quot;92.59&quot; height=&quot;39.25&quot; style=&quot;fill:none;stroke:#D7D29E;stroke-width:8.64&quot;/&gt;\n",
       "\t&lt;rect x=&quot;1669.26&quot; y=&quot;2393.89&quot; width=&quot;101.23&quot; height=&quot;31.93&quot; style=&quot;fill:#CAC27E&quot;/&gt;\n",
       "\t&lt;rect x=&quot;1673.58&quot; y=&quot;2398.21&quot; width=&quot;92.59&quot; height=&quot;23.29&quot; style=&quot;fill:none;stroke:#D7D29E;stroke-width:8.64&quot;/&gt;\n",
       "\t&lt;rect x=&quot;1770.49&quot; y=&quot;2373.97&quot; width=&quot;101.23&quot; height=&quot;51.85&quot; style=&quot;fill:#CAC27E&quot;/&gt;\n",
       "\t&lt;rect x=&quot;1774.81&quot; y=&quot;2378.29&quot; width=&quot;92.59&quot; height=&quot;43.21&quot; style=&quot;fill:none;stroke:#D7D29E;stroke-width:8.64&quot;/&gt;\n",
       "\t&lt;rect x=&quot;1871.72&quot; y=&quot;2409.86&quot; width=&quot;101.35&quot; height=&quot;15.96&quot; style=&quot;fill:#CAC27E&quot;/&gt;\n",
       "\t&lt;rect x=&quot;1876.04&quot; y=&quot;2414.18&quot; width=&quot;92.71&quot; height=&quot;7.32&quot; style=&quot;fill:none;stroke:#D7D29E;stroke-width:8.64&quot;/&gt;\n",
       "\t&lt;rect x=&quot;1973.07&quot; y=&quot;2413.82&quot; width=&quot;101.23&quot; height=&quot;12.00&quot; style=&quot;fill:#CAC27E&quot;/&gt;\n",
       "\t&lt;rect x=&quot;1977.39&quot; y=&quot;2418.14&quot; width=&quot;92.59&quot; height=&quot;3.36&quot; style=&quot;fill:none;stroke:#D7D29E;stroke-width:8.64&quot;/&gt;\n",
       "\t&lt;rect x=&quot;2074.30&quot; y=&quot;2401.94&quot; width=&quot;101.23&quot; height=&quot;23.88&quot; style=&quot;fill:#CAC27E&quot;/&gt;\n",
       "\t&lt;rect x=&quot;2078.62&quot; y=&quot;2406.26&quot; width=&quot;92.59&quot; height=&quot;15.24&quot; style=&quot;fill:none;stroke:#D7D29E;stroke-width:8.64&quot;/&gt;\n",
       "\t&lt;rect x=&quot;2175.53&quot; y=&quot;2421.86&quot; width=&quot;101.35&quot; height=&quot;3.96&quot; style=&quot;fill:#CAC27E&quot;/&gt;\n",
       "\t&lt;rect x=&quot;2179.84&quot; y=&quot;2421.50&quot; width=&quot;92.71&quot; height=&quot;4.68&quot; style=&quot;fill:none;stroke:#D7D29E;stroke-width:8.64&quot;/&gt;\n",
       "\t&lt;rect x=&quot;2276.88&quot; y=&quot;2421.86&quot; width=&quot;101.23&quot; height=&quot;3.96&quot; style=&quot;fill:#CAC27E&quot;/&gt;\n",
       "\t&lt;rect x=&quot;2281.20&quot; y=&quot;2421.50&quot; width=&quot;92.59&quot; height=&quot;4.68&quot; style=&quot;fill:none;stroke:#D7D29E;stroke-width:8.64&quot;/&gt;\n",
       "\t&lt;rect x=&quot;2378.10&quot; y=&quot;2421.86&quot; width=&quot;101.23&quot; height=&quot;3.96&quot; style=&quot;fill:#CAC27E&quot;/&gt;\n",
       "\t&lt;rect x=&quot;2382.42&quot; y=&quot;2421.50&quot; width=&quot;92.59&quot; height=&quot;4.68&quot; style=&quot;fill:none;stroke:#D7D29E;stroke-width:8.64&quot;/&gt;\n",
       "\t&lt;rect x=&quot;2479.33&quot; y=&quot;2417.90&quot; width=&quot;101.23&quot; height=&quot;7.92&quot; style=&quot;fill:#CAC27E&quot;/&gt;\n",
       "\t&lt;rect x=&quot;2483.65&quot; y=&quot;2421.50&quot; width=&quot;92.59&quot; height=&quot;0.72&quot; style=&quot;fill:none;stroke:#D7D29E;stroke-width:8.64&quot;/&gt;\n",
       "\t&lt;rect x=&quot;2783.14&quot; y=&quot;2421.86&quot; width=&quot;101.23&quot; height=&quot;3.96&quot; style=&quot;fill:#CAC27E&quot;/&gt;\n",
       "\t&lt;rect x=&quot;2787.46&quot; y=&quot;2421.50&quot; width=&quot;92.59&quot; height=&quot;4.68&quot; style=&quot;fill:none;stroke:#D7D29E;stroke-width:8.64&quot;/&gt;\n",
       "\t&lt;rect x=&quot;3086.94&quot; y=&quot;2421.86&quot; width=&quot;101.23&quot; height=&quot;3.96&quot; style=&quot;fill:#CAC27E&quot;/&gt;\n",
       "\t&lt;rect x=&quot;3091.26&quot; y=&quot;2421.50&quot; width=&quot;92.59&quot; height=&quot;4.68&quot; style=&quot;fill:none;stroke:#D7D29E;stroke-width:8.64&quot;/&gt;\n",
       "\t&lt;rect x=&quot;3694.43&quot; y=&quot;2421.86&quot; width=&quot;101.23&quot; height=&quot;3.96&quot; style=&quot;fill:#CAC27E&quot;/&gt;\n",
       "\t&lt;rect x=&quot;3698.75&quot; y=&quot;2421.50&quot; width=&quot;92.59&quot; height=&quot;4.68&quot; style=&quot;fill:none;stroke:#D7D29E;stroke-width:8.64&quot;/&gt;\n",
       "\t&lt;line x1=&quot;390.80&quot; y1=&quot;2489.19&quot; x2=&quot;390.80&quot; y2=&quot;100.86&quot; style=&quot;stroke:#000000;stroke-width:5.76&quot;/&gt;\n",
       "\t&lt;line x1=&quot;390.80&quot; y1=&quot;2425.82&quot; x2=&quot;350.83&quot; y2=&quot;2425.82&quot; style=&quot;stroke:#000000;stroke-width:5.76&quot;/&gt;\n",
       "\t&lt;text x=&quot;300.72&quot; y=&quot;2425.82&quot; style=&quot;font-family:&#x27;Helvetica&#x27;;font-size:99.99px;fill:#000000&quot; transform=&quot;rotate(-90 300.72,2425.82)&quot; text-anchor=&quot;middle&quot;&gt;0&lt;/text&gt;\n",
       "\t&lt;line x1=&quot;390.80&quot; y1=&quot;1986.62&quot; x2=&quot;350.83&quot; y2=&quot;1986.62&quot; style=&quot;stroke:#000000;stroke-width:5.76&quot;/&gt;\n",
       "\t&lt;text x=&quot;300.72&quot; y=&quot;1986.62&quot; style=&quot;font-family:&#x27;Helvetica&#x27;;font-size:99.99px;fill:#000000&quot; transform=&quot;rotate(-90 300.72,1986.62)&quot; text-anchor=&quot;middle&quot;&gt;.05&lt;/text&gt;\n",
       "\t&lt;line x1=&quot;390.80&quot; y1=&quot;1547.54&quot; x2=&quot;350.83&quot; y2=&quot;1547.54&quot; style=&quot;stroke:#000000;stroke-width:5.76&quot;/&gt;\n",
       "\t&lt;text x=&quot;300.72&quot; y=&quot;1547.54&quot; style=&quot;font-family:&#x27;Helvetica&#x27;;font-size:99.99px;fill:#000000&quot; transform=&quot;rotate(-90 300.72,1547.54)&quot; text-anchor=&quot;middle&quot;&gt;.1&lt;/text&gt;\n",
       "\t&lt;line x1=&quot;390.80&quot; y1=&quot;1108.34&quot; x2=&quot;350.83&quot; y2=&quot;1108.34&quot; style=&quot;stroke:#000000;stroke-width:5.76&quot;/&gt;\n",
       "\t&lt;text x=&quot;300.72&quot; y=&quot;1108.34&quot; style=&quot;font-family:&#x27;Helvetica&#x27;;font-size:99.99px;fill:#000000&quot; transform=&quot;rotate(-90 300.72,1108.34)&quot; text-anchor=&quot;middle&quot;&gt;.15&lt;/text&gt;\n",
       "\t&lt;line x1=&quot;390.80&quot; y1=&quot;669.14&quot; x2=&quot;350.83&quot; y2=&quot;669.14&quot; style=&quot;stroke:#000000;stroke-width:5.76&quot;/&gt;\n",
       "\t&lt;text x=&quot;300.72&quot; y=&quot;669.14&quot; style=&quot;font-family:&#x27;Helvetica&#x27;;font-size:99.99px;fill:#000000&quot; transform=&quot;rotate(-90 300.72,669.14)&quot; text-anchor=&quot;middle&quot;&gt;.2&lt;/text&gt;\n",
       "\t&lt;line x1=&quot;390.80&quot; y1=&quot;229.93&quot; x2=&quot;350.83&quot; y2=&quot;229.93&quot; style=&quot;stroke:#000000;stroke-width:5.76&quot;/&gt;\n",
       "\t&lt;text x=&quot;300.72&quot; y=&quot;229.93&quot; style=&quot;font-family:&#x27;Helvetica&#x27;;font-size:99.99px;fill:#000000&quot; transform=&quot;rotate(-90 300.72,229.93)&quot; text-anchor=&quot;middle&quot;&gt;.25&lt;/text&gt;\n",
       "\t&lt;text x=&quot;190.71&quot; y=&quot;1294.96&quot; style=&quot;font-family:&#x27;Helvetica&#x27;;font-size:99.99px;fill:#000000&quot; transform=&quot;rotate(-90 190.71,1294.96)&quot; text-anchor=&quot;middle&quot;&gt;Fraction&lt;/text&gt;\n",
       "\t&lt;line x1=&quot;390.80&quot; y1=&quot;2489.19&quot; x2=&quot;3859.02&quot; y2=&quot;2489.19&quot; style=&quot;stroke:#000000;stroke-width:5.76&quot;/&gt;\n",
       "\t&lt;line x1=&quot;454.16&quot; y1=&quot;2489.19&quot; x2=&quot;454.16&quot; y2=&quot;2529.16&quot; style=&quot;stroke:#000000;stroke-width:5.76&quot;/&gt;\n",
       "\t&lt;text x=&quot;454.16&quot; y=&quot;2619.14&quot; style=&quot;font-family:&#x27;Helvetica&#x27;;font-size:99.99px;fill:#000000&quot; text-anchor=&quot;middle&quot;&gt;0&lt;/text&gt;\n",
       "\t&lt;line x1=&quot;1475.47&quot; y1=&quot;2489.19&quot; x2=&quot;1475.47&quot; y2=&quot;2529.16&quot; style=&quot;stroke:#000000;stroke-width:5.76&quot;/&gt;\n",
       "\t&lt;text x=&quot;1475.47&quot; y=&quot;2619.14&quot; style=&quot;font-family:&#x27;Helvetica&#x27;;font-size:99.99px;fill:#000000&quot; text-anchor=&quot;middle&quot;&gt;.05&lt;/text&gt;\n",
       "\t&lt;line x1=&quot;2496.90&quot; y1=&quot;2489.19&quot; x2=&quot;2496.90&quot; y2=&quot;2529.16&quot; style=&quot;stroke:#000000;stroke-width:5.76&quot;/&gt;\n",
       "\t&lt;text x=&quot;2496.90&quot; y=&quot;2619.14&quot; style=&quot;font-family:&#x27;Helvetica&#x27;;font-size:99.99px;fill:#000000&quot; text-anchor=&quot;middle&quot;&gt;.1&lt;/text&gt;\n",
       "\t&lt;line x1=&quot;3518.34&quot; y1=&quot;2489.19&quot; x2=&quot;3518.34&quot; y2=&quot;2529.16&quot; style=&quot;stroke:#000000;stroke-width:5.76&quot;/&gt;\n",
       "\t&lt;text x=&quot;3518.34&quot; y=&quot;2619.14&quot; style=&quot;font-family:&#x27;Helvetica&#x27;;font-size:99.99px;fill:#000000&quot; text-anchor=&quot;middle&quot;&gt;.15&lt;/text&gt;\n",
       "\t&lt;text x=&quot;2124.91&quot; y=&quot;2729.16&quot; style=&quot;font-family:&#x27;Helvetica&#x27;;font-size:99.99px;fill:#000000&quot; text-anchor=&quot;middle&quot;&gt;mobility_rate&lt;/text&gt;\n",
       "&lt;/svg&gt;\n",
       "</body></html>\"></iframe>\n"
      ],
      "text/plain": [
       "This front-end cannot display the desired image type."
      ]
     },
     "metadata": {
      "image/svg+xml": {
       "height": 436,
       "width": 600
      },
      "text/html": {
       "height": 436,
       "width": 600
      }
     },
     "output_type": "display_data"
    }
   ],
   "source": [
    "graph twoway histogram mobility_rate, frac xline(0.0483275)"
   ]
  },
  {
   "cell_type": "markdown",
   "metadata": {
    "slideshow": {
     "slide_type": "slide"
    }
   },
   "source": [
    "Now add (1) a descriptive title (2) labels and (3) customized aesthetics "
   ]
  },
  {
   "cell_type": "code",
   "execution_count": 21,
   "metadata": {
    "slideshow": {
     "slide_type": "fragment"
    }
   },
   "outputs": [
    {
     "data": {
      "application/pdf": "[encoded data removed]",
      "image/svg+xml": [
       "<?xml version=\"1.0\" encoding=\"UTF-8\" standalone=\"no\"?>\n",
       "<!-- This is a Stata 16.1 generated SVG file (http://www.stata.com) -->\n",
       "\n",
       "<svg version=\"1.1\" width=\"600px\" height=\"436px\" viewBox=\"0 0 3960 2880\" xmlns=\"http://www.w3.org/2000/svg\" xmlns:xlink=\"http://www.w3.org/1999/xlink\">\n",
       "\t<desc>Stata Graph - Graph</desc>\n",
       "\t<rect x=\"0\" y=\"0\" width=\"3960\" height=\"2880\" style=\"fill:#EAF2F3;stroke:none\"/>\n",
       "\t<rect x=\"0.00\" y=\"0.00\" width=\"3959.88\" height=\"2880.00\" style=\"fill:#FFFFFF\"/>\n",
       "\t<rect x=\"2.88\" y=\"2.88\" width=\"3954.12\" height=\"2874.24\" style=\"fill:none;stroke:#FFFFFF;stroke-width:5.76\"/>\n",
       "\t<rect x=\"390.80\" y=\"275.35\" width=\"3468.22\" height=\"2099.36\" style=\"fill:#FFFFFF\"/>\n",
       "\t<rect x=\"393.68\" y=\"278.23\" width=\"3462.46\" height=\"2093.60\" style=\"fill:none;stroke:#FFFFFF;stroke-width:5.76\"/>\n",
       "\t<line x1=\"390.80\" y1=\"2311.35\" x2=\"3859.02\" y2=\"2311.35\" style=\"stroke:#EAF2F3;stroke-width:8.64\"/>\n",
       "\t<line x1=\"390.80\" y1=\"1928.33\" x2=\"3859.02\" y2=\"1928.33\" style=\"stroke:#EAF2F3;stroke-width:8.64\"/>\n",
       "\t<line x1=\"390.80\" y1=\"1545.19\" x2=\"3859.02\" y2=\"1545.19\" style=\"stroke:#EAF2F3;stroke-width:8.64\"/>\n",
       "\t<line x1=\"390.80\" y1=\"1162.17\" x2=\"3859.02\" y2=\"1162.17\" style=\"stroke:#EAF2F3;stroke-width:8.64\"/>\n",
       "\t<line x1=\"390.80\" y1=\"779.15\" x2=\"3859.02\" y2=\"779.15\" style=\"stroke:#EAF2F3;stroke-width:8.64\"/>\n",
       "\t<line x1=\"390.80\" y1=\"396.14\" x2=\"3859.02\" y2=\"396.14\" style=\"stroke:#EAF2F3;stroke-width:8.64\"/>\n",
       "\t<line x1=\"1261.63\" y1=\"2374.71\" x2=\"1261.63\" y2=\"2317.17\" style=\"stroke:#000000;stroke-width:8.64\"/>\n",
       "\t<line x1=\"1261.63\" y1=\"2288.33\" x2=\"1261.63\" y2=\"2230.66\" style=\"stroke:#000000;stroke-width:8.64\"/>\n",
       "\t<line x1=\"1261.63\" y1=\"2201.95\" x2=\"1261.63\" y2=\"2144.28\" style=\"stroke:#000000;stroke-width:8.64\"/>\n",
       "\t<line x1=\"1261.63\" y1=\"2115.57\" x2=\"1261.63\" y2=\"2057.90\" style=\"stroke:#000000;stroke-width:8.64\"/>\n",
       "\t<line x1=\"1261.63\" y1=\"2029.07\" x2=\"1261.63\" y2=\"1971.52\" style=\"stroke:#000000;stroke-width:8.64\"/>\n",
       "\t<line x1=\"1261.63\" y1=\"1942.69\" x2=\"1261.63\" y2=\"1885.14\" style=\"stroke:#000000;stroke-width:8.64\"/>\n",
       "\t<line x1=\"1261.63\" y1=\"1856.31\" x2=\"1261.63\" y2=\"1798.76\" style=\"stroke:#000000;stroke-width:8.64\"/>\n",
       "\t<line x1=\"1261.63\" y1=\"1769.93\" x2=\"1261.63\" y2=\"1712.38\" style=\"stroke:#000000;stroke-width:8.64\"/>\n",
       "\t<line x1=\"1261.63\" y1=\"1683.55\" x2=\"1261.63\" y2=\"1626.00\" style=\"stroke:#000000;stroke-width:8.64\"/>\n",
       "\t<line x1=\"1261.63\" y1=\"1597.17\" x2=\"1261.63\" y2=\"1539.62\" style=\"stroke:#000000;stroke-width:8.64\"/>\n",
       "\t<line x1=\"1261.63\" y1=\"1510.79\" x2=\"1261.63\" y2=\"1453.24\" style=\"stroke:#000000;stroke-width:8.64\"/>\n",
       "\t<line x1=\"1261.63\" y1=\"1424.41\" x2=\"1261.63\" y2=\"1366.86\" style=\"stroke:#000000;stroke-width:8.64\"/>\n",
       "\t<line x1=\"1261.63\" y1=\"1338.03\" x2=\"1261.63\" y2=\"1280.36\" style=\"stroke:#000000;stroke-width:8.64\"/>\n",
       "\t<line x1=\"1261.63\" y1=\"1251.65\" x2=\"1261.63\" y2=\"1193.98\" style=\"stroke:#000000;stroke-width:8.64\"/>\n",
       "\t<line x1=\"1261.63\" y1=\"1165.27\" x2=\"1261.63\" y2=\"1107.60\" style=\"stroke:#000000;stroke-width:8.64\"/>\n",
       "\t<line x1=\"1261.63\" y1=\"1078.76\" x2=\"1261.63\" y2=\"1021.22\" style=\"stroke:#000000;stroke-width:8.64\"/>\n",
       "\t<line x1=\"1261.63\" y1=\"992.38\" x2=\"1261.63\" y2=\"934.84\" style=\"stroke:#000000;stroke-width:8.64\"/>\n",
       "\t<line x1=\"1261.63\" y1=\"906.00\" x2=\"1261.63\" y2=\"848.46\" style=\"stroke:#000000;stroke-width:8.64\"/>\n",
       "\t<line x1=\"1261.63\" y1=\"819.62\" x2=\"1261.63\" y2=\"762.08\" style=\"stroke:#000000;stroke-width:8.64\"/>\n",
       "\t<line x1=\"1261.63\" y1=\"733.24\" x2=\"1261.63\" y2=\"675.70\" style=\"stroke:#000000;stroke-width:8.64\"/>\n",
       "\t<line x1=\"1261.63\" y1=\"646.86\" x2=\"1261.63\" y2=\"589.32\" style=\"stroke:#000000;stroke-width:8.64\"/>\n",
       "\t<line x1=\"1261.63\" y1=\"560.48\" x2=\"1261.63\" y2=\"502.94\" style=\"stroke:#000000;stroke-width:8.64\"/>\n",
       "\t<line x1=\"1261.63\" y1=\"474.10\" x2=\"1261.63\" y2=\"416.56\" style=\"stroke:#000000;stroke-width:8.64\"/>\n",
       "\t<line x1=\"1261.63\" y1=\"387.72\" x2=\"1261.63\" y2=\"330.05\" style=\"stroke:#000000;stroke-width:8.64\"/>\n",
       "\t<line x1=\"1261.63\" y1=\"301.34\" x2=\"1261.63\" y2=\"275.35\" style=\"stroke:#000000;stroke-width:8.64\"/>\n",
       "\t<rect x=\"454.16\" y=\"1987.73\" width=\"82.79\" height=\"323.62\" style=\"fill:#0000FF;fill-opacity:0.40\"/>\n",
       "\t<rect x=\"458.48\" y=\"1992.05\" width=\"74.15\" height=\"314.98\" style=\"fill:none;stroke:#0000FF;stroke-opacity:0.40;stroke-width:8.64\"/>\n",
       "\t<rect x=\"536.95\" y=\"888.43\" width=\"82.79\" height=\"1422.92\" style=\"fill:#0000FF;fill-opacity:0.40\"/>\n",
       "\t<rect x=\"541.27\" y=\"892.75\" width=\"74.15\" height=\"1414.28\" style=\"fill:none;stroke:#0000FF;stroke-opacity:0.40;stroke-width:8.64\"/>\n",
       "\t<rect x=\"619.74\" y=\"338.71\" width=\"82.91\" height=\"1972.64\" style=\"fill:#0000FF;fill-opacity:0.40\"/>\n",
       "\t<rect x=\"624.06\" y=\"343.03\" width=\"74.27\" height=\"1964.00\" style=\"fill:none;stroke:#0000FF;stroke-opacity:0.40;stroke-width:8.64\"/>\n",
       "\t<rect x=\"702.65\" y=\"738.81\" width=\"82.79\" height=\"1572.54\" style=\"fill:#0000FF;fill-opacity:0.40\"/>\n",
       "\t<rect x=\"706.97\" y=\"743.13\" width=\"74.15\" height=\"1563.90\" style=\"fill:none;stroke:#0000FF;stroke-opacity:0.40;stroke-width:8.64\"/>\n",
       "\t<rect x=\"785.44\" y=\"1434.55\" width=\"82.79\" height=\"876.80\" style=\"fill:#0000FF;fill-opacity:0.40\"/>\n",
       "\t<rect x=\"789.76\" y=\"1438.87\" width=\"74.15\" height=\"868.16\" style=\"fill:none;stroke:#0000FF;stroke-opacity:0.40;stroke-width:8.64\"/>\n",
       "\t<rect x=\"868.23\" y=\"1792.95\" width=\"82.79\" height=\"518.40\" style=\"fill:#0000FF;fill-opacity:0.40\"/>\n",
       "\t<rect x=\"872.55\" y=\"1797.27\" width=\"74.15\" height=\"509.77\" style=\"fill:none;stroke:#0000FF;stroke-opacity:0.40;stroke-width:8.64\"/>\n",
       "\t<rect x=\"951.02\" y=\"1949.49\" width=\"82.91\" height=\"361.86\" style=\"fill:#0000FF;fill-opacity:0.40\"/>\n",
       "\t<rect x=\"955.34\" y=\"1953.81\" width=\"74.27\" height=\"353.22\" style=\"fill:none;stroke:#0000FF;stroke-opacity:0.40;stroke-width:8.64\"/>\n",
       "\t<rect x=\"1033.93\" y=\"2116.44\" width=\"82.79\" height=\"194.91\" style=\"fill:#0000FF;fill-opacity:0.40\"/>\n",
       "\t<rect x=\"1038.25\" y=\"2120.76\" width=\"74.15\" height=\"186.27\" style=\"fill:none;stroke:#0000FF;stroke-opacity:0.40;stroke-width:8.64\"/>\n",
       "\t<rect x=\"1116.72\" y=\"2203.44\" width=\"82.79\" height=\"107.91\" style=\"fill:#0000FF;fill-opacity:0.40\"/>\n",
       "\t<rect x=\"1121.04\" y=\"2207.76\" width=\"74.15\" height=\"99.27\" style=\"fill:none;stroke:#0000FF;stroke-opacity:0.40;stroke-width:8.64\"/>\n",
       "\t<rect x=\"1199.51\" y=\"2245.27\" width=\"82.79\" height=\"66.08\" style=\"fill:#0000FF;fill-opacity:0.40\"/>\n",
       "\t<rect x=\"1203.83\" y=\"2249.59\" width=\"74.15\" height=\"57.44\" style=\"fill:none;stroke:#0000FF;stroke-opacity:0.40;stroke-width:8.64\"/>\n",
       "\t<rect x=\"1282.30\" y=\"2255.66\" width=\"82.91\" height=\"55.69\" style=\"fill:#0000FF;fill-opacity:0.40\"/>\n",
       "\t<rect x=\"1286.62\" y=\"2259.98\" width=\"74.27\" height=\"47.05\" style=\"fill:none;stroke:#0000FF;stroke-opacity:0.40;stroke-width:8.64\"/>\n",
       "\t<rect x=\"1365.21\" y=\"2269.52\" width=\"82.79\" height=\"41.83\" style=\"fill:#0000FF;fill-opacity:0.40\"/>\n",
       "\t<rect x=\"1369.53\" y=\"2273.84\" width=\"74.15\" height=\"33.19\" style=\"fill:none;stroke:#0000FF;stroke-opacity:0.40;stroke-width:8.64\"/>\n",
       "\t<rect x=\"1448.00\" y=\"2283.51\" width=\"82.79\" height=\"27.84\" style=\"fill:#0000FF;fill-opacity:0.40\"/>\n",
       "\t<rect x=\"1452.32\" y=\"2287.83\" width=\"74.15\" height=\"19.20\" style=\"fill:none;stroke:#0000FF;stroke-opacity:0.40;stroke-width:8.64\"/>\n",
       "\t<rect x=\"1530.79\" y=\"2266.06\" width=\"82.79\" height=\"45.29\" style=\"fill:#0000FF;fill-opacity:0.40\"/>\n",
       "\t<rect x=\"1535.11\" y=\"2270.38\" width=\"74.15\" height=\"36.65\" style=\"fill:none;stroke:#0000FF;stroke-opacity:0.40;stroke-width:8.64\"/>\n",
       "\t<rect x=\"1613.58\" y=\"2297.37\" width=\"82.91\" height=\"13.98\" style=\"fill:#0000FF;fill-opacity:0.40\"/>\n",
       "\t<rect x=\"1617.90\" y=\"2301.69\" width=\"74.27\" height=\"5.34\" style=\"fill:none;stroke:#0000FF;stroke-opacity:0.40;stroke-width:8.64\"/>\n",
       "\t<rect x=\"1696.49\" y=\"2300.83\" width=\"82.79\" height=\"10.52\" style=\"fill:#0000FF;fill-opacity:0.40\"/>\n",
       "\t<rect x=\"1700.81\" y=\"2305.15\" width=\"74.15\" height=\"1.88\" style=\"fill:none;stroke:#0000FF;stroke-opacity:0.40;stroke-width:8.64\"/>\n",
       "\t<rect x=\"1779.28\" y=\"2290.44\" width=\"82.79\" height=\"20.91\" style=\"fill:#0000FF;fill-opacity:0.40\"/>\n",
       "\t<rect x=\"1783.60\" y=\"2294.76\" width=\"74.15\" height=\"12.27\" style=\"fill:none;stroke:#0000FF;stroke-opacity:0.40;stroke-width:8.64\"/>\n",
       "\t<rect x=\"1862.07\" y=\"2307.89\" width=\"82.79\" height=\"3.47\" style=\"fill:#0000FF;fill-opacity:0.40\"/>\n",
       "\t<rect x=\"1866.39\" y=\"2307.03\" width=\"74.15\" height=\"5.17\" style=\"fill:none;stroke:#0000FF;stroke-opacity:0.40;stroke-width:8.64\"/>\n",
       "\t<rect x=\"1944.86\" y=\"2307.89\" width=\"82.91\" height=\"3.47\" style=\"fill:#0000FF;fill-opacity:0.40\"/>\n",
       "\t<rect x=\"1949.17\" y=\"2307.03\" width=\"74.27\" height=\"5.17\" style=\"fill:none;stroke:#0000FF;stroke-opacity:0.40;stroke-width:8.64\"/>\n",
       "\t<rect x=\"2027.77\" y=\"2307.89\" width=\"82.79\" height=\"3.47\" style=\"fill:#0000FF;fill-opacity:0.40\"/>\n",
       "\t<rect x=\"2032.09\" y=\"2307.03\" width=\"74.15\" height=\"5.17\" style=\"fill:none;stroke:#0000FF;stroke-opacity:0.40;stroke-width:8.64\"/>\n",
       "\t<rect x=\"2110.56\" y=\"2304.30\" width=\"82.79\" height=\"7.05\" style=\"fill:#0000FF;fill-opacity:0.40\"/>\n",
       "\t<rect x=\"2114.88\" y=\"2307.03\" width=\"74.15\" height=\"1.59\" style=\"fill:none;stroke:#0000FF;stroke-opacity:0.40;stroke-width:8.64\"/>\n",
       "\t<rect x=\"2359.05\" y=\"2307.89\" width=\"82.79\" height=\"3.47\" style=\"fill:#0000FF;fill-opacity:0.40\"/>\n",
       "\t<rect x=\"2363.37\" y=\"2307.03\" width=\"74.15\" height=\"5.17\" style=\"fill:none;stroke:#0000FF;stroke-opacity:0.40;stroke-width:8.64\"/>\n",
       "\t<rect x=\"2607.41\" y=\"2307.89\" width=\"82.91\" height=\"3.47\" style=\"fill:#0000FF;fill-opacity:0.40\"/>\n",
       "\t<rect x=\"2611.73\" y=\"2307.03\" width=\"74.27\" height=\"5.17\" style=\"fill:none;stroke:#0000FF;stroke-opacity:0.40;stroke-width:8.64\"/>\n",
       "\t<rect x=\"3104.39\" y=\"2307.89\" width=\"82.79\" height=\"3.47\" style=\"fill:#0000FF;fill-opacity:0.40\"/>\n",
       "\t<rect x=\"3108.71\" y=\"2307.03\" width=\"74.15\" height=\"5.17\" style=\"fill:none;stroke:#0000FF;stroke-opacity:0.40;stroke-width:8.64\"/>\n",
       "\t<line x1=\"1456.66\" y1=\"779.15\" x2=\"1289.47\" y2=\"779.15\" style=\"stroke:#000000;stroke-width:8.64\"/>\n",
       "\t<line x1=\"1289.47\" y1=\"779.15\" x2=\"1328.09\" y2=\"758.12\" stroke-linecap=\"round\" style=\"stroke:#000000;stroke-width:8.64\"/>\n",
       "\t<line x1=\"1289.47\" y1=\"779.15\" x2=\"1328.09\" y2=\"800.19\" stroke-linecap=\"round\" style=\"stroke:#000000;stroke-width:8.64\"/>\n",
       "\t<text x=\"1572.49\" y=\"807.17\" style=\"font-family:'Helvetica';font-size:79.94px;fill:#000000\" text-anchor=\"middle\">UCSD</text>\n",
       "\t<line x1=\"390.80\" y1=\"2374.71\" x2=\"390.80\" y2=\"275.35\" style=\"stroke:#000000;stroke-width:5.76\"/>\n",
       "\t<line x1=\"390.80\" y1=\"2311.35\" x2=\"350.83\" y2=\"2311.35\" style=\"stroke:#000000;stroke-width:5.76\"/>\n",
       "\t<text x=\"300.72\" y=\"2311.35\" style=\"font-family:'Helvetica';font-size:99.99px;fill:#000000\" transform=\"rotate(-90 300.72,2311.35)\" text-anchor=\"middle\">0</text>\n",
       "\t<line x1=\"390.80\" y1=\"1928.33\" x2=\"350.83\" y2=\"1928.33\" style=\"stroke:#000000;stroke-width:5.76\"/>\n",
       "\t<text x=\"300.72\" y=\"1928.33\" style=\"font-family:'Helvetica';font-size:99.99px;fill:#000000\" transform=\"rotate(-90 300.72,1928.33)\" text-anchor=\"middle\">.05</text>\n",
       "\t<line x1=\"390.80\" y1=\"1545.19\" x2=\"350.83\" y2=\"1545.19\" style=\"stroke:#000000;stroke-width:5.76\"/>\n",
       "\t<text x=\"300.72\" y=\"1545.19\" style=\"font-family:'Helvetica';font-size:99.99px;fill:#000000\" transform=\"rotate(-90 300.72,1545.19)\" text-anchor=\"middle\">.1</text>\n",
       "\t<line x1=\"390.80\" y1=\"1162.17\" x2=\"350.83\" y2=\"1162.17\" style=\"stroke:#000000;stroke-width:5.76\"/>\n",
       "\t<text x=\"300.72\" y=\"1162.17\" style=\"font-family:'Helvetica';font-size:99.99px;fill:#000000\" transform=\"rotate(-90 300.72,1162.17)\" text-anchor=\"middle\">.15</text>\n",
       "\t<line x1=\"390.80\" y1=\"779.15\" x2=\"350.83\" y2=\"779.15\" style=\"stroke:#000000;stroke-width:5.76\"/>\n",
       "\t<text x=\"300.72\" y=\"779.15\" style=\"font-family:'Helvetica';font-size:99.99px;fill:#000000\" transform=\"rotate(-90 300.72,779.15)\" text-anchor=\"middle\">.2</text>\n",
       "\t<line x1=\"390.80\" y1=\"396.14\" x2=\"350.83\" y2=\"396.14\" style=\"stroke:#000000;stroke-width:5.76\"/>\n",
       "\t<text x=\"300.72\" y=\"396.14\" style=\"font-family:'Helvetica';font-size:99.99px;fill:#000000\" transform=\"rotate(-90 300.72,396.14)\" text-anchor=\"middle\">.25</text>\n",
       "\t<text x=\"190.71\" y=\"1325.03\" style=\"font-family:'Helvetica';font-size:99.99px;fill:#000000\" transform=\"rotate(-90 190.71,1325.03)\" text-anchor=\"middle\">Fraction of Colleges in Bin</text>\n",
       "\t<line x1=\"390.80\" y1=\"2374.71\" x2=\"3859.02\" y2=\"2374.71\" style=\"stroke:#000000;stroke-width:5.76\"/>\n",
       "\t<line x1=\"454.16\" y1=\"2374.71\" x2=\"454.16\" y2=\"2414.69\" style=\"stroke:#000000;stroke-width:5.76\"/>\n",
       "\t<text x=\"454.16\" y=\"2504.54\" style=\"font-family:'Helvetica';font-size:99.99px;fill:#000000\" text-anchor=\"middle\">0</text>\n",
       "\t<line x1=\"788.29\" y1=\"2374.71\" x2=\"788.29\" y2=\"2414.69\" style=\"stroke:#000000;stroke-width:5.76\"/>\n",
       "\t<text x=\"788.29\" y=\"2504.54\" style=\"font-family:'Helvetica';font-size:99.99px;fill:#000000\" text-anchor=\"middle\">.02</text>\n",
       "\t<line x1=\"1122.41\" y1=\"2374.71\" x2=\"1122.41\" y2=\"2414.69\" style=\"stroke:#000000;stroke-width:5.76\"/>\n",
       "\t<text x=\"1122.41\" y=\"2504.54\" style=\"font-family:'Helvetica';font-size:99.99px;fill:#000000\" text-anchor=\"middle\">.04</text>\n",
       "\t<line x1=\"1456.66\" y1=\"2374.71\" x2=\"1456.66\" y2=\"2414.69\" style=\"stroke:#000000;stroke-width:5.76\"/>\n",
       "\t<text x=\"1456.66\" y=\"2504.54\" style=\"font-family:'Helvetica';font-size:99.99px;fill:#000000\" text-anchor=\"middle\">.06</text>\n",
       "\t<line x1=\"1790.79\" y1=\"2374.71\" x2=\"1790.79\" y2=\"2414.69\" style=\"stroke:#000000;stroke-width:5.76\"/>\n",
       "\t<text x=\"1790.79\" y=\"2504.54\" style=\"font-family:'Helvetica';font-size:99.99px;fill:#000000\" text-anchor=\"middle\">.08</text>\n",
       "\t<line x1=\"2124.91\" y1=\"2374.71\" x2=\"2124.91\" y2=\"2414.69\" style=\"stroke:#000000;stroke-width:5.76\"/>\n",
       "\t<text x=\"2124.91\" y=\"2504.54\" style=\"font-family:'Helvetica';font-size:99.99px;fill:#000000\" text-anchor=\"middle\">.1</text>\n",
       "\t<line x1=\"2459.04\" y1=\"2374.71\" x2=\"2459.04\" y2=\"2414.69\" style=\"stroke:#000000;stroke-width:5.76\"/>\n",
       "\t<text x=\"2459.04\" y=\"2504.54\" style=\"font-family:'Helvetica';font-size:99.99px;fill:#000000\" text-anchor=\"middle\">.12</text>\n",
       "\t<line x1=\"2793.28\" y1=\"2374.71\" x2=\"2793.28\" y2=\"2414.69\" style=\"stroke:#000000;stroke-width:5.76\"/>\n",
       "\t<text x=\"2793.28\" y=\"2504.54\" style=\"font-family:'Helvetica';font-size:99.99px;fill:#000000\" text-anchor=\"middle\">.14</text>\n",
       "\t<line x1=\"3127.41\" y1=\"2374.71\" x2=\"3127.41\" y2=\"2414.69\" style=\"stroke:#000000;stroke-width:5.76\"/>\n",
       "\t<text x=\"3127.41\" y=\"2504.54\" style=\"font-family:'Helvetica';font-size:99.99px;fill:#000000\" text-anchor=\"middle\">.16</text>\n",
       "\t<line x1=\"3461.53\" y1=\"2374.71\" x2=\"3461.53\" y2=\"2414.69\" style=\"stroke:#000000;stroke-width:5.76\"/>\n",
       "\t<text x=\"3461.53\" y=\"2504.54\" style=\"font-family:'Helvetica';font-size:99.99px;fill:#000000\" text-anchor=\"middle\">.18</text>\n",
       "\t<line x1=\"3795.66\" y1=\"2374.71\" x2=\"3795.66\" y2=\"2414.69\" style=\"stroke:#000000;stroke-width:5.76\"/>\n",
       "\t<text x=\"3795.66\" y=\"2504.54\" style=\"font-family:'Helvetica';font-size:99.99px;fill:#000000\" text-anchor=\"middle\">.2</text>\n",
       "\t<text x=\"2124.91\" y=\"2614.56\" style=\"font-family:'Helvetica';font-size:99.99px;fill:#000000\" text-anchor=\"middle\">Mobility Rate</text>\n",
       "\t<text x=\"408.00\" y=\"2737.89\" style=\"font-family:'Helvetica';font-size:79.94px;fill:#000000\">Source: Opportunity Insights</text>\n",
       "\t<text x=\"2124.91\" y=\"215.98\" style=\"font-family:'Helvetica';font-size:139.96px;fill:#1E2D53\" text-anchor=\"middle\">Distribution of Mobility Rates across U.S. Colleges</text>\n",
       "</svg>\n"
      ],
      "text/html": [
       "                <iframe frameborder=\"0\" scrolling=\"no\" height=\"436\" width=\"600\"                srcdoc=\"<html><body>&lt;?xml version=&quot;1.0&quot; encoding=&quot;UTF-8&quot; standalone=&quot;no&quot;?&gt;\n",
       "&lt;!-- This is a Stata 16.1 generated SVG file (http://www.stata.com) --&gt;\n",
       "\n",
       "&lt;svg version=&quot;1.1&quot; width=&quot;600px&quot; height=&quot;436px&quot; viewBox=&quot;0 0 3960 2880&quot; xmlns=&quot;http://www.w3.org/2000/svg&quot; xmlns:xlink=&quot;http://www.w3.org/1999/xlink&quot;&gt;\n",
       "\t&lt;desc&gt;Stata Graph - Graph&lt;/desc&gt;\n",
       "\t&lt;rect x=&quot;0&quot; y=&quot;0&quot; width=&quot;3960&quot; height=&quot;2880&quot; style=&quot;fill:#EAF2F3;stroke:none&quot;/&gt;\n",
       "\t&lt;rect x=&quot;0.00&quot; y=&quot;0.00&quot; width=&quot;3959.88&quot; height=&quot;2880.00&quot; style=&quot;fill:#FFFFFF&quot;/&gt;\n",
       "\t&lt;rect x=&quot;2.88&quot; y=&quot;2.88&quot; width=&quot;3954.12&quot; height=&quot;2874.24&quot; style=&quot;fill:none;stroke:#FFFFFF;stroke-width:5.76&quot;/&gt;\n",
       "\t&lt;rect x=&quot;390.80&quot; y=&quot;275.35&quot; width=&quot;3468.22&quot; height=&quot;2099.36&quot; style=&quot;fill:#FFFFFF&quot;/&gt;\n",
       "\t&lt;rect x=&quot;393.68&quot; y=&quot;278.23&quot; width=&quot;3462.46&quot; height=&quot;2093.60&quot; style=&quot;fill:none;stroke:#FFFFFF;stroke-width:5.76&quot;/&gt;\n",
       "\t&lt;line x1=&quot;390.80&quot; y1=&quot;2311.35&quot; x2=&quot;3859.02&quot; y2=&quot;2311.35&quot; style=&quot;stroke:#EAF2F3;stroke-width:8.64&quot;/&gt;\n",
       "\t&lt;line x1=&quot;390.80&quot; y1=&quot;1928.33&quot; x2=&quot;3859.02&quot; y2=&quot;1928.33&quot; style=&quot;stroke:#EAF2F3;stroke-width:8.64&quot;/&gt;\n",
       "\t&lt;line x1=&quot;390.80&quot; y1=&quot;1545.19&quot; x2=&quot;3859.02&quot; y2=&quot;1545.19&quot; style=&quot;stroke:#EAF2F3;stroke-width:8.64&quot;/&gt;\n",
       "\t&lt;line x1=&quot;390.80&quot; y1=&quot;1162.17&quot; x2=&quot;3859.02&quot; y2=&quot;1162.17&quot; style=&quot;stroke:#EAF2F3;stroke-width:8.64&quot;/&gt;\n",
       "\t&lt;line x1=&quot;390.80&quot; y1=&quot;779.15&quot; x2=&quot;3859.02&quot; y2=&quot;779.15&quot; style=&quot;stroke:#EAF2F3;stroke-width:8.64&quot;/&gt;\n",
       "\t&lt;line x1=&quot;390.80&quot; y1=&quot;396.14&quot; x2=&quot;3859.02&quot; y2=&quot;396.14&quot; style=&quot;stroke:#EAF2F3;stroke-width:8.64&quot;/&gt;\n",
       "\t&lt;line x1=&quot;1261.63&quot; y1=&quot;2374.71&quot; x2=&quot;1261.63&quot; y2=&quot;2317.17&quot; style=&quot;stroke:#000000;stroke-width:8.64&quot;/&gt;\n",
       "\t&lt;line x1=&quot;1261.63&quot; y1=&quot;2288.33&quot; x2=&quot;1261.63&quot; y2=&quot;2230.66&quot; style=&quot;stroke:#000000;stroke-width:8.64&quot;/&gt;\n",
       "\t&lt;line x1=&quot;1261.63&quot; y1=&quot;2201.95&quot; x2=&quot;1261.63&quot; y2=&quot;2144.28&quot; style=&quot;stroke:#000000;stroke-width:8.64&quot;/&gt;\n",
       "\t&lt;line x1=&quot;1261.63&quot; y1=&quot;2115.57&quot; x2=&quot;1261.63&quot; y2=&quot;2057.90&quot; style=&quot;stroke:#000000;stroke-width:8.64&quot;/&gt;\n",
       "\t&lt;line x1=&quot;1261.63&quot; y1=&quot;2029.07&quot; x2=&quot;1261.63&quot; y2=&quot;1971.52&quot; style=&quot;stroke:#000000;stroke-width:8.64&quot;/&gt;\n",
       "\t&lt;line x1=&quot;1261.63&quot; y1=&quot;1942.69&quot; x2=&quot;1261.63&quot; y2=&quot;1885.14&quot; style=&quot;stroke:#000000;stroke-width:8.64&quot;/&gt;\n",
       "\t&lt;line x1=&quot;1261.63&quot; y1=&quot;1856.31&quot; x2=&quot;1261.63&quot; y2=&quot;1798.76&quot; style=&quot;stroke:#000000;stroke-width:8.64&quot;/&gt;\n",
       "\t&lt;line x1=&quot;1261.63&quot; y1=&quot;1769.93&quot; x2=&quot;1261.63&quot; y2=&quot;1712.38&quot; style=&quot;stroke:#000000;stroke-width:8.64&quot;/&gt;\n",
       "\t&lt;line x1=&quot;1261.63&quot; y1=&quot;1683.55&quot; x2=&quot;1261.63&quot; y2=&quot;1626.00&quot; style=&quot;stroke:#000000;stroke-width:8.64&quot;/&gt;\n",
       "\t&lt;line x1=&quot;1261.63&quot; y1=&quot;1597.17&quot; x2=&quot;1261.63&quot; y2=&quot;1539.62&quot; style=&quot;stroke:#000000;stroke-width:8.64&quot;/&gt;\n",
       "\t&lt;line x1=&quot;1261.63&quot; y1=&quot;1510.79&quot; x2=&quot;1261.63&quot; y2=&quot;1453.24&quot; style=&quot;stroke:#000000;stroke-width:8.64&quot;/&gt;\n",
       "\t&lt;line x1=&quot;1261.63&quot; y1=&quot;1424.41&quot; x2=&quot;1261.63&quot; y2=&quot;1366.86&quot; style=&quot;stroke:#000000;stroke-width:8.64&quot;/&gt;\n",
       "\t&lt;line x1=&quot;1261.63&quot; y1=&quot;1338.03&quot; x2=&quot;1261.63&quot; y2=&quot;1280.36&quot; style=&quot;stroke:#000000;stroke-width:8.64&quot;/&gt;\n",
       "\t&lt;line x1=&quot;1261.63&quot; y1=&quot;1251.65&quot; x2=&quot;1261.63&quot; y2=&quot;1193.98&quot; style=&quot;stroke:#000000;stroke-width:8.64&quot;/&gt;\n",
       "\t&lt;line x1=&quot;1261.63&quot; y1=&quot;1165.27&quot; x2=&quot;1261.63&quot; y2=&quot;1107.60&quot; style=&quot;stroke:#000000;stroke-width:8.64&quot;/&gt;\n",
       "\t&lt;line x1=&quot;1261.63&quot; y1=&quot;1078.76&quot; x2=&quot;1261.63&quot; y2=&quot;1021.22&quot; style=&quot;stroke:#000000;stroke-width:8.64&quot;/&gt;\n",
       "\t&lt;line x1=&quot;1261.63&quot; y1=&quot;992.38&quot; x2=&quot;1261.63&quot; y2=&quot;934.84&quot; style=&quot;stroke:#000000;stroke-width:8.64&quot;/&gt;\n",
       "\t&lt;line x1=&quot;1261.63&quot; y1=&quot;906.00&quot; x2=&quot;1261.63&quot; y2=&quot;848.46&quot; style=&quot;stroke:#000000;stroke-width:8.64&quot;/&gt;\n",
       "\t&lt;line x1=&quot;1261.63&quot; y1=&quot;819.62&quot; x2=&quot;1261.63&quot; y2=&quot;762.08&quot; style=&quot;stroke:#000000;stroke-width:8.64&quot;/&gt;\n",
       "\t&lt;line x1=&quot;1261.63&quot; y1=&quot;733.24&quot; x2=&quot;1261.63&quot; y2=&quot;675.70&quot; style=&quot;stroke:#000000;stroke-width:8.64&quot;/&gt;\n",
       "\t&lt;line x1=&quot;1261.63&quot; y1=&quot;646.86&quot; x2=&quot;1261.63&quot; y2=&quot;589.32&quot; style=&quot;stroke:#000000;stroke-width:8.64&quot;/&gt;\n",
       "\t&lt;line x1=&quot;1261.63&quot; y1=&quot;560.48&quot; x2=&quot;1261.63&quot; y2=&quot;502.94&quot; style=&quot;stroke:#000000;stroke-width:8.64&quot;/&gt;\n",
       "\t&lt;line x1=&quot;1261.63&quot; y1=&quot;474.10&quot; x2=&quot;1261.63&quot; y2=&quot;416.56&quot; style=&quot;stroke:#000000;stroke-width:8.64&quot;/&gt;\n",
       "\t&lt;line x1=&quot;1261.63&quot; y1=&quot;387.72&quot; x2=&quot;1261.63&quot; y2=&quot;330.05&quot; style=&quot;stroke:#000000;stroke-width:8.64&quot;/&gt;\n",
       "\t&lt;line x1=&quot;1261.63&quot; y1=&quot;301.34&quot; x2=&quot;1261.63&quot; y2=&quot;275.35&quot; style=&quot;stroke:#000000;stroke-width:8.64&quot;/&gt;\n",
       "\t&lt;rect x=&quot;454.16&quot; y=&quot;1987.73&quot; width=&quot;82.79&quot; height=&quot;323.62&quot; style=&quot;fill:#0000FF;fill-opacity:0.40&quot;/&gt;\n",
       "\t&lt;rect x=&quot;458.48&quot; y=&quot;1992.05&quot; width=&quot;74.15&quot; height=&quot;314.98&quot; style=&quot;fill:none;stroke:#0000FF;stroke-opacity:0.40;stroke-width:8.64&quot;/&gt;\n",
       "\t&lt;rect x=&quot;536.95&quot; y=&quot;888.43&quot; width=&quot;82.79&quot; height=&quot;1422.92&quot; style=&quot;fill:#0000FF;fill-opacity:0.40&quot;/&gt;\n",
       "\t&lt;rect x=&quot;541.27&quot; y=&quot;892.75&quot; width=&quot;74.15&quot; height=&quot;1414.28&quot; style=&quot;fill:none;stroke:#0000FF;stroke-opacity:0.40;stroke-width:8.64&quot;/&gt;\n",
       "\t&lt;rect x=&quot;619.74&quot; y=&quot;338.71&quot; width=&quot;82.91&quot; height=&quot;1972.64&quot; style=&quot;fill:#0000FF;fill-opacity:0.40&quot;/&gt;\n",
       "\t&lt;rect x=&quot;624.06&quot; y=&quot;343.03&quot; width=&quot;74.27&quot; height=&quot;1964.00&quot; style=&quot;fill:none;stroke:#0000FF;stroke-opacity:0.40;stroke-width:8.64&quot;/&gt;\n",
       "\t&lt;rect x=&quot;702.65&quot; y=&quot;738.81&quot; width=&quot;82.79&quot; height=&quot;1572.54&quot; style=&quot;fill:#0000FF;fill-opacity:0.40&quot;/&gt;\n",
       "\t&lt;rect x=&quot;706.97&quot; y=&quot;743.13&quot; width=&quot;74.15&quot; height=&quot;1563.90&quot; style=&quot;fill:none;stroke:#0000FF;stroke-opacity:0.40;stroke-width:8.64&quot;/&gt;\n",
       "\t&lt;rect x=&quot;785.44&quot; y=&quot;1434.55&quot; width=&quot;82.79&quot; height=&quot;876.80&quot; style=&quot;fill:#0000FF;fill-opacity:0.40&quot;/&gt;\n",
       "\t&lt;rect x=&quot;789.76&quot; y=&quot;1438.87&quot; width=&quot;74.15&quot; height=&quot;868.16&quot; style=&quot;fill:none;stroke:#0000FF;stroke-opacity:0.40;stroke-width:8.64&quot;/&gt;\n",
       "\t&lt;rect x=&quot;868.23&quot; y=&quot;1792.95&quot; width=&quot;82.79&quot; height=&quot;518.40&quot; style=&quot;fill:#0000FF;fill-opacity:0.40&quot;/&gt;\n",
       "\t&lt;rect x=&quot;872.55&quot; y=&quot;1797.27&quot; width=&quot;74.15&quot; height=&quot;509.77&quot; style=&quot;fill:none;stroke:#0000FF;stroke-opacity:0.40;stroke-width:8.64&quot;/&gt;\n",
       "\t&lt;rect x=&quot;951.02&quot; y=&quot;1949.49&quot; width=&quot;82.91&quot; height=&quot;361.86&quot; style=&quot;fill:#0000FF;fill-opacity:0.40&quot;/&gt;\n",
       "\t&lt;rect x=&quot;955.34&quot; y=&quot;1953.81&quot; width=&quot;74.27&quot; height=&quot;353.22&quot; style=&quot;fill:none;stroke:#0000FF;stroke-opacity:0.40;stroke-width:8.64&quot;/&gt;\n",
       "\t&lt;rect x=&quot;1033.93&quot; y=&quot;2116.44&quot; width=&quot;82.79&quot; height=&quot;194.91&quot; style=&quot;fill:#0000FF;fill-opacity:0.40&quot;/&gt;\n",
       "\t&lt;rect x=&quot;1038.25&quot; y=&quot;2120.76&quot; width=&quot;74.15&quot; height=&quot;186.27&quot; style=&quot;fill:none;stroke:#0000FF;stroke-opacity:0.40;stroke-width:8.64&quot;/&gt;\n",
       "\t&lt;rect x=&quot;1116.72&quot; y=&quot;2203.44&quot; width=&quot;82.79&quot; height=&quot;107.91&quot; style=&quot;fill:#0000FF;fill-opacity:0.40&quot;/&gt;\n",
       "\t&lt;rect x=&quot;1121.04&quot; y=&quot;2207.76&quot; width=&quot;74.15&quot; height=&quot;99.27&quot; style=&quot;fill:none;stroke:#0000FF;stroke-opacity:0.40;stroke-width:8.64&quot;/&gt;\n",
       "\t&lt;rect x=&quot;1199.51&quot; y=&quot;2245.27&quot; width=&quot;82.79&quot; height=&quot;66.08&quot; style=&quot;fill:#0000FF;fill-opacity:0.40&quot;/&gt;\n",
       "\t&lt;rect x=&quot;1203.83&quot; y=&quot;2249.59&quot; width=&quot;74.15&quot; height=&quot;57.44&quot; style=&quot;fill:none;stroke:#0000FF;stroke-opacity:0.40;stroke-width:8.64&quot;/&gt;\n",
       "\t&lt;rect x=&quot;1282.30&quot; y=&quot;2255.66&quot; width=&quot;82.91&quot; height=&quot;55.69&quot; style=&quot;fill:#0000FF;fill-opacity:0.40&quot;/&gt;\n",
       "\t&lt;rect x=&quot;1286.62&quot; y=&quot;2259.98&quot; width=&quot;74.27&quot; height=&quot;47.05&quot; style=&quot;fill:none;stroke:#0000FF;stroke-opacity:0.40;stroke-width:8.64&quot;/&gt;\n",
       "\t&lt;rect x=&quot;1365.21&quot; y=&quot;2269.52&quot; width=&quot;82.79&quot; height=&quot;41.83&quot; style=&quot;fill:#0000FF;fill-opacity:0.40&quot;/&gt;\n",
       "\t&lt;rect x=&quot;1369.53&quot; y=&quot;2273.84&quot; width=&quot;74.15&quot; height=&quot;33.19&quot; style=&quot;fill:none;stroke:#0000FF;stroke-opacity:0.40;stroke-width:8.64&quot;/&gt;\n",
       "\t&lt;rect x=&quot;1448.00&quot; y=&quot;2283.51&quot; width=&quot;82.79&quot; height=&quot;27.84&quot; style=&quot;fill:#0000FF;fill-opacity:0.40&quot;/&gt;\n",
       "\t&lt;rect x=&quot;1452.32&quot; y=&quot;2287.83&quot; width=&quot;74.15&quot; height=&quot;19.20&quot; style=&quot;fill:none;stroke:#0000FF;stroke-opacity:0.40;stroke-width:8.64&quot;/&gt;\n",
       "\t&lt;rect x=&quot;1530.79&quot; y=&quot;2266.06&quot; width=&quot;82.79&quot; height=&quot;45.29&quot; style=&quot;fill:#0000FF;fill-opacity:0.40&quot;/&gt;\n",
       "\t&lt;rect x=&quot;1535.11&quot; y=&quot;2270.38&quot; width=&quot;74.15&quot; height=&quot;36.65&quot; style=&quot;fill:none;stroke:#0000FF;stroke-opacity:0.40;stroke-width:8.64&quot;/&gt;\n",
       "\t&lt;rect x=&quot;1613.58&quot; y=&quot;2297.37&quot; width=&quot;82.91&quot; height=&quot;13.98&quot; style=&quot;fill:#0000FF;fill-opacity:0.40&quot;/&gt;\n",
       "\t&lt;rect x=&quot;1617.90&quot; y=&quot;2301.69&quot; width=&quot;74.27&quot; height=&quot;5.34&quot; style=&quot;fill:none;stroke:#0000FF;stroke-opacity:0.40;stroke-width:8.64&quot;/&gt;\n",
       "\t&lt;rect x=&quot;1696.49&quot; y=&quot;2300.83&quot; width=&quot;82.79&quot; height=&quot;10.52&quot; style=&quot;fill:#0000FF;fill-opacity:0.40&quot;/&gt;\n",
       "\t&lt;rect x=&quot;1700.81&quot; y=&quot;2305.15&quot; width=&quot;74.15&quot; height=&quot;1.88&quot; style=&quot;fill:none;stroke:#0000FF;stroke-opacity:0.40;stroke-width:8.64&quot;/&gt;\n",
       "\t&lt;rect x=&quot;1779.28&quot; y=&quot;2290.44&quot; width=&quot;82.79&quot; height=&quot;20.91&quot; style=&quot;fill:#0000FF;fill-opacity:0.40&quot;/&gt;\n",
       "\t&lt;rect x=&quot;1783.60&quot; y=&quot;2294.76&quot; width=&quot;74.15&quot; height=&quot;12.27&quot; style=&quot;fill:none;stroke:#0000FF;stroke-opacity:0.40;stroke-width:8.64&quot;/&gt;\n",
       "\t&lt;rect x=&quot;1862.07&quot; y=&quot;2307.89&quot; width=&quot;82.79&quot; height=&quot;3.47&quot; style=&quot;fill:#0000FF;fill-opacity:0.40&quot;/&gt;\n",
       "\t&lt;rect x=&quot;1866.39&quot; y=&quot;2307.03&quot; width=&quot;74.15&quot; height=&quot;5.17&quot; style=&quot;fill:none;stroke:#0000FF;stroke-opacity:0.40;stroke-width:8.64&quot;/&gt;\n",
       "\t&lt;rect x=&quot;1944.86&quot; y=&quot;2307.89&quot; width=&quot;82.91&quot; height=&quot;3.47&quot; style=&quot;fill:#0000FF;fill-opacity:0.40&quot;/&gt;\n",
       "\t&lt;rect x=&quot;1949.17&quot; y=&quot;2307.03&quot; width=&quot;74.27&quot; height=&quot;5.17&quot; style=&quot;fill:none;stroke:#0000FF;stroke-opacity:0.40;stroke-width:8.64&quot;/&gt;\n",
       "\t&lt;rect x=&quot;2027.77&quot; y=&quot;2307.89&quot; width=&quot;82.79&quot; height=&quot;3.47&quot; style=&quot;fill:#0000FF;fill-opacity:0.40&quot;/&gt;\n",
       "\t&lt;rect x=&quot;2032.09&quot; y=&quot;2307.03&quot; width=&quot;74.15&quot; height=&quot;5.17&quot; style=&quot;fill:none;stroke:#0000FF;stroke-opacity:0.40;stroke-width:8.64&quot;/&gt;\n",
       "\t&lt;rect x=&quot;2110.56&quot; y=&quot;2304.30&quot; width=&quot;82.79&quot; height=&quot;7.05&quot; style=&quot;fill:#0000FF;fill-opacity:0.40&quot;/&gt;\n",
       "\t&lt;rect x=&quot;2114.88&quot; y=&quot;2307.03&quot; width=&quot;74.15&quot; height=&quot;1.59&quot; style=&quot;fill:none;stroke:#0000FF;stroke-opacity:0.40;stroke-width:8.64&quot;/&gt;\n",
       "\t&lt;rect x=&quot;2359.05&quot; y=&quot;2307.89&quot; width=&quot;82.79&quot; height=&quot;3.47&quot; style=&quot;fill:#0000FF;fill-opacity:0.40&quot;/&gt;\n",
       "\t&lt;rect x=&quot;2363.37&quot; y=&quot;2307.03&quot; width=&quot;74.15&quot; height=&quot;5.17&quot; style=&quot;fill:none;stroke:#0000FF;stroke-opacity:0.40;stroke-width:8.64&quot;/&gt;\n",
       "\t&lt;rect x=&quot;2607.41&quot; y=&quot;2307.89&quot; width=&quot;82.91&quot; height=&quot;3.47&quot; style=&quot;fill:#0000FF;fill-opacity:0.40&quot;/&gt;\n",
       "\t&lt;rect x=&quot;2611.73&quot; y=&quot;2307.03&quot; width=&quot;74.27&quot; height=&quot;5.17&quot; style=&quot;fill:none;stroke:#0000FF;stroke-opacity:0.40;stroke-width:8.64&quot;/&gt;\n",
       "\t&lt;rect x=&quot;3104.39&quot; y=&quot;2307.89&quot; width=&quot;82.79&quot; height=&quot;3.47&quot; style=&quot;fill:#0000FF;fill-opacity:0.40&quot;/&gt;\n",
       "\t&lt;rect x=&quot;3108.71&quot; y=&quot;2307.03&quot; width=&quot;74.15&quot; height=&quot;5.17&quot; style=&quot;fill:none;stroke:#0000FF;stroke-opacity:0.40;stroke-width:8.64&quot;/&gt;\n",
       "\t&lt;line x1=&quot;1456.66&quot; y1=&quot;779.15&quot; x2=&quot;1289.47&quot; y2=&quot;779.15&quot; style=&quot;stroke:#000000;stroke-width:8.64&quot;/&gt;\n",
       "\t&lt;line x1=&quot;1289.47&quot; y1=&quot;779.15&quot; x2=&quot;1328.09&quot; y2=&quot;758.12&quot; stroke-linecap=&quot;round&quot; style=&quot;stroke:#000000;stroke-width:8.64&quot;/&gt;\n",
       "\t&lt;line x1=&quot;1289.47&quot; y1=&quot;779.15&quot; x2=&quot;1328.09&quot; y2=&quot;800.19&quot; stroke-linecap=&quot;round&quot; style=&quot;stroke:#000000;stroke-width:8.64&quot;/&gt;\n",
       "\t&lt;text x=&quot;1572.49&quot; y=&quot;807.17&quot; style=&quot;font-family:&#x27;Helvetica&#x27;;font-size:79.94px;fill:#000000&quot; text-anchor=&quot;middle&quot;&gt;UCSD&lt;/text&gt;\n",
       "\t&lt;line x1=&quot;390.80&quot; y1=&quot;2374.71&quot; x2=&quot;390.80&quot; y2=&quot;275.35&quot; style=&quot;stroke:#000000;stroke-width:5.76&quot;/&gt;\n",
       "\t&lt;line x1=&quot;390.80&quot; y1=&quot;2311.35&quot; x2=&quot;350.83&quot; y2=&quot;2311.35&quot; style=&quot;stroke:#000000;stroke-width:5.76&quot;/&gt;\n",
       "\t&lt;text x=&quot;300.72&quot; y=&quot;2311.35&quot; style=&quot;font-family:&#x27;Helvetica&#x27;;font-size:99.99px;fill:#000000&quot; transform=&quot;rotate(-90 300.72,2311.35)&quot; text-anchor=&quot;middle&quot;&gt;0&lt;/text&gt;\n",
       "\t&lt;line x1=&quot;390.80&quot; y1=&quot;1928.33&quot; x2=&quot;350.83&quot; y2=&quot;1928.33&quot; style=&quot;stroke:#000000;stroke-width:5.76&quot;/&gt;\n",
       "\t&lt;text x=&quot;300.72&quot; y=&quot;1928.33&quot; style=&quot;font-family:&#x27;Helvetica&#x27;;font-size:99.99px;fill:#000000&quot; transform=&quot;rotate(-90 300.72,1928.33)&quot; text-anchor=&quot;middle&quot;&gt;.05&lt;/text&gt;\n",
       "\t&lt;line x1=&quot;390.80&quot; y1=&quot;1545.19&quot; x2=&quot;350.83&quot; y2=&quot;1545.19&quot; style=&quot;stroke:#000000;stroke-width:5.76&quot;/&gt;\n",
       "\t&lt;text x=&quot;300.72&quot; y=&quot;1545.19&quot; style=&quot;font-family:&#x27;Helvetica&#x27;;font-size:99.99px;fill:#000000&quot; transform=&quot;rotate(-90 300.72,1545.19)&quot; text-anchor=&quot;middle&quot;&gt;.1&lt;/text&gt;\n",
       "\t&lt;line x1=&quot;390.80&quot; y1=&quot;1162.17&quot; x2=&quot;350.83&quot; y2=&quot;1162.17&quot; style=&quot;stroke:#000000;stroke-width:5.76&quot;/&gt;\n",
       "\t&lt;text x=&quot;300.72&quot; y=&quot;1162.17&quot; style=&quot;font-family:&#x27;Helvetica&#x27;;font-size:99.99px;fill:#000000&quot; transform=&quot;rotate(-90 300.72,1162.17)&quot; text-anchor=&quot;middle&quot;&gt;.15&lt;/text&gt;\n",
       "\t&lt;line x1=&quot;390.80&quot; y1=&quot;779.15&quot; x2=&quot;350.83&quot; y2=&quot;779.15&quot; style=&quot;stroke:#000000;stroke-width:5.76&quot;/&gt;\n",
       "\t&lt;text x=&quot;300.72&quot; y=&quot;779.15&quot; style=&quot;font-family:&#x27;Helvetica&#x27;;font-size:99.99px;fill:#000000&quot; transform=&quot;rotate(-90 300.72,779.15)&quot; text-anchor=&quot;middle&quot;&gt;.2&lt;/text&gt;\n",
       "\t&lt;line x1=&quot;390.80&quot; y1=&quot;396.14&quot; x2=&quot;350.83&quot; y2=&quot;396.14&quot; style=&quot;stroke:#000000;stroke-width:5.76&quot;/&gt;\n",
       "\t&lt;text x=&quot;300.72&quot; y=&quot;396.14&quot; style=&quot;font-family:&#x27;Helvetica&#x27;;font-size:99.99px;fill:#000000&quot; transform=&quot;rotate(-90 300.72,396.14)&quot; text-anchor=&quot;middle&quot;&gt;.25&lt;/text&gt;\n",
       "\t&lt;text x=&quot;190.71&quot; y=&quot;1325.03&quot; style=&quot;font-family:&#x27;Helvetica&#x27;;font-size:99.99px;fill:#000000&quot; transform=&quot;rotate(-90 190.71,1325.03)&quot; text-anchor=&quot;middle&quot;&gt;Fraction of Colleges in Bin&lt;/text&gt;\n",
       "\t&lt;line x1=&quot;390.80&quot; y1=&quot;2374.71&quot; x2=&quot;3859.02&quot; y2=&quot;2374.71&quot; style=&quot;stroke:#000000;stroke-width:5.76&quot;/&gt;\n",
       "\t&lt;line x1=&quot;454.16&quot; y1=&quot;2374.71&quot; x2=&quot;454.16&quot; y2=&quot;2414.69&quot; style=&quot;stroke:#000000;stroke-width:5.76&quot;/&gt;\n",
       "\t&lt;text x=&quot;454.16&quot; y=&quot;2504.54&quot; style=&quot;font-family:&#x27;Helvetica&#x27;;font-size:99.99px;fill:#000000&quot; text-anchor=&quot;middle&quot;&gt;0&lt;/text&gt;\n",
       "\t&lt;line x1=&quot;788.29&quot; y1=&quot;2374.71&quot; x2=&quot;788.29&quot; y2=&quot;2414.69&quot; style=&quot;stroke:#000000;stroke-width:5.76&quot;/&gt;\n",
       "\t&lt;text x=&quot;788.29&quot; y=&quot;2504.54&quot; style=&quot;font-family:&#x27;Helvetica&#x27;;font-size:99.99px;fill:#000000&quot; text-anchor=&quot;middle&quot;&gt;.02&lt;/text&gt;\n",
       "\t&lt;line x1=&quot;1122.41&quot; y1=&quot;2374.71&quot; x2=&quot;1122.41&quot; y2=&quot;2414.69&quot; style=&quot;stroke:#000000;stroke-width:5.76&quot;/&gt;\n",
       "\t&lt;text x=&quot;1122.41&quot; y=&quot;2504.54&quot; style=&quot;font-family:&#x27;Helvetica&#x27;;font-size:99.99px;fill:#000000&quot; text-anchor=&quot;middle&quot;&gt;.04&lt;/text&gt;\n",
       "\t&lt;line x1=&quot;1456.66&quot; y1=&quot;2374.71&quot; x2=&quot;1456.66&quot; y2=&quot;2414.69&quot; style=&quot;stroke:#000000;stroke-width:5.76&quot;/&gt;\n",
       "\t&lt;text x=&quot;1456.66&quot; y=&quot;2504.54&quot; style=&quot;font-family:&#x27;Helvetica&#x27;;font-size:99.99px;fill:#000000&quot; text-anchor=&quot;middle&quot;&gt;.06&lt;/text&gt;\n",
       "\t&lt;line x1=&quot;1790.79&quot; y1=&quot;2374.71&quot; x2=&quot;1790.79&quot; y2=&quot;2414.69&quot; style=&quot;stroke:#000000;stroke-width:5.76&quot;/&gt;\n",
       "\t&lt;text x=&quot;1790.79&quot; y=&quot;2504.54&quot; style=&quot;font-family:&#x27;Helvetica&#x27;;font-size:99.99px;fill:#000000&quot; text-anchor=&quot;middle&quot;&gt;.08&lt;/text&gt;\n",
       "\t&lt;line x1=&quot;2124.91&quot; y1=&quot;2374.71&quot; x2=&quot;2124.91&quot; y2=&quot;2414.69&quot; style=&quot;stroke:#000000;stroke-width:5.76&quot;/&gt;\n",
       "\t&lt;text x=&quot;2124.91&quot; y=&quot;2504.54&quot; style=&quot;font-family:&#x27;Helvetica&#x27;;font-size:99.99px;fill:#000000&quot; text-anchor=&quot;middle&quot;&gt;.1&lt;/text&gt;\n",
       "\t&lt;line x1=&quot;2459.04&quot; y1=&quot;2374.71&quot; x2=&quot;2459.04&quot; y2=&quot;2414.69&quot; style=&quot;stroke:#000000;stroke-width:5.76&quot;/&gt;\n",
       "\t&lt;text x=&quot;2459.04&quot; y=&quot;2504.54&quot; style=&quot;font-family:&#x27;Helvetica&#x27;;font-size:99.99px;fill:#000000&quot; text-anchor=&quot;middle&quot;&gt;.12&lt;/text&gt;\n",
       "\t&lt;line x1=&quot;2793.28&quot; y1=&quot;2374.71&quot; x2=&quot;2793.28&quot; y2=&quot;2414.69&quot; style=&quot;stroke:#000000;stroke-width:5.76&quot;/&gt;\n",
       "\t&lt;text x=&quot;2793.28&quot; y=&quot;2504.54&quot; style=&quot;font-family:&#x27;Helvetica&#x27;;font-size:99.99px;fill:#000000&quot; text-anchor=&quot;middle&quot;&gt;.14&lt;/text&gt;\n",
       "\t&lt;line x1=&quot;3127.41&quot; y1=&quot;2374.71&quot; x2=&quot;3127.41&quot; y2=&quot;2414.69&quot; style=&quot;stroke:#000000;stroke-width:5.76&quot;/&gt;\n",
       "\t&lt;text x=&quot;3127.41&quot; y=&quot;2504.54&quot; style=&quot;font-family:&#x27;Helvetica&#x27;;font-size:99.99px;fill:#000000&quot; text-anchor=&quot;middle&quot;&gt;.16&lt;/text&gt;\n",
       "\t&lt;line x1=&quot;3461.53&quot; y1=&quot;2374.71&quot; x2=&quot;3461.53&quot; y2=&quot;2414.69&quot; style=&quot;stroke:#000000;stroke-width:5.76&quot;/&gt;\n",
       "\t&lt;text x=&quot;3461.53&quot; y=&quot;2504.54&quot; style=&quot;font-family:&#x27;Helvetica&#x27;;font-size:99.99px;fill:#000000&quot; text-anchor=&quot;middle&quot;&gt;.18&lt;/text&gt;\n",
       "\t&lt;line x1=&quot;3795.66&quot; y1=&quot;2374.71&quot; x2=&quot;3795.66&quot; y2=&quot;2414.69&quot; style=&quot;stroke:#000000;stroke-width:5.76&quot;/&gt;\n",
       "\t&lt;text x=&quot;3795.66&quot; y=&quot;2504.54&quot; style=&quot;font-family:&#x27;Helvetica&#x27;;font-size:99.99px;fill:#000000&quot; text-anchor=&quot;middle&quot;&gt;.2&lt;/text&gt;\n",
       "\t&lt;text x=&quot;2124.91&quot; y=&quot;2614.56&quot; style=&quot;font-family:&#x27;Helvetica&#x27;;font-size:99.99px;fill:#000000&quot; text-anchor=&quot;middle&quot;&gt;Mobility Rate&lt;/text&gt;\n",
       "\t&lt;text x=&quot;408.00&quot; y=&quot;2737.89&quot; style=&quot;font-family:&#x27;Helvetica&#x27;;font-size:79.94px;fill:#000000&quot;&gt;Source: Opportunity Insights&lt;/text&gt;\n",
       "\t&lt;text x=&quot;2124.91&quot; y=&quot;215.98&quot; style=&quot;font-family:&#x27;Helvetica&#x27;;font-size:139.96px;fill:#1E2D53&quot; text-anchor=&quot;middle&quot;&gt;Distribution of Mobility Rates across U.S. Colleges&lt;/text&gt;\n",
       "&lt;/svg&gt;\n",
       "</body></html>\"></iframe>\n"
      ],
      "text/plain": [
       "This front-end cannot display the desired image type."
      ]
     },
     "metadata": {
      "image/svg+xml": {
       "height": 436,
       "width": 600
      },
      "text/html": {
       "height": 436,
       "width": 600
      }
     },
     "output_type": "display_data"
    }
   ],
   "source": [
    "graph twoway histogram mobility_rate, frac color(blue%40) ///\n",
    "    || pcarrowi 0.2 0.06 0.2 0.05, lc(black) mcolor(black) ///\n",
    "    text(0.2 0.06 \"UCSD\"  , place(e) size(small) color(black) ) /// \n",
    "    xline(0.0483275, lc(black) lp(dash)) ///\n",
    "    xlabel(0(0.02)0.2) ///\n",
    "    title(\"Distribution of Mobility Rates across U.S. Colleges\") ///\n",
    "    xtitle(\"Mobility Rate\") ///\n",
    "    ytitle(\"Fraction of Colleges in Bin\") ///\n",
    "    note(\"Source: Opportunity Insights\") ///\n",
    "    legend(off) ///\n",
    "    graphregion(color(white) fcolor(white)) "
   ]
  },
  {
   "cell_type": "markdown",
   "metadata": {
    "slideshow": {
     "slide_type": "skip"
    }
   },
   "source": [
    "Ok so that was a lot of changes. Let's go through it one at a time.\n",
    "<ul>\n",
    "<li>Line 1: \"color(blue%40)\" changed the color of the histogram. The \"%40\" will make the bars translucent. This isn't really so helpful here, but occasionally you will see pictures with two overlaid histograms. It is easier to see both if you make them translucent.\n",
    "\n",
    "<li>Line 2: This adds an arrow to the graph that starts at (y1,x1) = (40, 0.06) and ends at the point (y2,x2) = (40, 0.05). The options \"lc(black)\" make the line part of the arrow black and the option \"mcolor(black)\" makes the head of the arrow black.\n",
    "\n",
    "<li>Line 3: This adds the text \"UCSD\" to the point in the graph (y,x) = (40, 0.06). the option \"place(e)\" adjusts the location of the text just east of (40,0.06). The \"size(small)\" option changes the font to a smaller smize, and lastly \"color(black)\" makes the text of the word black.\n",
    "\n",
    "<li>Line 4: This defines how the x-axis will appear. \"0(0.02).02\" tells STATA to make the x-axis go from 0 to 0.2 in increments of 0.02.\n",
    "\n",
    "<li>Line 5: This gives the graph a descriptive title.\n",
    "\n",
    "<li>Line 6 & 7: Titles the x and y-axis.\n",
    "\n",
    "<li>Line 8: Adds a footnote to the graph.\n",
    "\n",
    "<li>Line 9: Turns the legend off. Sometimes you will want a legend. For example, if there are multiple line plots or multiple histograms, you should give a clear label to each. In this case there is only a single histogram and I've already labelled it in the title.\n",
    "\n",
    "<li>Line 10: This changes the background of the plot so that it is white instead of the light blue.\n",
    "<ul>\n"
   ]
  },
  {
   "cell_type": "markdown",
   "metadata": {
    "scrolled": true,
    "slideshow": {
     "slide_type": "slide"
    }
   },
   "source": [
    "## Conclusion\n",
    "\n",
    "Now you should know how to:\n",
    "<ul>\n",
    "    <li> Set up a do-file in STATA\n",
    "    <li> Load data and calculate basic summary statistics\n",
    "    <li> Generate new variables\n",
    "    <li> Produce simple graphics\n",
    "</ul>"
   ]
  }
 ],
 "metadata": {
  "celltoolbar": "Slideshow",
  "kernelspec": {
   "display_name": "Stata",
   "language": "stata",
   "name": "stata"
  },
  "language_info": {
   "codemirror_mode": "stata",
   "file_extension": ".do",
   "mimetype": "text/x-stata",
   "name": "stata",
   "version": "15.1"
  }
 },
 "nbformat": 4,
 "nbformat_minor": 4
}
